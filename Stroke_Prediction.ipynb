{
  "nbformat": 4,
  "nbformat_minor": 0,
  "metadata": {
    "colab": {
      "name": "Stroke Prediction",
      "provenance": [],
      "collapsed_sections": [],
      "authorship_tag": "ABX9TyMJr1rGMfmTCRRtrG4moXqq",
      "include_colab_link": true
    },
    "kernelspec": {
      "name": "python3",
      "display_name": "Python 3"
    },
    "language_info": {
      "name": "python"
    }
  },
  "cells": [
    {
      "cell_type": "markdown",
      "metadata": {
        "id": "view-in-github",
        "colab_type": "text"
      },
      "source": [
        "<a href=\"https://colab.research.google.com/github/abhi-11nav/Brain-stroke-prediction/blob/main/Stroke_Prediction.ipynb\" target=\"_parent\"><img src=\"https://colab.research.google.com/assets/colab-badge.svg\" alt=\"Open In Colab\"/></a>"
      ]
    },
    {
      "cell_type": "markdown",
      "source": [
        "## Dataset credits \n",
        "\n",
        "https://www.kaggle.com/datasets/zzettrkalpakbal/full-filled-brain-stroke-dataset\n",
        "\n",
        "\n"
      ],
      "metadata": {
        "id": "EIpgXVyfyxbB"
      }
    },
    {
      "cell_type": "code",
      "execution_count": 1,
      "metadata": {
        "id": "ZiKsCkdLSkdd"
      },
      "outputs": [],
      "source": [
        "import pandas as pd\n",
        "import numpy as np "
      ]
    },
    {
      "cell_type": "code",
      "source": [
        "link_1 = \"https://raw.githubusercontent.com/abhi-11nav/Brain-stroke-prediction/main/full_data.csv\""
      ],
      "metadata": {
        "id": "FPFkZqvFVHnj"
      },
      "execution_count": 2,
      "outputs": []
    },
    {
      "cell_type": "code",
      "source": [
        "dataset = pd.read_csv(link_1)"
      ],
      "metadata": {
        "id": "UXnsfcd2zzfd"
      },
      "execution_count": 3,
      "outputs": []
    },
    {
      "cell_type": "code",
      "source": [
        "dataset.head()"
      ],
      "metadata": {
        "colab": {
          "base_uri": "https://localhost:8080/",
          "height": 204
        },
        "id": "ZsatitQxz1-Y",
        "outputId": "664cb37c-62fb-4bbb-a3ce-cb60abd84c5d"
      },
      "execution_count": 4,
      "outputs": [
        {
          "output_type": "execute_result",
          "data": {
            "text/plain": [
              "   gender   age  hypertension  heart_disease ever_married      work_type  \\\n",
              "0    Male  67.0             0              1          Yes        Private   \n",
              "1    Male  80.0             0              1          Yes        Private   \n",
              "2  Female  49.0             0              0          Yes        Private   \n",
              "3  Female  79.0             1              0          Yes  Self-employed   \n",
              "4    Male  81.0             0              0          Yes        Private   \n",
              "\n",
              "  Residence_type  avg_glucose_level   bmi   smoking_status  stroke  \n",
              "0          Urban             228.69  36.6  formerly smoked       1  \n",
              "1          Rural             105.92  32.5     never smoked       1  \n",
              "2          Urban             171.23  34.4           smokes       1  \n",
              "3          Rural             174.12  24.0     never smoked       1  \n",
              "4          Urban             186.21  29.0  formerly smoked       1  "
            ],
            "text/html": [
              "\n",
              "  <div id=\"df-7e6ec0bc-d568-463c-9ccf-791998b8ae00\">\n",
              "    <div class=\"colab-df-container\">\n",
              "      <div>\n",
              "<style scoped>\n",
              "    .dataframe tbody tr th:only-of-type {\n",
              "        vertical-align: middle;\n",
              "    }\n",
              "\n",
              "    .dataframe tbody tr th {\n",
              "        vertical-align: top;\n",
              "    }\n",
              "\n",
              "    .dataframe thead th {\n",
              "        text-align: right;\n",
              "    }\n",
              "</style>\n",
              "<table border=\"1\" class=\"dataframe\">\n",
              "  <thead>\n",
              "    <tr style=\"text-align: right;\">\n",
              "      <th></th>\n",
              "      <th>gender</th>\n",
              "      <th>age</th>\n",
              "      <th>hypertension</th>\n",
              "      <th>heart_disease</th>\n",
              "      <th>ever_married</th>\n",
              "      <th>work_type</th>\n",
              "      <th>Residence_type</th>\n",
              "      <th>avg_glucose_level</th>\n",
              "      <th>bmi</th>\n",
              "      <th>smoking_status</th>\n",
              "      <th>stroke</th>\n",
              "    </tr>\n",
              "  </thead>\n",
              "  <tbody>\n",
              "    <tr>\n",
              "      <th>0</th>\n",
              "      <td>Male</td>\n",
              "      <td>67.0</td>\n",
              "      <td>0</td>\n",
              "      <td>1</td>\n",
              "      <td>Yes</td>\n",
              "      <td>Private</td>\n",
              "      <td>Urban</td>\n",
              "      <td>228.69</td>\n",
              "      <td>36.6</td>\n",
              "      <td>formerly smoked</td>\n",
              "      <td>1</td>\n",
              "    </tr>\n",
              "    <tr>\n",
              "      <th>1</th>\n",
              "      <td>Male</td>\n",
              "      <td>80.0</td>\n",
              "      <td>0</td>\n",
              "      <td>1</td>\n",
              "      <td>Yes</td>\n",
              "      <td>Private</td>\n",
              "      <td>Rural</td>\n",
              "      <td>105.92</td>\n",
              "      <td>32.5</td>\n",
              "      <td>never smoked</td>\n",
              "      <td>1</td>\n",
              "    </tr>\n",
              "    <tr>\n",
              "      <th>2</th>\n",
              "      <td>Female</td>\n",
              "      <td>49.0</td>\n",
              "      <td>0</td>\n",
              "      <td>0</td>\n",
              "      <td>Yes</td>\n",
              "      <td>Private</td>\n",
              "      <td>Urban</td>\n",
              "      <td>171.23</td>\n",
              "      <td>34.4</td>\n",
              "      <td>smokes</td>\n",
              "      <td>1</td>\n",
              "    </tr>\n",
              "    <tr>\n",
              "      <th>3</th>\n",
              "      <td>Female</td>\n",
              "      <td>79.0</td>\n",
              "      <td>1</td>\n",
              "      <td>0</td>\n",
              "      <td>Yes</td>\n",
              "      <td>Self-employed</td>\n",
              "      <td>Rural</td>\n",
              "      <td>174.12</td>\n",
              "      <td>24.0</td>\n",
              "      <td>never smoked</td>\n",
              "      <td>1</td>\n",
              "    </tr>\n",
              "    <tr>\n",
              "      <th>4</th>\n",
              "      <td>Male</td>\n",
              "      <td>81.0</td>\n",
              "      <td>0</td>\n",
              "      <td>0</td>\n",
              "      <td>Yes</td>\n",
              "      <td>Private</td>\n",
              "      <td>Urban</td>\n",
              "      <td>186.21</td>\n",
              "      <td>29.0</td>\n",
              "      <td>formerly smoked</td>\n",
              "      <td>1</td>\n",
              "    </tr>\n",
              "  </tbody>\n",
              "</table>\n",
              "</div>\n",
              "      <button class=\"colab-df-convert\" onclick=\"convertToInteractive('df-7e6ec0bc-d568-463c-9ccf-791998b8ae00')\"\n",
              "              title=\"Convert this dataframe to an interactive table.\"\n",
              "              style=\"display:none;\">\n",
              "        \n",
              "  <svg xmlns=\"http://www.w3.org/2000/svg\" height=\"24px\"viewBox=\"0 0 24 24\"\n",
              "       width=\"24px\">\n",
              "    <path d=\"M0 0h24v24H0V0z\" fill=\"none\"/>\n",
              "    <path d=\"M18.56 5.44l.94 2.06.94-2.06 2.06-.94-2.06-.94-.94-2.06-.94 2.06-2.06.94zm-11 1L8.5 8.5l.94-2.06 2.06-.94-2.06-.94L8.5 2.5l-.94 2.06-2.06.94zm10 10l.94 2.06.94-2.06 2.06-.94-2.06-.94-.94-2.06-.94 2.06-2.06.94z\"/><path d=\"M17.41 7.96l-1.37-1.37c-.4-.4-.92-.59-1.43-.59-.52 0-1.04.2-1.43.59L10.3 9.45l-7.72 7.72c-.78.78-.78 2.05 0 2.83L4 21.41c.39.39.9.59 1.41.59.51 0 1.02-.2 1.41-.59l7.78-7.78 2.81-2.81c.8-.78.8-2.07 0-2.86zM5.41 20L4 18.59l7.72-7.72 1.47 1.35L5.41 20z\"/>\n",
              "  </svg>\n",
              "      </button>\n",
              "      \n",
              "  <style>\n",
              "    .colab-df-container {\n",
              "      display:flex;\n",
              "      flex-wrap:wrap;\n",
              "      gap: 12px;\n",
              "    }\n",
              "\n",
              "    .colab-df-convert {\n",
              "      background-color: #E8F0FE;\n",
              "      border: none;\n",
              "      border-radius: 50%;\n",
              "      cursor: pointer;\n",
              "      display: none;\n",
              "      fill: #1967D2;\n",
              "      height: 32px;\n",
              "      padding: 0 0 0 0;\n",
              "      width: 32px;\n",
              "    }\n",
              "\n",
              "    .colab-df-convert:hover {\n",
              "      background-color: #E2EBFA;\n",
              "      box-shadow: 0px 1px 2px rgba(60, 64, 67, 0.3), 0px 1px 3px 1px rgba(60, 64, 67, 0.15);\n",
              "      fill: #174EA6;\n",
              "    }\n",
              "\n",
              "    [theme=dark] .colab-df-convert {\n",
              "      background-color: #3B4455;\n",
              "      fill: #D2E3FC;\n",
              "    }\n",
              "\n",
              "    [theme=dark] .colab-df-convert:hover {\n",
              "      background-color: #434B5C;\n",
              "      box-shadow: 0px 1px 3px 1px rgba(0, 0, 0, 0.15);\n",
              "      filter: drop-shadow(0px 1px 2px rgba(0, 0, 0, 0.3));\n",
              "      fill: #FFFFFF;\n",
              "    }\n",
              "  </style>\n",
              "\n",
              "      <script>\n",
              "        const buttonEl =\n",
              "          document.querySelector('#df-7e6ec0bc-d568-463c-9ccf-791998b8ae00 button.colab-df-convert');\n",
              "        buttonEl.style.display =\n",
              "          google.colab.kernel.accessAllowed ? 'block' : 'none';\n",
              "\n",
              "        async function convertToInteractive(key) {\n",
              "          const element = document.querySelector('#df-7e6ec0bc-d568-463c-9ccf-791998b8ae00');\n",
              "          const dataTable =\n",
              "            await google.colab.kernel.invokeFunction('convertToInteractive',\n",
              "                                                     [key], {});\n",
              "          if (!dataTable) return;\n",
              "\n",
              "          const docLinkHtml = 'Like what you see? Visit the ' +\n",
              "            '<a target=\"_blank\" href=https://colab.research.google.com/notebooks/data_table.ipynb>data table notebook</a>'\n",
              "            + ' to learn more about interactive tables.';\n",
              "          element.innerHTML = '';\n",
              "          dataTable['output_type'] = 'display_data';\n",
              "          await google.colab.output.renderOutput(dataTable, element);\n",
              "          const docLink = document.createElement('div');\n",
              "          docLink.innerHTML = docLinkHtml;\n",
              "          element.appendChild(docLink);\n",
              "        }\n",
              "      </script>\n",
              "    </div>\n",
              "  </div>\n",
              "  "
            ]
          },
          "metadata": {},
          "execution_count": 4
        }
      ]
    },
    {
      "cell_type": "code",
      "source": [
        "dataset.isna().any()"
      ],
      "metadata": {
        "colab": {
          "base_uri": "https://localhost:8080/"
        },
        "id": "dLpkQXsBz40A",
        "outputId": "405f695d-17ab-4f09-a0fb-f1759c4e418f"
      },
      "execution_count": 5,
      "outputs": [
        {
          "output_type": "execute_result",
          "data": {
            "text/plain": [
              "gender               False\n",
              "age                  False\n",
              "hypertension         False\n",
              "heart_disease        False\n",
              "ever_married         False\n",
              "work_type            False\n",
              "Residence_type       False\n",
              "avg_glucose_level    False\n",
              "bmi                  False\n",
              "smoking_status       False\n",
              "stroke               False\n",
              "dtype: bool"
            ]
          },
          "metadata": {},
          "execution_count": 5
        }
      ]
    },
    {
      "cell_type": "code",
      "source": [
        "dataset.shape"
      ],
      "metadata": {
        "colab": {
          "base_uri": "https://localhost:8080/"
        },
        "id": "RvRv3Qbj0JyY",
        "outputId": "cb3a7ce4-43df-46e5-b092-505b1dae6325"
      },
      "execution_count": 6,
      "outputs": [
        {
          "output_type": "execute_result",
          "data": {
            "text/plain": [
              "(4981, 11)"
            ]
          },
          "metadata": {},
          "execution_count": 6
        }
      ]
    },
    {
      "cell_type": "code",
      "source": [
        "import seaborn as sns\n",
        "import matplotlib.pyplot as plt \n",
        "%matplotlib inline "
      ],
      "metadata": {
        "id": "NLrFlnjo9JRY"
      },
      "execution_count": 7,
      "outputs": []
    },
    {
      "cell_type": "code",
      "source": [
        "# Let us plot correlations for features in the dataset\n",
        "\n",
        "sns.heatmap(dataset.corr(), annot=True)"
      ],
      "metadata": {
        "colab": {
          "base_uri": "https://localhost:8080/",
          "height": 367
        },
        "id": "LMRaf4oa0LNN",
        "outputId": "341c2858-dd74-416b-e955-f6fc0cfe4072"
      },
      "execution_count": 8,
      "outputs": [
        {
          "output_type": "execute_result",
          "data": {
            "text/plain": [
              "<matplotlib.axes._subplots.AxesSubplot at 0x7f03833d1a50>"
            ]
          },
          "metadata": {},
          "execution_count": 8
        },
        {
          "output_type": "display_data",
          "data": {
            "text/plain": [
              "<Figure size 432x288 with 2 Axes>"
            ],
            "image/png": "[encoded data removed]"
          },
          "metadata": {
            "needs_background": "light"
          }
        }
      ]
    },
    {
      "cell_type": "markdown",
      "source": [
        "We can say that there is no significant corrleation between features. So, there is nothing concerning"
      ],
      "metadata": {
        "id": "GpX89ICt9Zjg"
      }
    },
    {
      "cell_type": "markdown",
      "source": [
        "# Data visualization"
      ],
      "metadata": {
        "id": "hBYtfZKK95nE"
      }
    },
    {
      "cell_type": "code",
      "source": [
        "# Distribution of age feature \n",
        "\n",
        "sns.distplot(dataset[\"age\"])"
      ],
      "metadata": {
        "colab": {
          "base_uri": "https://localhost:8080/",
          "height": 350
        },
        "id": "7Kg4-Ye50NNT",
        "outputId": "cef200b2-f0dc-4984-b99c-f108b37ae4df"
      },
      "execution_count": 9,
      "outputs": [
        {
          "output_type": "stream",
          "name": "stderr",
          "text": [
            "/usr/local/lib/python3.7/dist-packages/seaborn/distributions.py:2619: FutureWarning: `distplot` is a deprecated function and will be removed in a future version. Please adapt your code to use either `displot` (a figure-level function with similar flexibility) or `histplot` (an axes-level function for histograms).\n",
            "  warnings.warn(msg, FutureWarning)\n"
          ]
        },
        {
          "output_type": "execute_result",
          "data": {
            "text/plain": [
              "<matplotlib.axes._subplots.AxesSubplot at 0x7f0380567650>"
            ]
          },
          "metadata": {},
          "execution_count": 9
        },
        {
          "output_type": "display_data",
          "data": {
            "text/plain": [
              "<Figure size 432x288 with 1 Axes>"
            ],
            "image/png": "[encoded data removed]"
          },
          "metadata": {
            "needs_background": "light"
          }
        }
      ]
    },
    {
      "cell_type": "markdown",
      "source": [
        "### Observation\n",
        "\n",
        "The dataset somewhat resembles normal distribution . We will explore this later "
      ],
      "metadata": {
        "id": "Scxw70Dk_5zK"
      }
    },
    {
      "cell_type": "code",
      "source": [
        "sns.distplot(dataset[\"avg_glucose_level\"])"
      ],
      "metadata": {
        "colab": {
          "base_uri": "https://localhost:8080/",
          "height": 351
        },
        "id": "IV14I5nm95LH",
        "outputId": "e66c2310-9237-4bb8-9b86-6b0c18d4f9b2"
      },
      "execution_count": 10,
      "outputs": [
        {
          "output_type": "stream",
          "name": "stderr",
          "text": [
            "/usr/local/lib/python3.7/dist-packages/seaborn/distributions.py:2619: FutureWarning: `distplot` is a deprecated function and will be removed in a future version. Please adapt your code to use either `displot` (a figure-level function with similar flexibility) or `histplot` (an axes-level function for histograms).\n",
            "  warnings.warn(msg, FutureWarning)\n"
          ]
        },
        {
          "output_type": "execute_result",
          "data": {
            "text/plain": [
              "<matplotlib.axes._subplots.AxesSubplot at 0x7f03804c0c50>"
            ]
          },
          "metadata": {},
          "execution_count": 10
        },
        {
          "output_type": "display_data",
          "data": {
            "text/plain": [
              "<Figure size 432x288 with 1 Axes>"
            ],
            "image/png": "[encoded data removed]"
          },
          "metadata": {
            "needs_background": "light"
          }
        }
      ]
    },
    {
      "cell_type": "markdown",
      "source": [
        "### Observation\n",
        "\n",
        "Skewed to the right "
      ],
      "metadata": {
        "id": "KmLxQk17_iyi"
      }
    },
    {
      "cell_type": "code",
      "source": [
        "sns.distplot(dataset[\"bmi\"])"
      ],
      "metadata": {
        "colab": {
          "base_uri": "https://localhost:8080/",
          "height": 350
        },
        "id": "ovo5_uy09Sid",
        "outputId": "d0420de6-914a-4355-f667-1403d86b6d75"
      },
      "execution_count": 11,
      "outputs": [
        {
          "output_type": "stream",
          "name": "stderr",
          "text": [
            "/usr/local/lib/python3.7/dist-packages/seaborn/distributions.py:2619: FutureWarning: `distplot` is a deprecated function and will be removed in a future version. Please adapt your code to use either `displot` (a figure-level function with similar flexibility) or `histplot` (an axes-level function for histograms).\n",
            "  warnings.warn(msg, FutureWarning)\n"
          ]
        },
        {
          "output_type": "execute_result",
          "data": {
            "text/plain": [
              "<matplotlib.axes._subplots.AxesSubplot at 0x7f03803b7350>"
            ]
          },
          "metadata": {},
          "execution_count": 11
        },
        {
          "output_type": "display_data",
          "data": {
            "text/plain": [
              "<Figure size 432x288 with 1 Axes>"
            ],
            "image/png": "[encoded data removed]"
          },
          "metadata": {
            "needs_background": "light"
          }
        }
      ]
    },
    {
      "cell_type": "markdown",
      "source": [
        "### Observation\n",
        "\n",
        "This feature data values follow a normal distribution "
      ],
      "metadata": {
        "id": "hzlJq8Tv_nD7"
      }
    },
    {
      "cell_type": "code",
      "source": [
        "dataset.head()"
      ],
      "metadata": {
        "colab": {
          "base_uri": "https://localhost:8080/",
          "height": 204
        },
        "id": "zbXnCMbv_dqa",
        "outputId": "3459e8e0-b5c1-4378-b176-64b3686f947e"
      },
      "execution_count": 12,
      "outputs": [
        {
          "output_type": "execute_result",
          "data": {
            "text/plain": [
              "   gender   age  hypertension  heart_disease ever_married      work_type  \\\n",
              "0    Male  67.0             0              1          Yes        Private   \n",
              "1    Male  80.0             0              1          Yes        Private   \n",
              "2  Female  49.0             0              0          Yes        Private   \n",
              "3  Female  79.0             1              0          Yes  Self-employed   \n",
              "4    Male  81.0             0              0          Yes        Private   \n",
              "\n",
              "  Residence_type  avg_glucose_level   bmi   smoking_status  stroke  \n",
              "0          Urban             228.69  36.6  formerly smoked       1  \n",
              "1          Rural             105.92  32.5     never smoked       1  \n",
              "2          Urban             171.23  34.4           smokes       1  \n",
              "3          Rural             174.12  24.0     never smoked       1  \n",
              "4          Urban             186.21  29.0  formerly smoked       1  "
            ],
            "text/html": [
              "\n",
              "  <div id=\"df-542468fd-a71f-4169-b1bd-f29809419a03\">\n",
              "    <div class=\"colab-df-container\">\n",
              "      <div>\n",
              "<style scoped>\n",
              "    .dataframe tbody tr th:only-of-type {\n",
              "        vertical-align: middle;\n",
              "    }\n",
              "\n",
              "    .dataframe tbody tr th {\n",
              "        vertical-align: top;\n",
              "    }\n",
              "\n",
              "    .dataframe thead th {\n",
              "        text-align: right;\n",
              "    }\n",
              "</style>\n",
              "<table border=\"1\" class=\"dataframe\">\n",
              "  <thead>\n",
              "    <tr style=\"text-align: right;\">\n",
              "      <th></th>\n",
              "      <th>gender</th>\n",
              "      <th>age</th>\n",
              "      <th>hypertension</th>\n",
              "      <th>heart_disease</th>\n",
              "      <th>ever_married</th>\n",
              "      <th>work_type</th>\n",
              "      <th>Residence_type</th>\n",
              "      <th>avg_glucose_level</th>\n",
              "      <th>bmi</th>\n",
              "      <th>smoking_status</th>\n",
              "      <th>stroke</th>\n",
              "    </tr>\n",
              "  </thead>\n",
              "  <tbody>\n",
              "    <tr>\n",
              "      <th>0</th>\n",
              "      <td>Male</td>\n",
              "      <td>67.0</td>\n",
              "      <td>0</td>\n",
              "      <td>1</td>\n",
              "      <td>Yes</td>\n",
              "      <td>Private</td>\n",
              "      <td>Urban</td>\n",
              "      <td>228.69</td>\n",
              "      <td>36.6</td>\n",
              "      <td>formerly smoked</td>\n",
              "      <td>1</td>\n",
              "    </tr>\n",
              "    <tr>\n",
              "      <th>1</th>\n",
              "      <td>Male</td>\n",
              "      <td>80.0</td>\n",
              "      <td>0</td>\n",
              "      <td>1</td>\n",
              "      <td>Yes</td>\n",
              "      <td>Private</td>\n",
              "      <td>Rural</td>\n",
              "      <td>105.92</td>\n",
              "      <td>32.5</td>\n",
              "      <td>never smoked</td>\n",
              "      <td>1</td>\n",
              "    </tr>\n",
              "    <tr>\n",
              "      <th>2</th>\n",
              "      <td>Female</td>\n",
              "      <td>49.0</td>\n",
              "      <td>0</td>\n",
              "      <td>0</td>\n",
              "      <td>Yes</td>\n",
              "      <td>Private</td>\n",
              "      <td>Urban</td>\n",
              "      <td>171.23</td>\n",
              "      <td>34.4</td>\n",
              "      <td>smokes</td>\n",
              "      <td>1</td>\n",
              "    </tr>\n",
              "    <tr>\n",
              "      <th>3</th>\n",
              "      <td>Female</td>\n",
              "      <td>79.0</td>\n",
              "      <td>1</td>\n",
              "      <td>0</td>\n",
              "      <td>Yes</td>\n",
              "      <td>Self-employed</td>\n",
              "      <td>Rural</td>\n",
              "      <td>174.12</td>\n",
              "      <td>24.0</td>\n",
              "      <td>never smoked</td>\n",
              "      <td>1</td>\n",
              "    </tr>\n",
              "    <tr>\n",
              "      <th>4</th>\n",
              "      <td>Male</td>\n",
              "      <td>81.0</td>\n",
              "      <td>0</td>\n",
              "      <td>0</td>\n",
              "      <td>Yes</td>\n",
              "      <td>Private</td>\n",
              "      <td>Urban</td>\n",
              "      <td>186.21</td>\n",
              "      <td>29.0</td>\n",
              "      <td>formerly smoked</td>\n",
              "      <td>1</td>\n",
              "    </tr>\n",
              "  </tbody>\n",
              "</table>\n",
              "</div>\n",
              "      <button class=\"colab-df-convert\" onclick=\"convertToInteractive('df-542468fd-a71f-4169-b1bd-f29809419a03')\"\n",
              "              title=\"Convert this dataframe to an interactive table.\"\n",
              "              style=\"display:none;\">\n",
              "        \n",
              "  <svg xmlns=\"http://www.w3.org/2000/svg\" height=\"24px\"viewBox=\"0 0 24 24\"\n",
              "       width=\"24px\">\n",
              "    <path d=\"M0 0h24v24H0V0z\" fill=\"none\"/>\n",
              "    <path d=\"M18.56 5.44l.94 2.06.94-2.06 2.06-.94-2.06-.94-.94-2.06-.94 2.06-2.06.94zm-11 1L8.5 8.5l.94-2.06 2.06-.94-2.06-.94L8.5 2.5l-.94 2.06-2.06.94zm10 10l.94 2.06.94-2.06 2.06-.94-2.06-.94-.94-2.06-.94 2.06-2.06.94z\"/><path d=\"M17.41 7.96l-1.37-1.37c-.4-.4-.92-.59-1.43-.59-.52 0-1.04.2-1.43.59L10.3 9.45l-7.72 7.72c-.78.78-.78 2.05 0 2.83L4 21.41c.39.39.9.59 1.41.59.51 0 1.02-.2 1.41-.59l7.78-7.78 2.81-2.81c.8-.78.8-2.07 0-2.86zM5.41 20L4 18.59l7.72-7.72 1.47 1.35L5.41 20z\"/>\n",
              "  </svg>\n",
              "      </button>\n",
              "      \n",
              "  <style>\n",
              "    .colab-df-container {\n",
              "      display:flex;\n",
              "      flex-wrap:wrap;\n",
              "      gap: 12px;\n",
              "    }\n",
              "\n",
              "    .colab-df-convert {\n",
              "      background-color: #E8F0FE;\n",
              "      border: none;\n",
              "      border-radius: 50%;\n",
              "      cursor: pointer;\n",
              "      display: none;\n",
              "      fill: #1967D2;\n",
              "      height: 32px;\n",
              "      padding: 0 0 0 0;\n",
              "      width: 32px;\n",
              "    }\n",
              "\n",
              "    .colab-df-convert:hover {\n",
              "      background-color: #E2EBFA;\n",
              "      box-shadow: 0px 1px 2px rgba(60, 64, 67, 0.3), 0px 1px 3px 1px rgba(60, 64, 67, 0.15);\n",
              "      fill: #174EA6;\n",
              "    }\n",
              "\n",
              "    [theme=dark] .colab-df-convert {\n",
              "      background-color: #3B4455;\n",
              "      fill: #D2E3FC;\n",
              "    }\n",
              "\n",
              "    [theme=dark] .colab-df-convert:hover {\n",
              "      background-color: #434B5C;\n",
              "      box-shadow: 0px 1px 3px 1px rgba(0, 0, 0, 0.15);\n",
              "      filter: drop-shadow(0px 1px 2px rgba(0, 0, 0, 0.3));\n",
              "      fill: #FFFFFF;\n",
              "    }\n",
              "  </style>\n",
              "\n",
              "      <script>\n",
              "        const buttonEl =\n",
              "          document.querySelector('#df-542468fd-a71f-4169-b1bd-f29809419a03 button.colab-df-convert');\n",
              "        buttonEl.style.display =\n",
              "          google.colab.kernel.accessAllowed ? 'block' : 'none';\n",
              "\n",
              "        async function convertToInteractive(key) {\n",
              "          const element = document.querySelector('#df-542468fd-a71f-4169-b1bd-f29809419a03');\n",
              "          const dataTable =\n",
              "            await google.colab.kernel.invokeFunction('convertToInteractive',\n",
              "                                                     [key], {});\n",
              "          if (!dataTable) return;\n",
              "\n",
              "          const docLinkHtml = 'Like what you see? Visit the ' +\n",
              "            '<a target=\"_blank\" href=https://colab.research.google.com/notebooks/data_table.ipynb>data table notebook</a>'\n",
              "            + ' to learn more about interactive tables.';\n",
              "          element.innerHTML = '';\n",
              "          dataTable['output_type'] = 'display_data';\n",
              "          await google.colab.output.renderOutput(dataTable, element);\n",
              "          const docLink = document.createElement('div');\n",
              "          docLink.innerHTML = docLinkHtml;\n",
              "          element.appendChild(docLink);\n",
              "        }\n",
              "      </script>\n",
              "    </div>\n",
              "  </div>\n",
              "  "
            ]
          },
          "metadata": {},
          "execution_count": 12
        }
      ]
    },
    {
      "cell_type": "code",
      "source": [
        "sns.jointplot(dataset[\"age\"], dataset[\"avg_glucose_level\"], hue=dataset[\"gender\"])"
      ],
      "metadata": {
        "colab": {
          "base_uri": "https://localhost:8080/",
          "height": 512
        },
        "id": "AXwkhD4iF4Kf",
        "outputId": "fd2f8bfe-fe11-45b6-8371-093c70c93b2b"
      },
      "execution_count": 13,
      "outputs": [
        {
          "output_type": "stream",
          "name": "stderr",
          "text": [
            "/usr/local/lib/python3.7/dist-packages/seaborn/_decorators.py:43: FutureWarning: Pass the following variables as keyword args: x, y. From version 0.12, the only valid positional argument will be `data`, and passing other arguments without an explicit keyword will result in an error or misinterpretation.\n",
            "  FutureWarning\n"
          ]
        },
        {
          "output_type": "execute_result",
          "data": {
            "text/plain": [
              "<seaborn.axisgrid.JointGrid at 0x7f0383add890>"
            ]
          },
          "metadata": {},
          "execution_count": 13
        },
        {
          "output_type": "display_data",
          "data": {
            "text/plain": [
              "<Figure size 432x432 with 3 Axes>"
            ],
            "image/png": "[encoded data removed]"
          },
          "metadata": {
            "needs_background": "light"
          }
        }
      ]
    },
    {
      "cell_type": "markdown",
      "source": [
        "It is rather unclear of the relation between age and average glucose levels. Let us find more about it by conducting an experiment\n"
      ],
      "metadata": {
        "id": "AtqBIdr7G35q"
      }
    },
    {
      "cell_type": "code",
      "source": [
        "import scipy\n",
        "\n",
        "from scipy.stats import pearsonr"
      ],
      "metadata": {
        "id": "RYfAPla2Gjs9"
      },
      "execution_count": 14,
      "outputs": []
    },
    {
      "cell_type": "markdown",
      "source": [
        "Null hypothesis : The features have no relation \n",
        "\n",
        "Alternate hypothesis : The features have a relation\n",
        "\n",
        "alpha_value = 0.05\n",
        "\n"
      ],
      "metadata": {
        "id": "vULBUd97ILDO"
      }
    },
    {
      "cell_type": "code",
      "source": [
        "correlation_coef, p_value = scipy.stats.pearsonr(dataset[\"age\"],dataset[\"avg_glucose_level\"])\n",
        "\n",
        "if p_value<0.05:\n",
        "  print(\"We reject the null hypothesis\")\n",
        "else:\n",
        "  print(\"We accept the null hypothesis\")"
      ],
      "metadata": {
        "colab": {
          "base_uri": "https://localhost:8080/"
        },
        "id": "NwcErboOHmi-",
        "outputId": "294bb83c-f66c-44d9-a9b0-98d89e120ade"
      },
      "execution_count": 15,
      "outputs": [
        {
          "output_type": "stream",
          "name": "stdout",
          "text": [
            "We reject the null hypothesis\n"
          ]
        }
      ]
    },
    {
      "cell_type": "markdown",
      "source": [
        "We can say that we have a relation between these two variables, but we need to look at the correaltion coefficient to know the significance of the relation"
      ],
      "metadata": {
        "id": "aVWgHJi6JLwo"
      }
    },
    {
      "cell_type": "code",
      "source": [
        "correlation_coef"
      ],
      "metadata": {
        "colab": {
          "base_uri": "https://localhost:8080/"
        },
        "id": "-jAOCRtEH0dC",
        "outputId": "7236faaf-f2a5-4d1a-f8db-d775e79dc2a3"
      },
      "execution_count": 16,
      "outputs": [
        {
          "output_type": "execute_result",
          "data": {
            "text/plain": [
              "0.23676267568894818"
            ]
          },
          "metadata": {},
          "execution_count": 16
        }
      ]
    },
    {
      "cell_type": "markdown",
      "source": [
        "## CONCLUSION:\n",
        "\n",
        "We can say that both the features are related but there is no strong relation between them \n"
      ],
      "metadata": {
        "id": "Np9jTOYHKE56"
      }
    },
    {
      "cell_type": "code",
      "source": [
        "sns.jointplot(\"bmi\", \"avg_glucose_level\",data=dataset,hue=\"ever_married\")"
      ],
      "metadata": {
        "colab": {
          "base_uri": "https://localhost:8080/",
          "height": 512
        },
        "id": "7CExiSrFKBXn",
        "outputId": "a005903c-8b3e-4889-bb19-d899fdbd29a2"
      },
      "execution_count": 17,
      "outputs": [
        {
          "output_type": "stream",
          "name": "stderr",
          "text": [
            "/usr/local/lib/python3.7/dist-packages/seaborn/_decorators.py:43: FutureWarning: Pass the following variables as keyword args: x, y. From version 0.12, the only valid positional argument will be `data`, and passing other arguments without an explicit keyword will result in an error or misinterpretation.\n",
            "  FutureWarning\n"
          ]
        },
        {
          "output_type": "execute_result",
          "data": {
            "text/plain": [
              "<seaborn.axisgrid.JointGrid at 0x7f038018b090>"
            ]
          },
          "metadata": {},
          "execution_count": 17
        },
        {
          "output_type": "display_data",
          "data": {
            "text/plain": [
              "<Figure size 432x432 with 3 Axes>"
            ],
            "image/png": "[encoded data removed]"
          },
          "metadata": {
            "needs_background": "light"
          }
        }
      ]
    },
    {
      "cell_type": "code",
      "source": [
        "# Category plot  \n",
        "\n",
        "sns.catplot(\"stroke\",\"age\",hue=\"Residence_type\",data=dataset, kind=\"box\")"
      ],
      "metadata": {
        "colab": {
          "base_uri": "https://localhost:8080/",
          "height": 440
        },
        "id": "9fwKxaY-LIb2",
        "outputId": "309877ee-0a50-4480-8417-b327ceab227c"
      },
      "execution_count": 18,
      "outputs": [
        {
          "output_type": "stream",
          "name": "stderr",
          "text": [
            "/usr/local/lib/python3.7/dist-packages/seaborn/_decorators.py:43: FutureWarning: Pass the following variables as keyword args: x, y. From version 0.12, the only valid positional argument will be `data`, and passing other arguments without an explicit keyword will result in an error or misinterpretation.\n",
            "  FutureWarning\n"
          ]
        },
        {
          "output_type": "execute_result",
          "data": {
            "text/plain": [
              "<seaborn.axisgrid.FacetGrid at 0x7f03802f0c10>"
            ]
          },
          "metadata": {},
          "execution_count": 18
        },
        {
          "output_type": "display_data",
          "data": {
            "text/plain": [
              "<Figure size 446.25x360 with 1 Axes>"
            ],
            "image/png": "[encoded data removed]"
          },
          "metadata": {
            "needs_background": "light"
          }
        }
      ]
    },
    {
      "cell_type": "code",
      "source": [
        "sns.distplot(dataset[dataset[\"stroke\"]==1][\"age\"])"
      ],
      "metadata": {
        "colab": {
          "base_uri": "https://localhost:8080/",
          "height": 350
        },
        "id": "V5SwlX-Bq-oU",
        "outputId": "af3ce6e4-5a76-4f37-f9f5-e4e3b4b557d9"
      },
      "execution_count": 19,
      "outputs": [
        {
          "output_type": "stream",
          "name": "stderr",
          "text": [
            "/usr/local/lib/python3.7/dist-packages/seaborn/distributions.py:2619: FutureWarning: `distplot` is a deprecated function and will be removed in a future version. Please adapt your code to use either `displot` (a figure-level function with similar flexibility) or `histplot` (an axes-level function for histograms).\n",
            "  warnings.warn(msg, FutureWarning)\n"
          ]
        },
        {
          "output_type": "execute_result",
          "data": {
            "text/plain": [
              "<matplotlib.axes._subplots.AxesSubplot at 0x7f037e8094d0>"
            ]
          },
          "metadata": {},
          "execution_count": 19
        },
        {
          "output_type": "display_data",
          "data": {
            "text/plain": [
              "<Figure size 432x288 with 1 Axes>"
            ],
            "image/png": "[encoded data removed]"
          },
          "metadata": {
            "needs_background": "light"
          }
        }
      ]
    },
    {
      "cell_type": "code",
      "source": [
        "dataset.head()"
      ],
      "metadata": {
        "colab": {
          "base_uri": "https://localhost:8080/",
          "height": 204
        },
        "id": "ySTnk0POq-rK",
        "outputId": "827a4ec0-2cdf-4f52-f87b-045e1de2ea47"
      },
      "execution_count": 20,
      "outputs": [
        {
          "output_type": "execute_result",
          "data": {
            "text/plain": [
              "   gender   age  hypertension  heart_disease ever_married      work_type  \\\n",
              "0    Male  67.0             0              1          Yes        Private   \n",
              "1    Male  80.0             0              1          Yes        Private   \n",
              "2  Female  49.0             0              0          Yes        Private   \n",
              "3  Female  79.0             1              0          Yes  Self-employed   \n",
              "4    Male  81.0             0              0          Yes        Private   \n",
              "\n",
              "  Residence_type  avg_glucose_level   bmi   smoking_status  stroke  \n",
              "0          Urban             228.69  36.6  formerly smoked       1  \n",
              "1          Rural             105.92  32.5     never smoked       1  \n",
              "2          Urban             171.23  34.4           smokes       1  \n",
              "3          Rural             174.12  24.0     never smoked       1  \n",
              "4          Urban             186.21  29.0  formerly smoked       1  "
            ],
            "text/html": [
              "\n",
              "  <div id=\"df-d597b379-6901-4f14-b98c-d5ae4fc7fa4f\">\n",
              "    <div class=\"colab-df-container\">\n",
              "      <div>\n",
              "<style scoped>\n",
              "    .dataframe tbody tr th:only-of-type {\n",
              "        vertical-align: middle;\n",
              "    }\n",
              "\n",
              "    .dataframe tbody tr th {\n",
              "        vertical-align: top;\n",
              "    }\n",
              "\n",
              "    .dataframe thead th {\n",
              "        text-align: right;\n",
              "    }\n",
              "</style>\n",
              "<table border=\"1\" class=\"dataframe\">\n",
              "  <thead>\n",
              "    <tr style=\"text-align: right;\">\n",
              "      <th></th>\n",
              "      <th>gender</th>\n",
              "      <th>age</th>\n",
              "      <th>hypertension</th>\n",
              "      <th>heart_disease</th>\n",
              "      <th>ever_married</th>\n",
              "      <th>work_type</th>\n",
              "      <th>Residence_type</th>\n",
              "      <th>avg_glucose_level</th>\n",
              "      <th>bmi</th>\n",
              "      <th>smoking_status</th>\n",
              "      <th>stroke</th>\n",
              "    </tr>\n",
              "  </thead>\n",
              "  <tbody>\n",
              "    <tr>\n",
              "      <th>0</th>\n",
              "      <td>Male</td>\n",
              "      <td>67.0</td>\n",
              "      <td>0</td>\n",
              "      <td>1</td>\n",
              "      <td>Yes</td>\n",
              "      <td>Private</td>\n",
              "      <td>Urban</td>\n",
              "      <td>228.69</td>\n",
              "      <td>36.6</td>\n",
              "      <td>formerly smoked</td>\n",
              "      <td>1</td>\n",
              "    </tr>\n",
              "    <tr>\n",
              "      <th>1</th>\n",
              "      <td>Male</td>\n",
              "      <td>80.0</td>\n",
              "      <td>0</td>\n",
              "      <td>1</td>\n",
              "      <td>Yes</td>\n",
              "      <td>Private</td>\n",
              "      <td>Rural</td>\n",
              "      <td>105.92</td>\n",
              "      <td>32.5</td>\n",
              "      <td>never smoked</td>\n",
              "      <td>1</td>\n",
              "    </tr>\n",
              "    <tr>\n",
              "      <th>2</th>\n",
              "      <td>Female</td>\n",
              "      <td>49.0</td>\n",
              "      <td>0</td>\n",
              "      <td>0</td>\n",
              "      <td>Yes</td>\n",
              "      <td>Private</td>\n",
              "      <td>Urban</td>\n",
              "      <td>171.23</td>\n",
              "      <td>34.4</td>\n",
              "      <td>smokes</td>\n",
              "      <td>1</td>\n",
              "    </tr>\n",
              "    <tr>\n",
              "      <th>3</th>\n",
              "      <td>Female</td>\n",
              "      <td>79.0</td>\n",
              "      <td>1</td>\n",
              "      <td>0</td>\n",
              "      <td>Yes</td>\n",
              "      <td>Self-employed</td>\n",
              "      <td>Rural</td>\n",
              "      <td>174.12</td>\n",
              "      <td>24.0</td>\n",
              "      <td>never smoked</td>\n",
              "      <td>1</td>\n",
              "    </tr>\n",
              "    <tr>\n",
              "      <th>4</th>\n",
              "      <td>Male</td>\n",
              "      <td>81.0</td>\n",
              "      <td>0</td>\n",
              "      <td>0</td>\n",
              "      <td>Yes</td>\n",
              "      <td>Private</td>\n",
              "      <td>Urban</td>\n",
              "      <td>186.21</td>\n",
              "      <td>29.0</td>\n",
              "      <td>formerly smoked</td>\n",
              "      <td>1</td>\n",
              "    </tr>\n",
              "  </tbody>\n",
              "</table>\n",
              "</div>\n",
              "      <button class=\"colab-df-convert\" onclick=\"convertToInteractive('df-d597b379-6901-4f14-b98c-d5ae4fc7fa4f')\"\n",
              "              title=\"Convert this dataframe to an interactive table.\"\n",
              "              style=\"display:none;\">\n",
              "        \n",
              "  <svg xmlns=\"http://www.w3.org/2000/svg\" height=\"24px\"viewBox=\"0 0 24 24\"\n",
              "       width=\"24px\">\n",
              "    <path d=\"M0 0h24v24H0V0z\" fill=\"none\"/>\n",
              "    <path d=\"M18.56 5.44l.94 2.06.94-2.06 2.06-.94-2.06-.94-.94-2.06-.94 2.06-2.06.94zm-11 1L8.5 8.5l.94-2.06 2.06-.94-2.06-.94L8.5 2.5l-.94 2.06-2.06.94zm10 10l.94 2.06.94-2.06 2.06-.94-2.06-.94-.94-2.06-.94 2.06-2.06.94z\"/><path d=\"M17.41 7.96l-1.37-1.37c-.4-.4-.92-.59-1.43-.59-.52 0-1.04.2-1.43.59L10.3 9.45l-7.72 7.72c-.78.78-.78 2.05 0 2.83L4 21.41c.39.39.9.59 1.41.59.51 0 1.02-.2 1.41-.59l7.78-7.78 2.81-2.81c.8-.78.8-2.07 0-2.86zM5.41 20L4 18.59l7.72-7.72 1.47 1.35L5.41 20z\"/>\n",
              "  </svg>\n",
              "      </button>\n",
              "      \n",
              "  <style>\n",
              "    .colab-df-container {\n",
              "      display:flex;\n",
              "      flex-wrap:wrap;\n",
              "      gap: 12px;\n",
              "    }\n",
              "\n",
              "    .colab-df-convert {\n",
              "      background-color: #E8F0FE;\n",
              "      border: none;\n",
              "      border-radius: 50%;\n",
              "      cursor: pointer;\n",
              "      display: none;\n",
              "      fill: #1967D2;\n",
              "      height: 32px;\n",
              "      padding: 0 0 0 0;\n",
              "      width: 32px;\n",
              "    }\n",
              "\n",
              "    .colab-df-convert:hover {\n",
              "      background-color: #E2EBFA;\n",
              "      box-shadow: 0px 1px 2px rgba(60, 64, 67, 0.3), 0px 1px 3px 1px rgba(60, 64, 67, 0.15);\n",
              "      fill: #174EA6;\n",
              "    }\n",
              "\n",
              "    [theme=dark] .colab-df-convert {\n",
              "      background-color: #3B4455;\n",
              "      fill: #D2E3FC;\n",
              "    }\n",
              "\n",
              "    [theme=dark] .colab-df-convert:hover {\n",
              "      background-color: #434B5C;\n",
              "      box-shadow: 0px 1px 3px 1px rgba(0, 0, 0, 0.15);\n",
              "      filter: drop-shadow(0px 1px 2px rgba(0, 0, 0, 0.3));\n",
              "      fill: #FFFFFF;\n",
              "    }\n",
              "  </style>\n",
              "\n",
              "      <script>\n",
              "        const buttonEl =\n",
              "          document.querySelector('#df-d597b379-6901-4f14-b98c-d5ae4fc7fa4f button.colab-df-convert');\n",
              "        buttonEl.style.display =\n",
              "          google.colab.kernel.accessAllowed ? 'block' : 'none';\n",
              "\n",
              "        async function convertToInteractive(key) {\n",
              "          const element = document.querySelector('#df-d597b379-6901-4f14-b98c-d5ae4fc7fa4f');\n",
              "          const dataTable =\n",
              "            await google.colab.kernel.invokeFunction('convertToInteractive',\n",
              "                                                     [key], {});\n",
              "          if (!dataTable) return;\n",
              "\n",
              "          const docLinkHtml = 'Like what you see? Visit the ' +\n",
              "            '<a target=\"_blank\" href=https://colab.research.google.com/notebooks/data_table.ipynb>data table notebook</a>'\n",
              "            + ' to learn more about interactive tables.';\n",
              "          element.innerHTML = '';\n",
              "          dataTable['output_type'] = 'display_data';\n",
              "          await google.colab.output.renderOutput(dataTable, element);\n",
              "          const docLink = document.createElement('div');\n",
              "          docLink.innerHTML = docLinkHtml;\n",
              "          element.appendChild(docLink);\n",
              "        }\n",
              "      </script>\n",
              "    </div>\n",
              "  </div>\n",
              "  "
            ]
          },
          "metadata": {},
          "execution_count": 20
        }
      ]
    },
    {
      "cell_type": "markdown",
      "source": [
        "We can observe that people above the age of 40 suffered more strokes than younger people"
      ],
      "metadata": {
        "id": "2ib38aFMtDNb"
      }
    },
    {
      "cell_type": "markdown",
      "source": [
        "## FEATURE ENCODING "
      ],
      "metadata": {
        "id": "qeEo30SiurTv"
      }
    },
    {
      "cell_type": "code",
      "source": [
        ""
      ],
      "metadata": {
        "id": "V10MmN37vDeF"
      },
      "execution_count": 20,
      "outputs": []
    },
    {
      "cell_type": "code",
      "source": [
        "# Let us encode the categorical variables and convert them into numeric variables\n",
        "\n",
        "## One hot encoding for gender, ever_married and Residence_type\n",
        "\n",
        "\n",
        "dataset[\"gender\"] = pd.get_dummies(dataset[\"gender\"],drop_first=True) # Male = 1\n",
        "dataset[\"Residence_type\"] = pd.get_dummies(dataset[\"Residence_type\"], drop_first=True) # Urban = 1\n",
        "dataset[\"ever_married\"] = pd.get_dummies(dataset[\"ever_married\"], drop_first=True) # Yes = 1"
      ],
      "metadata": {
        "id": "y0ZXt8yhq-t9"
      },
      "execution_count": 21,
      "outputs": []
    },
    {
      "cell_type": "code",
      "source": [
        "# We are going to perform Label encoding on other two features\n",
        "\n",
        "from sklearn.preprocessing import LabelEncoder\n",
        "\n",
        "encoder = LabelEncoder()"
      ],
      "metadata": {
        "id": "nidX8unCq-wk"
      },
      "execution_count": 22,
      "outputs": []
    },
    {
      "cell_type": "code",
      "source": [
        "dataset[\"work_type\"] = pd.DataFrame(encoder.fit_transform(dataset[\"work_type\"]))\n",
        "dataset[\"smoking_status\"] = pd.DataFrame(encoder.fit_transform(dataset[\"smoking_status\"]))"
      ],
      "metadata": {
        "id": "FxaltOOOq-zd"
      },
      "execution_count": 23,
      "outputs": []
    },
    {
      "cell_type": "code",
      "source": [
        "dataset.head()"
      ],
      "metadata": {
        "colab": {
          "base_uri": "https://localhost:8080/",
          "height": 204
        },
        "id": "SoWNQ0Eaq-8F",
        "outputId": "2ad881c2-3564-44ac-e13e-d85dffd5b01b"
      },
      "execution_count": 24,
      "outputs": [
        {
          "output_type": "execute_result",
          "data": {
            "text/plain": [
              "   gender   age  hypertension  heart_disease  ever_married  work_type  \\\n",
              "0       1  67.0             0              1             1          1   \n",
              "1       1  80.0             0              1             1          1   \n",
              "2       0  49.0             0              0             1          1   \n",
              "3       0  79.0             1              0             1          2   \n",
              "4       1  81.0             0              0             1          1   \n",
              "\n",
              "   Residence_type  avg_glucose_level   bmi  smoking_status  stroke  \n",
              "0               1             228.69  36.6               1       1  \n",
              "1               0             105.92  32.5               2       1  \n",
              "2               1             171.23  34.4               3       1  \n",
              "3               0             174.12  24.0               2       1  \n",
              "4               1             186.21  29.0               1       1  "
            ],
            "text/html": [
              "\n",
              "  <div id=\"df-f720368b-f163-45f7-9d29-a47495d82051\">\n",
              "    <div class=\"colab-df-container\">\n",
              "      <div>\n",
              "<style scoped>\n",
              "    .dataframe tbody tr th:only-of-type {\n",
              "        vertical-align: middle;\n",
              "    }\n",
              "\n",
              "    .dataframe tbody tr th {\n",
              "        vertical-align: top;\n",
              "    }\n",
              "\n",
              "    .dataframe thead th {\n",
              "        text-align: right;\n",
              "    }\n",
              "</style>\n",
              "<table border=\"1\" class=\"dataframe\">\n",
              "  <thead>\n",
              "    <tr style=\"text-align: right;\">\n",
              "      <th></th>\n",
              "      <th>gender</th>\n",
              "      <th>age</th>\n",
              "      <th>hypertension</th>\n",
              "      <th>heart_disease</th>\n",
              "      <th>ever_married</th>\n",
              "      <th>work_type</th>\n",
              "      <th>Residence_type</th>\n",
              "      <th>avg_glucose_level</th>\n",
              "      <th>bmi</th>\n",
              "      <th>smoking_status</th>\n",
              "      <th>stroke</th>\n",
              "    </tr>\n",
              "  </thead>\n",
              "  <tbody>\n",
              "    <tr>\n",
              "      <th>0</th>\n",
              "      <td>1</td>\n",
              "      <td>67.0</td>\n",
              "      <td>0</td>\n",
              "      <td>1</td>\n",
              "      <td>1</td>\n",
              "      <td>1</td>\n",
              "      <td>1</td>\n",
              "      <td>228.69</td>\n",
              "      <td>36.6</td>\n",
              "      <td>1</td>\n",
              "      <td>1</td>\n",
              "    </tr>\n",
              "    <tr>\n",
              "      <th>1</th>\n",
              "      <td>1</td>\n",
              "      <td>80.0</td>\n",
              "      <td>0</td>\n",
              "      <td>1</td>\n",
              "      <td>1</td>\n",
              "      <td>1</td>\n",
              "      <td>0</td>\n",
              "      <td>105.92</td>\n",
              "      <td>32.5</td>\n",
              "      <td>2</td>\n",
              "      <td>1</td>\n",
              "    </tr>\n",
              "    <tr>\n",
              "      <th>2</th>\n",
              "      <td>0</td>\n",
              "      <td>49.0</td>\n",
              "      <td>0</td>\n",
              "      <td>0</td>\n",
              "      <td>1</td>\n",
              "      <td>1</td>\n",
              "      <td>1</td>\n",
              "      <td>171.23</td>\n",
              "      <td>34.4</td>\n",
              "      <td>3</td>\n",
              "      <td>1</td>\n",
              "    </tr>\n",
              "    <tr>\n",
              "      <th>3</th>\n",
              "      <td>0</td>\n",
              "      <td>79.0</td>\n",
              "      <td>1</td>\n",
              "      <td>0</td>\n",
              "      <td>1</td>\n",
              "      <td>2</td>\n",
              "      <td>0</td>\n",
              "      <td>174.12</td>\n",
              "      <td>24.0</td>\n",
              "      <td>2</td>\n",
              "      <td>1</td>\n",
              "    </tr>\n",
              "    <tr>\n",
              "      <th>4</th>\n",
              "      <td>1</td>\n",
              "      <td>81.0</td>\n",
              "      <td>0</td>\n",
              "      <td>0</td>\n",
              "      <td>1</td>\n",
              "      <td>1</td>\n",
              "      <td>1</td>\n",
              "      <td>186.21</td>\n",
              "      <td>29.0</td>\n",
              "      <td>1</td>\n",
              "      <td>1</td>\n",
              "    </tr>\n",
              "  </tbody>\n",
              "</table>\n",
              "</div>\n",
              "      <button class=\"colab-df-convert\" onclick=\"convertToInteractive('df-f720368b-f163-45f7-9d29-a47495d82051')\"\n",
              "              title=\"Convert this dataframe to an interactive table.\"\n",
              "              style=\"display:none;\">\n",
              "        \n",
              "  <svg xmlns=\"http://www.w3.org/2000/svg\" height=\"24px\"viewBox=\"0 0 24 24\"\n",
              "       width=\"24px\">\n",
              "    <path d=\"M0 0h24v24H0V0z\" fill=\"none\"/>\n",
              "    <path d=\"M18.56 5.44l.94 2.06.94-2.06 2.06-.94-2.06-.94-.94-2.06-.94 2.06-2.06.94zm-11 1L8.5 8.5l.94-2.06 2.06-.94-2.06-.94L8.5 2.5l-.94 2.06-2.06.94zm10 10l.94 2.06.94-2.06 2.06-.94-2.06-.94-.94-2.06-.94 2.06-2.06.94z\"/><path d=\"M17.41 7.96l-1.37-1.37c-.4-.4-.92-.59-1.43-.59-.52 0-1.04.2-1.43.59L10.3 9.45l-7.72 7.72c-.78.78-.78 2.05 0 2.83L4 21.41c.39.39.9.59 1.41.59.51 0 1.02-.2 1.41-.59l7.78-7.78 2.81-2.81c.8-.78.8-2.07 0-2.86zM5.41 20L4 18.59l7.72-7.72 1.47 1.35L5.41 20z\"/>\n",
              "  </svg>\n",
              "      </button>\n",
              "      \n",
              "  <style>\n",
              "    .colab-df-container {\n",
              "      display:flex;\n",
              "      flex-wrap:wrap;\n",
              "      gap: 12px;\n",
              "    }\n",
              "\n",
              "    .colab-df-convert {\n",
              "      background-color: #E8F0FE;\n",
              "      border: none;\n",
              "      border-radius: 50%;\n",
              "      cursor: pointer;\n",
              "      display: none;\n",
              "      fill: #1967D2;\n",
              "      height: 32px;\n",
              "      padding: 0 0 0 0;\n",
              "      width: 32px;\n",
              "    }\n",
              "\n",
              "    .colab-df-convert:hover {\n",
              "      background-color: #E2EBFA;\n",
              "      box-shadow: 0px 1px 2px rgba(60, 64, 67, 0.3), 0px 1px 3px 1px rgba(60, 64, 67, 0.15);\n",
              "      fill: #174EA6;\n",
              "    }\n",
              "\n",
              "    [theme=dark] .colab-df-convert {\n",
              "      background-color: #3B4455;\n",
              "      fill: #D2E3FC;\n",
              "    }\n",
              "\n",
              "    [theme=dark] .colab-df-convert:hover {\n",
              "      background-color: #434B5C;\n",
              "      box-shadow: 0px 1px 3px 1px rgba(0, 0, 0, 0.15);\n",
              "      filter: drop-shadow(0px 1px 2px rgba(0, 0, 0, 0.3));\n",
              "      fill: #FFFFFF;\n",
              "    }\n",
              "  </style>\n",
              "\n",
              "      <script>\n",
              "        const buttonEl =\n",
              "          document.querySelector('#df-f720368b-f163-45f7-9d29-a47495d82051 button.colab-df-convert');\n",
              "        buttonEl.style.display =\n",
              "          google.colab.kernel.accessAllowed ? 'block' : 'none';\n",
              "\n",
              "        async function convertToInteractive(key) {\n",
              "          const element = document.querySelector('#df-f720368b-f163-45f7-9d29-a47495d82051');\n",
              "          const dataTable =\n",
              "            await google.colab.kernel.invokeFunction('convertToInteractive',\n",
              "                                                     [key], {});\n",
              "          if (!dataTable) return;\n",
              "\n",
              "          const docLinkHtml = 'Like what you see? Visit the ' +\n",
              "            '<a target=\"_blank\" href=https://colab.research.google.com/notebooks/data_table.ipynb>data table notebook</a>'\n",
              "            + ' to learn more about interactive tables.';\n",
              "          element.innerHTML = '';\n",
              "          dataTable['output_type'] = 'display_data';\n",
              "          await google.colab.output.renderOutput(dataTable, element);\n",
              "          const docLink = document.createElement('div');\n",
              "          docLink.innerHTML = docLinkHtml;\n",
              "          element.appendChild(docLink);\n",
              "        }\n",
              "      </script>\n",
              "    </div>\n",
              "  </div>\n",
              "  "
            ]
          },
          "metadata": {},
          "execution_count": 24
        }
      ]
    },
    {
      "cell_type": "code",
      "source": [
        "# Now let us divide the dataset into featuers and label \n",
        "\n",
        "X = dataset.drop(\"stroke\",axis=1)\n",
        "y = dataset[\"stroke\"]"
      ],
      "metadata": {
        "id": "wjxafmO-q-_J"
      },
      "execution_count": 25,
      "outputs": []
    },
    {
      "cell_type": "code",
      "source": [
        "# Scaling the data\n",
        "\n",
        "from sklearn.preprocessing import StandardScaler\n",
        "\n",
        "scaler = StandardScaler()"
      ],
      "metadata": {
        "id": "O_wuQbhtq_CC"
      },
      "execution_count": 26,
      "outputs": []
    },
    {
      "cell_type": "code",
      "source": [
        "X = pd.DataFrame(scaler.fit_transform(X), columns=X.columns)"
      ],
      "metadata": {
        "id": "e1k7GqeEq_IR"
      },
      "execution_count": 27,
      "outputs": []
    },
    {
      "cell_type": "markdown",
      "source": [
        "## IMBALANCE IN OUTPUT FEATURE (LABEL)"
      ],
      "metadata": {
        "id": "mYhzZWPTNMxM"
      }
    },
    {
      "cell_type": "code",
      "source": [
        "# Checking for balance in dataset\n",
        "\n",
        "dataset[\"stroke\"].value_counts()"
      ],
      "metadata": {
        "colab": {
          "base_uri": "https://localhost:8080/"
        },
        "id": "DU9qF6z0alHH",
        "outputId": "44f2908b-a023-4fae-a9a1-5f1c85352c28"
      },
      "execution_count": 28,
      "outputs": [
        {
          "output_type": "execute_result",
          "data": {
            "text/plain": [
              "0    4733\n",
              "1     248\n",
              "Name: stroke, dtype: int64"
            ]
          },
          "metadata": {},
          "execution_count": 28
        }
      ]
    },
    {
      "cell_type": "markdown",
      "source": [
        "We can see that there is clear imbalance in dataset"
      ],
      "metadata": {
        "id": "7naRP6zca2di"
      }
    },
    {
      "cell_type": "code",
      "source": [
        "sns.barplot(x=dataset[\"stroke\"].value_counts().index, y= dataset[\"stroke\"].value_counts())"
      ],
      "metadata": {
        "colab": {
          "base_uri": "https://localhost:8080/",
          "height": 282
        },
        "id": "llPBUW-tT1xj",
        "outputId": "99470208-7fee-4654-93b7-748d1e94f985"
      },
      "execution_count": 29,
      "outputs": [
        {
          "output_type": "execute_result",
          "data": {
            "text/plain": [
              "<matplotlib.axes._subplots.AxesSubplot at 0x7f03801f36d0>"
            ]
          },
          "metadata": {},
          "execution_count": 29
        },
        {
          "output_type": "display_data",
          "data": {
            "text/plain": [
              "<Figure size 432x288 with 1 Axes>"
            ],
            "image/png": "[encoded data removed]"
          },
          "metadata": {
            "needs_background": "light"
          }
        }
      ]
    },
    {
      "cell_type": "markdown",
      "source": [
        "Clear imbalance spotted in the variable "
      ],
      "metadata": {
        "id": "DyvXLB5McJsB"
      }
    },
    {
      "cell_type": "code",
      "source": [
        "# Importing libraries for balancing the dataset\n",
        "\n",
        "import imblearn\n",
        "\n",
        "from imblearn.over_sampling import SMOTE"
      ],
      "metadata": {
        "id": "HSuNpR7aT10W"
      },
      "execution_count": 30,
      "outputs": []
    },
    {
      "cell_type": "code",
      "source": [
        "# Classifying the data according to storke\n",
        "\n",
        "stroke_yes = dataset[dataset[\"stroke\"]==1]\n",
        "stroke_no = dataset[dataset[\"stroke\"]==0]"
      ],
      "metadata": {
        "id": "nrM5VVlgT129"
      },
      "execution_count": 31,
      "outputs": []
    },
    {
      "cell_type": "code",
      "source": [
        "print(\"yes: \",stroke_yes.shape,\"no: \", stroke_no.shape)"
      ],
      "metadata": {
        "colab": {
          "base_uri": "https://localhost:8080/"
        },
        "id": "Uhl3XnUfjuVZ",
        "outputId": "7394d634-c8ef-4a26-b549-8bf0a3ab8a00"
      },
      "execution_count": 32,
      "outputs": [
        {
          "output_type": "stream",
          "name": "stdout",
          "text": [
            "yes:  (248, 11) no:  (4733, 11)\n"
          ]
        }
      ]
    },
    {
      "cell_type": "code",
      "source": [
        "from sklearn.model_selection import train_test_split\n",
        "\n",
        "train_X, test_X, train_y, test_y = train_test_split(X, y, test_size=0.25)"
      ],
      "metadata": {
        "id": "vjXQSoG6NWE_"
      },
      "execution_count": 33,
      "outputs": []
    },
    {
      "cell_type": "code",
      "source": [
        "sampler = SMOTE(random_state=1)\n",
        "\n",
        "train_X, train_y = sampler.fit_resample(train_X, train_y)"
      ],
      "metadata": {
        "id": "ih2kDFTRLs4k"
      },
      "execution_count": 34,
      "outputs": []
    },
    {
      "cell_type": "code",
      "source": [
        "# Importing libraries for buildinig a model\n",
        "\n",
        "import tensorflow as tf\n",
        "from tensorflow import keras \n",
        "\n",
        "from keras.layers import Dense, Input, Dropout\n",
        "from keras.models import Sequential, Model"
      ],
      "metadata": {
        "id": "a8Cv6YpHNTEk"
      },
      "execution_count": 35,
      "outputs": []
    },
    {
      "cell_type": "code",
      "source": [
        "model = keras.models.Sequential([\n",
        "    Input(shape=X.shape[1:]),\n",
        "    Dense(100, activation=\"relu\"),\n",
        "    Dense(200, activation=\"relu\"),\n",
        "    Dense(100, activation=\"relu\"),\n",
        "    Dense(1, activation=\"sigmoid\")\n",
        "    ])"
      ],
      "metadata": {
        "id": "dDeBAJDENaIV"
      },
      "execution_count": 36,
      "outputs": []
    },
    {
      "cell_type": "code",
      "source": [
        "model.compile(optimizer=\"rmsprop\", loss = \"binary_crossentropy\", metrics=[\"accuracy\"])"
      ],
      "metadata": {
        "id": "Gy4Tju06Nd9r"
      },
      "execution_count": 37,
      "outputs": []
    },
    {
      "cell_type": "code",
      "source": [
        "model.summary()"
      ],
      "metadata": {
        "colab": {
          "base_uri": "https://localhost:8080/"
        },
        "id": "y88ApJSaNeAR",
        "outputId": "c67f1975-a630-4deb-8641-e80c04d4115b"
      },
      "execution_count": 38,
      "outputs": [
        {
          "output_type": "stream",
          "name": "stdout",
          "text": [
            "Model: \"sequential\"\n",
            "_________________________________________________________________\n",
            " Layer (type)                Output Shape              Param #   \n",
            "=================================================================\n",
            " dense (Dense)               (None, 100)               1100      \n",
            "                                                                 \n",
            " dense_1 (Dense)             (None, 200)               20200     \n",
            "                                                                 \n",
            " dense_2 (Dense)             (None, 100)               20100     \n",
            "                                                                 \n",
            " dense_3 (Dense)             (None, 1)                 101       \n",
            "                                                                 \n",
            "=================================================================\n",
            "Total params: 41,501\n",
            "Trainable params: 41,501\n",
            "Non-trainable params: 0\n",
            "_________________________________________________________________\n"
          ]
        }
      ]
    },
    {
      "cell_type": "code",
      "source": [
        "history = model.fit(train_X, train_y, validation_data=([test_X, test_y]), epochs=200)"
      ],
      "metadata": {
        "colab": {
          "base_uri": "https://localhost:8080/"
        },
        "id": "sFK3rtiZNeCl",
        "outputId": "2f566f21-81e8-4e00-a64e-5e526365d351"
      },
      "execution_count": 39,
      "outputs": [
        {
          "output_type": "stream",
          "name": "stdout",
          "text": [
            "Epoch 1/200\n",
            "222/222 [==============================] - 3s 6ms/step - loss: 0.4181 - accuracy: 0.8049 - val_loss: 0.4524 - val_accuracy: 0.7568\n",
            "Epoch 2/200\n",
            "222/222 [==============================] - 1s 4ms/step - loss: 0.3480 - accuracy: 0.8428 - val_loss: 0.3200 - val_accuracy: 0.8403\n",
            "Epoch 3/200\n",
            "222/222 [==============================] - 1s 5ms/step - loss: 0.3055 - accuracy: 0.8659 - val_loss: 0.4906 - val_accuracy: 0.7544\n",
            "Epoch 4/200\n",
            "222/222 [==============================] - 1s 5ms/step - loss: 0.2688 - accuracy: 0.8855 - val_loss: 0.4172 - val_accuracy: 0.8098\n",
            "Epoch 5/200\n",
            "222/222 [==============================] - 1s 3ms/step - loss: 0.2428 - accuracy: 0.9014 - val_loss: 0.4533 - val_accuracy: 0.8042\n",
            "Epoch 6/200\n",
            "222/222 [==============================] - 1s 2ms/step - loss: 0.2123 - accuracy: 0.9148 - val_loss: 0.4736 - val_accuracy: 0.8130\n",
            "Epoch 7/200\n",
            "222/222 [==============================] - 1s 2ms/step - loss: 0.1983 - accuracy: 0.9245 - val_loss: 0.4249 - val_accuracy: 0.8604\n",
            "Epoch 8/200\n",
            "222/222 [==============================] - 1s 2ms/step - loss: 0.1837 - accuracy: 0.9290 - val_loss: 0.4599 - val_accuracy: 0.8419\n",
            "Epoch 9/200\n",
            "222/222 [==============================] - 1s 2ms/step - loss: 0.1669 - accuracy: 0.9375 - val_loss: 0.5122 - val_accuracy: 0.8571\n",
            "Epoch 10/200\n",
            "222/222 [==============================] - 1s 2ms/step - loss: 0.1626 - accuracy: 0.9376 - val_loss: 0.4924 - val_accuracy: 0.8876\n",
            "Epoch 11/200\n",
            "222/222 [==============================] - 1s 2ms/step - loss: 0.1491 - accuracy: 0.9456 - val_loss: 0.5324 - val_accuracy: 0.8507\n",
            "Epoch 12/200\n",
            "222/222 [==============================] - 1s 2ms/step - loss: 0.1423 - accuracy: 0.9482 - val_loss: 0.5757 - val_accuracy: 0.8467\n",
            "Epoch 13/200\n",
            "222/222 [==============================] - 1s 3ms/step - loss: 0.1343 - accuracy: 0.9493 - val_loss: 0.5953 - val_accuracy: 0.8796\n",
            "Epoch 14/200\n",
            "222/222 [==============================] - 1s 3ms/step - loss: 0.1305 - accuracy: 0.9503 - val_loss: 0.6174 - val_accuracy: 0.8604\n",
            "Epoch 15/200\n",
            "222/222 [==============================] - 1s 2ms/step - loss: 0.1226 - accuracy: 0.9558 - val_loss: 0.7159 - val_accuracy: 0.8242\n",
            "Epoch 16/200\n",
            "222/222 [==============================] - 1s 2ms/step - loss: 0.1192 - accuracy: 0.9552 - val_loss: 0.6309 - val_accuracy: 0.8884\n",
            "Epoch 17/200\n",
            "222/222 [==============================] - 1s 2ms/step - loss: 0.1133 - accuracy: 0.9589 - val_loss: 0.7244 - val_accuracy: 0.8371\n",
            "Epoch 18/200\n",
            "222/222 [==============================] - 1s 2ms/step - loss: 0.1072 - accuracy: 0.9610 - val_loss: 0.6870 - val_accuracy: 0.8596\n",
            "Epoch 19/200\n",
            "222/222 [==============================] - 1s 2ms/step - loss: 0.1069 - accuracy: 0.9617 - val_loss: 0.7112 - val_accuracy: 0.8917\n",
            "Epoch 20/200\n",
            "222/222 [==============================] - 1s 2ms/step - loss: 0.1031 - accuracy: 0.9634 - val_loss: 0.7609 - val_accuracy: 0.8555\n",
            "Epoch 21/200\n",
            "222/222 [==============================] - 1s 2ms/step - loss: 0.0970 - accuracy: 0.9628 - val_loss: 0.7635 - val_accuracy: 0.8620\n",
            "Epoch 22/200\n",
            "222/222 [==============================] - 1s 2ms/step - loss: 0.0924 - accuracy: 0.9680 - val_loss: 0.8257 - val_accuracy: 0.8828\n",
            "Epoch 23/200\n",
            "222/222 [==============================] - 1s 3ms/step - loss: 0.0929 - accuracy: 0.9651 - val_loss: 0.8019 - val_accuracy: 0.8684\n",
            "Epoch 24/200\n",
            "222/222 [==============================] - 1s 3ms/step - loss: 0.0868 - accuracy: 0.9682 - val_loss: 0.8198 - val_accuracy: 0.8764\n",
            "Epoch 25/200\n",
            "222/222 [==============================] - 1s 2ms/step - loss: 0.0902 - accuracy: 0.9694 - val_loss: 0.8413 - val_accuracy: 0.8644\n",
            "Epoch 26/200\n",
            "222/222 [==============================] - 1s 2ms/step - loss: 0.0873 - accuracy: 0.9692 - val_loss: 0.8689 - val_accuracy: 0.8892\n",
            "Epoch 27/200\n",
            "222/222 [==============================] - 1s 2ms/step - loss: 0.0806 - accuracy: 0.9696 - val_loss: 0.8799 - val_accuracy: 0.8628\n",
            "Epoch 28/200\n",
            "222/222 [==============================] - 1s 2ms/step - loss: 0.0789 - accuracy: 0.9718 - val_loss: 0.9942 - val_accuracy: 0.8652\n",
            "Epoch 29/200\n",
            "222/222 [==============================] - 1s 2ms/step - loss: 0.0804 - accuracy: 0.9713 - val_loss: 0.9541 - val_accuracy: 0.8660\n",
            "Epoch 30/200\n",
            "222/222 [==============================] - 1s 2ms/step - loss: 0.0802 - accuracy: 0.9724 - val_loss: 0.9853 - val_accuracy: 0.8852\n",
            "Epoch 31/200\n",
            "222/222 [==============================] - 1s 2ms/step - loss: 0.0744 - accuracy: 0.9738 - val_loss: 1.0772 - val_accuracy: 0.8523\n",
            "Epoch 32/200\n",
            "222/222 [==============================] - 0s 2ms/step - loss: 0.0760 - accuracy: 0.9739 - val_loss: 0.9725 - val_accuracy: 0.8724\n",
            "Epoch 33/200\n",
            "222/222 [==============================] - 1s 3ms/step - loss: 0.0691 - accuracy: 0.9768 - val_loss: 1.0389 - val_accuracy: 0.8732\n",
            "Epoch 34/200\n",
            "222/222 [==============================] - 1s 2ms/step - loss: 0.0696 - accuracy: 0.9755 - val_loss: 1.0711 - val_accuracy: 0.8507\n",
            "Epoch 35/200\n",
            "222/222 [==============================] - 1s 2ms/step - loss: 0.0719 - accuracy: 0.9756 - val_loss: 1.0120 - val_accuracy: 0.8652\n",
            "Epoch 36/200\n",
            "222/222 [==============================] - 0s 2ms/step - loss: 0.0623 - accuracy: 0.9803 - val_loss: 1.1027 - val_accuracy: 0.8764\n",
            "Epoch 37/200\n",
            "222/222 [==============================] - 1s 2ms/step - loss: 0.0672 - accuracy: 0.9762 - val_loss: 1.0741 - val_accuracy: 0.8780\n",
            "Epoch 38/200\n",
            "222/222 [==============================] - 1s 3ms/step - loss: 0.0671 - accuracy: 0.9785 - val_loss: 1.1281 - val_accuracy: 0.8716\n",
            "Epoch 39/200\n",
            "222/222 [==============================] - 1s 2ms/step - loss: 0.0627 - accuracy: 0.9775 - val_loss: 1.0890 - val_accuracy: 0.8700\n",
            "Epoch 40/200\n",
            "222/222 [==============================] - 1s 2ms/step - loss: 0.0655 - accuracy: 0.9780 - val_loss: 1.1255 - val_accuracy: 0.8804\n",
            "Epoch 41/200\n",
            "222/222 [==============================] - 1s 2ms/step - loss: 0.0573 - accuracy: 0.9793 - val_loss: 1.1640 - val_accuracy: 0.8957\n",
            "Epoch 42/200\n",
            "222/222 [==============================] - 1s 2ms/step - loss: 0.0608 - accuracy: 0.9800 - val_loss: 1.1518 - val_accuracy: 0.8812\n",
            "Epoch 43/200\n",
            "222/222 [==============================] - 1s 2ms/step - loss: 0.0581 - accuracy: 0.9815 - val_loss: 1.1884 - val_accuracy: 0.8732\n",
            "Epoch 44/200\n",
            "222/222 [==============================] - 1s 2ms/step - loss: 0.0599 - accuracy: 0.9789 - val_loss: 1.2063 - val_accuracy: 0.8724\n",
            "Epoch 45/200\n",
            "222/222 [==============================] - 1s 2ms/step - loss: 0.0564 - accuracy: 0.9810 - val_loss: 1.2341 - val_accuracy: 0.8708\n",
            "Epoch 46/200\n",
            "222/222 [==============================] - 1s 3ms/step - loss: 0.0577 - accuracy: 0.9808 - val_loss: 1.2399 - val_accuracy: 0.8660\n",
            "Epoch 47/200\n",
            "222/222 [==============================] - 1s 2ms/step - loss: 0.0502 - accuracy: 0.9803 - val_loss: 1.3450 - val_accuracy: 0.8852\n",
            "Epoch 48/200\n",
            "222/222 [==============================] - 1s 2ms/step - loss: 0.0522 - accuracy: 0.9821 - val_loss: 1.2882 - val_accuracy: 0.8836\n",
            "Epoch 49/200\n",
            "222/222 [==============================] - 1s 2ms/step - loss: 0.0506 - accuracy: 0.9832 - val_loss: 1.3477 - val_accuracy: 0.8860\n",
            "Epoch 50/200\n",
            "222/222 [==============================] - 1s 3ms/step - loss: 0.0496 - accuracy: 0.9817 - val_loss: 1.3335 - val_accuracy: 0.8612\n",
            "Epoch 51/200\n",
            "222/222 [==============================] - 1s 2ms/step - loss: 0.0528 - accuracy: 0.9824 - val_loss: 1.3924 - val_accuracy: 0.8764\n",
            "Epoch 52/200\n",
            "222/222 [==============================] - 1s 3ms/step - loss: 0.0481 - accuracy: 0.9848 - val_loss: 1.3583 - val_accuracy: 0.8523\n",
            "Epoch 53/200\n",
            "222/222 [==============================] - 1s 2ms/step - loss: 0.0521 - accuracy: 0.9844 - val_loss: 1.4403 - val_accuracy: 0.8812\n",
            "Epoch 54/200\n",
            "222/222 [==============================] - 1s 2ms/step - loss: 0.0470 - accuracy: 0.9825 - val_loss: 1.3904 - val_accuracy: 0.8547\n",
            "Epoch 55/200\n",
            "222/222 [==============================] - 1s 2ms/step - loss: 0.0481 - accuracy: 0.9838 - val_loss: 1.4182 - val_accuracy: 0.8660\n",
            "Epoch 56/200\n",
            "222/222 [==============================] - 1s 2ms/step - loss: 0.0478 - accuracy: 0.9825 - val_loss: 1.4942 - val_accuracy: 0.8973\n",
            "Epoch 57/200\n",
            "222/222 [==============================] - 1s 3ms/step - loss: 0.0482 - accuracy: 0.9846 - val_loss: 1.4556 - val_accuracy: 0.8820\n",
            "Epoch 58/200\n",
            "222/222 [==============================] - 1s 2ms/step - loss: 0.0471 - accuracy: 0.9848 - val_loss: 1.5800 - val_accuracy: 0.9021\n",
            "Epoch 59/200\n",
            "222/222 [==============================] - 1s 2ms/step - loss: 0.0484 - accuracy: 0.9849 - val_loss: 1.5183 - val_accuracy: 0.8868\n",
            "Epoch 60/200\n",
            "222/222 [==============================] - 1s 2ms/step - loss: 0.0457 - accuracy: 0.9846 - val_loss: 1.5646 - val_accuracy: 0.8933\n",
            "Epoch 61/200\n",
            "222/222 [==============================] - 1s 2ms/step - loss: 0.0432 - accuracy: 0.9863 - val_loss: 1.5795 - val_accuracy: 0.8917\n",
            "Epoch 62/200\n",
            "222/222 [==============================] - 1s 2ms/step - loss: 0.0441 - accuracy: 0.9854 - val_loss: 1.5526 - val_accuracy: 0.8884\n",
            "Epoch 63/200\n",
            "222/222 [==============================] - 1s 3ms/step - loss: 0.0471 - accuracy: 0.9855 - val_loss: 1.4903 - val_accuracy: 0.8732\n",
            "Epoch 64/200\n",
            "222/222 [==============================] - 1s 2ms/step - loss: 0.0434 - accuracy: 0.9870 - val_loss: 1.5953 - val_accuracy: 0.8828\n",
            "Epoch 65/200\n",
            "222/222 [==============================] - 1s 3ms/step - loss: 0.0428 - accuracy: 0.9858 - val_loss: 1.5559 - val_accuracy: 0.8852\n",
            "Epoch 66/200\n",
            "222/222 [==============================] - 1s 2ms/step - loss: 0.0419 - accuracy: 0.9882 - val_loss: 1.5519 - val_accuracy: 0.8772\n",
            "Epoch 67/200\n",
            "222/222 [==============================] - 1s 2ms/step - loss: 0.0440 - accuracy: 0.9848 - val_loss: 1.5107 - val_accuracy: 0.8804\n",
            "Epoch 68/200\n",
            "222/222 [==============================] - 1s 2ms/step - loss: 0.0427 - accuracy: 0.9852 - val_loss: 1.5774 - val_accuracy: 0.8708\n",
            "Epoch 69/200\n",
            "222/222 [==============================] - 1s 3ms/step - loss: 0.0428 - accuracy: 0.9866 - val_loss: 1.6153 - val_accuracy: 0.8820\n",
            "Epoch 70/200\n",
            "222/222 [==============================] - 1s 3ms/step - loss: 0.0416 - accuracy: 0.9862 - val_loss: 1.6480 - val_accuracy: 0.9053\n",
            "Epoch 71/200\n",
            "222/222 [==============================] - 1s 2ms/step - loss: 0.0394 - accuracy: 0.9865 - val_loss: 1.6874 - val_accuracy: 0.8884\n",
            "Epoch 72/200\n",
            "222/222 [==============================] - 1s 2ms/step - loss: 0.0414 - accuracy: 0.9861 - val_loss: 1.6562 - val_accuracy: 0.8892\n",
            "Epoch 73/200\n",
            "222/222 [==============================] - 1s 3ms/step - loss: 0.0411 - accuracy: 0.9869 - val_loss: 1.6634 - val_accuracy: 0.8804\n",
            "Epoch 74/200\n",
            "222/222 [==============================] - 1s 2ms/step - loss: 0.0393 - accuracy: 0.9883 - val_loss: 1.6524 - val_accuracy: 0.8852\n",
            "Epoch 75/200\n",
            "222/222 [==============================] - 1s 2ms/step - loss: 0.0413 - accuracy: 0.9861 - val_loss: 1.7121 - val_accuracy: 0.8876\n",
            "Epoch 76/200\n",
            "222/222 [==============================] - 0s 2ms/step - loss: 0.0424 - accuracy: 0.9868 - val_loss: 1.6935 - val_accuracy: 0.8828\n",
            "Epoch 77/200\n",
            "222/222 [==============================] - 0s 2ms/step - loss: 0.0401 - accuracy: 0.9882 - val_loss: 1.7293 - val_accuracy: 0.8909\n",
            "Epoch 78/200\n",
            "222/222 [==============================] - 1s 2ms/step - loss: 0.0375 - accuracy: 0.9873 - val_loss: 1.6550 - val_accuracy: 0.8860\n",
            "Epoch 79/200\n",
            "222/222 [==============================] - 1s 2ms/step - loss: 0.0435 - accuracy: 0.9863 - val_loss: 1.6358 - val_accuracy: 0.8732\n",
            "Epoch 80/200\n",
            "222/222 [==============================] - 1s 3ms/step - loss: 0.0371 - accuracy: 0.9889 - val_loss: 1.7936 - val_accuracy: 0.8884\n",
            "Epoch 81/200\n",
            "222/222 [==============================] - 1s 2ms/step - loss: 0.0368 - accuracy: 0.9875 - val_loss: 1.6151 - val_accuracy: 0.8820\n",
            "Epoch 82/200\n",
            "222/222 [==============================] - 1s 2ms/step - loss: 0.0385 - accuracy: 0.9877 - val_loss: 1.6451 - val_accuracy: 0.8628\n",
            "Epoch 83/200\n",
            "222/222 [==============================] - 1s 2ms/step - loss: 0.0389 - accuracy: 0.9877 - val_loss: 1.8387 - val_accuracy: 0.9085\n",
            "Epoch 84/200\n",
            "222/222 [==============================] - 1s 2ms/step - loss: 0.0378 - accuracy: 0.9872 - val_loss: 1.6001 - val_accuracy: 0.8844\n",
            "Epoch 85/200\n",
            "222/222 [==============================] - 1s 3ms/step - loss: 0.0383 - accuracy: 0.9886 - val_loss: 1.6244 - val_accuracy: 0.8788\n",
            "Epoch 86/200\n",
            "222/222 [==============================] - 1s 2ms/step - loss: 0.0370 - accuracy: 0.9896 - val_loss: 1.9429 - val_accuracy: 0.9085\n",
            "Epoch 87/200\n",
            "222/222 [==============================] - 1s 2ms/step - loss: 0.0362 - accuracy: 0.9889 - val_loss: 1.6985 - val_accuracy: 0.8764\n",
            "Epoch 88/200\n",
            "222/222 [==============================] - 1s 3ms/step - loss: 0.0386 - accuracy: 0.9885 - val_loss: 1.7227 - val_accuracy: 0.8965\n",
            "Epoch 89/200\n",
            "222/222 [==============================] - 1s 2ms/step - loss: 0.0381 - accuracy: 0.9896 - val_loss: 1.7514 - val_accuracy: 0.8981\n",
            "Epoch 90/200\n",
            "222/222 [==============================] - 1s 2ms/step - loss: 0.0392 - accuracy: 0.9869 - val_loss: 1.6794 - val_accuracy: 0.8804\n",
            "Epoch 91/200\n",
            "222/222 [==============================] - 1s 2ms/step - loss: 0.0334 - accuracy: 0.9892 - val_loss: 1.6924 - val_accuracy: 0.8764\n",
            "Epoch 92/200\n",
            "222/222 [==============================] - 1s 2ms/step - loss: 0.0344 - accuracy: 0.9890 - val_loss: 1.8981 - val_accuracy: 0.8949\n",
            "Epoch 93/200\n",
            "222/222 [==============================] - 1s 2ms/step - loss: 0.0354 - accuracy: 0.9894 - val_loss: 1.6608 - val_accuracy: 0.8587\n",
            "Epoch 94/200\n",
            "222/222 [==============================] - 1s 3ms/step - loss: 0.0349 - accuracy: 0.9893 - val_loss: 1.9153 - val_accuracy: 0.9013\n",
            "Epoch 95/200\n",
            "222/222 [==============================] - 1s 2ms/step - loss: 0.0323 - accuracy: 0.9897 - val_loss: 1.9275 - val_accuracy: 0.8788\n",
            "Epoch 96/200\n",
            "222/222 [==============================] - 1s 2ms/step - loss: 0.0375 - accuracy: 0.9880 - val_loss: 1.8040 - val_accuracy: 0.9013\n",
            "Epoch 97/200\n",
            "222/222 [==============================] - 1s 3ms/step - loss: 0.0362 - accuracy: 0.9889 - val_loss: 1.8031 - val_accuracy: 0.8820\n",
            "Epoch 98/200\n",
            "222/222 [==============================] - 1s 2ms/step - loss: 0.0305 - accuracy: 0.9910 - val_loss: 1.9673 - val_accuracy: 0.8884\n",
            "Epoch 99/200\n",
            "222/222 [==============================] - 1s 2ms/step - loss: 0.0351 - accuracy: 0.9886 - val_loss: 1.7490 - val_accuracy: 0.8804\n",
            "Epoch 100/200\n",
            "222/222 [==============================] - 1s 2ms/step - loss: 0.0354 - accuracy: 0.9890 - val_loss: 1.8747 - val_accuracy: 0.9005\n",
            "Epoch 101/200\n",
            "222/222 [==============================] - 1s 2ms/step - loss: 0.0335 - accuracy: 0.9896 - val_loss: 1.7969 - val_accuracy: 0.8965\n",
            "Epoch 102/200\n",
            "222/222 [==============================] - 1s 2ms/step - loss: 0.0368 - accuracy: 0.9892 - val_loss: 1.7866 - val_accuracy: 0.8812\n",
            "Epoch 103/200\n",
            "222/222 [==============================] - 1s 2ms/step - loss: 0.0380 - accuracy: 0.9893 - val_loss: 1.8238 - val_accuracy: 0.8708\n",
            "Epoch 104/200\n",
            "222/222 [==============================] - 1s 2ms/step - loss: 0.0360 - accuracy: 0.9894 - val_loss: 1.9088 - val_accuracy: 0.8876\n",
            "Epoch 105/200\n",
            "222/222 [==============================] - 1s 2ms/step - loss: 0.0285 - accuracy: 0.9894 - val_loss: 1.9190 - val_accuracy: 0.8900\n",
            "Epoch 106/200\n",
            "222/222 [==============================] - 1s 2ms/step - loss: 0.0334 - accuracy: 0.9897 - val_loss: 1.8621 - val_accuracy: 0.8644\n",
            "Epoch 107/200\n",
            "222/222 [==============================] - 1s 3ms/step - loss: 0.0330 - accuracy: 0.9906 - val_loss: 1.9611 - val_accuracy: 0.8933\n",
            "Epoch 108/200\n",
            "222/222 [==============================] - 1s 2ms/step - loss: 0.0295 - accuracy: 0.9906 - val_loss: 1.8334 - val_accuracy: 0.8957\n",
            "Epoch 109/200\n",
            "222/222 [==============================] - 1s 2ms/step - loss: 0.0307 - accuracy: 0.9899 - val_loss: 2.0788 - val_accuracy: 0.9045\n",
            "Epoch 110/200\n",
            "222/222 [==============================] - 1s 2ms/step - loss: 0.0318 - accuracy: 0.9899 - val_loss: 1.9141 - val_accuracy: 0.8917\n",
            "Epoch 111/200\n",
            "222/222 [==============================] - 1s 2ms/step - loss: 0.0309 - accuracy: 0.9903 - val_loss: 1.8697 - val_accuracy: 0.8820\n",
            "Epoch 112/200\n",
            "222/222 [==============================] - 1s 2ms/step - loss: 0.0318 - accuracy: 0.9899 - val_loss: 1.9404 - val_accuracy: 0.8884\n",
            "Epoch 113/200\n",
            "222/222 [==============================] - 1s 3ms/step - loss: 0.0315 - accuracy: 0.9907 - val_loss: 2.0127 - val_accuracy: 0.8917\n",
            "Epoch 114/200\n",
            "222/222 [==============================] - 1s 2ms/step - loss: 0.0304 - accuracy: 0.9913 - val_loss: 2.0243 - val_accuracy: 0.8925\n",
            "Epoch 115/200\n",
            "222/222 [==============================] - 1s 2ms/step - loss: 0.0309 - accuracy: 0.9911 - val_loss: 2.0346 - val_accuracy: 0.8884\n",
            "Epoch 116/200\n",
            "222/222 [==============================] - 1s 3ms/step - loss: 0.0318 - accuracy: 0.9894 - val_loss: 2.0511 - val_accuracy: 0.8981\n",
            "Epoch 117/200\n",
            "222/222 [==============================] - 1s 2ms/step - loss: 0.0314 - accuracy: 0.9892 - val_loss: 1.9205 - val_accuracy: 0.8965\n",
            "Epoch 118/200\n",
            "222/222 [==============================] - 1s 3ms/step - loss: 0.0290 - accuracy: 0.9907 - val_loss: 2.0060 - val_accuracy: 0.8909\n",
            "Epoch 119/200\n",
            "222/222 [==============================] - 1s 3ms/step - loss: 0.0302 - accuracy: 0.9901 - val_loss: 2.1210 - val_accuracy: 0.8909\n",
            "Epoch 120/200\n",
            "222/222 [==============================] - 1s 2ms/step - loss: 0.0295 - accuracy: 0.9896 - val_loss: 1.9037 - val_accuracy: 0.8684\n",
            "Epoch 121/200\n",
            "222/222 [==============================] - 1s 2ms/step - loss: 0.0279 - accuracy: 0.9917 - val_loss: 2.0343 - val_accuracy: 0.8884\n",
            "Epoch 122/200\n",
            "222/222 [==============================] - 1s 2ms/step - loss: 0.0295 - accuracy: 0.9907 - val_loss: 2.0252 - val_accuracy: 0.8917\n",
            "Epoch 123/200\n",
            "222/222 [==============================] - 1s 2ms/step - loss: 0.0280 - accuracy: 0.9908 - val_loss: 2.1555 - val_accuracy: 0.9061\n",
            "Epoch 124/200\n",
            "222/222 [==============================] - 1s 2ms/step - loss: 0.0322 - accuracy: 0.9903 - val_loss: 2.1758 - val_accuracy: 0.9013\n",
            "Epoch 125/200\n",
            "222/222 [==============================] - 1s 2ms/step - loss: 0.0272 - accuracy: 0.9917 - val_loss: 2.0047 - val_accuracy: 0.8957\n",
            "Epoch 126/200\n",
            "222/222 [==============================] - 1s 2ms/step - loss: 0.0293 - accuracy: 0.9910 - val_loss: 2.0935 - val_accuracy: 0.8941\n",
            "Epoch 127/200\n",
            "222/222 [==============================] - 1s 2ms/step - loss: 0.0316 - accuracy: 0.9917 - val_loss: 2.0476 - val_accuracy: 0.8892\n",
            "Epoch 128/200\n",
            "222/222 [==============================] - 1s 2ms/step - loss: 0.0271 - accuracy: 0.9918 - val_loss: 2.0852 - val_accuracy: 0.8949\n",
            "Epoch 129/200\n",
            "222/222 [==============================] - 1s 2ms/step - loss: 0.0262 - accuracy: 0.9920 - val_loss: 2.4879 - val_accuracy: 0.9133\n",
            "Epoch 130/200\n",
            "222/222 [==============================] - 1s 3ms/step - loss: 0.0280 - accuracy: 0.9904 - val_loss: 2.1261 - val_accuracy: 0.8900\n",
            "Epoch 131/200\n",
            "222/222 [==============================] - 1s 3ms/step - loss: 0.0287 - accuracy: 0.9911 - val_loss: 2.3006 - val_accuracy: 0.9037\n",
            "Epoch 132/200\n",
            "222/222 [==============================] - 1s 3ms/step - loss: 0.0259 - accuracy: 0.9918 - val_loss: 2.0742 - val_accuracy: 0.8788\n",
            "Epoch 133/200\n",
            "222/222 [==============================] - 1s 3ms/step - loss: 0.0277 - accuracy: 0.9910 - val_loss: 2.1851 - val_accuracy: 0.8764\n",
            "Epoch 134/200\n",
            "222/222 [==============================] - 1s 3ms/step - loss: 0.0306 - accuracy: 0.9910 - val_loss: 2.1197 - val_accuracy: 0.8852\n",
            "Epoch 135/200\n",
            "222/222 [==============================] - 1s 3ms/step - loss: 0.0316 - accuracy: 0.9907 - val_loss: 2.3713 - val_accuracy: 0.9005\n",
            "Epoch 136/200\n",
            "222/222 [==============================] - 1s 2ms/step - loss: 0.0304 - accuracy: 0.9906 - val_loss: 2.0851 - val_accuracy: 0.8812\n",
            "Epoch 137/200\n",
            "222/222 [==============================] - 1s 2ms/step - loss: 0.0274 - accuracy: 0.9914 - val_loss: 2.1041 - val_accuracy: 0.8844\n",
            "Epoch 138/200\n",
            "222/222 [==============================] - 1s 3ms/step - loss: 0.0293 - accuracy: 0.9914 - val_loss: 2.0471 - val_accuracy: 0.8836\n",
            "Epoch 139/200\n",
            "222/222 [==============================] - 1s 2ms/step - loss: 0.0277 - accuracy: 0.9915 - val_loss: 2.1269 - val_accuracy: 0.8949\n",
            "Epoch 140/200\n",
            "222/222 [==============================] - 1s 2ms/step - loss: 0.0329 - accuracy: 0.9903 - val_loss: 1.9816 - val_accuracy: 0.8820\n",
            "Epoch 141/200\n",
            "222/222 [==============================] - 1s 3ms/step - loss: 0.0295 - accuracy: 0.9901 - val_loss: 2.0805 - val_accuracy: 0.8844\n",
            "Epoch 142/200\n",
            "222/222 [==============================] - 1s 2ms/step - loss: 0.0289 - accuracy: 0.9918 - val_loss: 2.0271 - val_accuracy: 0.8772\n",
            "Epoch 143/200\n",
            "222/222 [==============================] - 1s 2ms/step - loss: 0.0283 - accuracy: 0.9911 - val_loss: 2.2775 - val_accuracy: 0.9069\n",
            "Epoch 144/200\n",
            "222/222 [==============================] - 1s 2ms/step - loss: 0.0256 - accuracy: 0.9915 - val_loss: 2.0915 - val_accuracy: 0.8820\n",
            "Epoch 145/200\n",
            "222/222 [==============================] - 1s 2ms/step - loss: 0.0231 - accuracy: 0.9927 - val_loss: 2.3268 - val_accuracy: 0.9005\n",
            "Epoch 146/200\n",
            "222/222 [==============================] - 1s 3ms/step - loss: 0.0290 - accuracy: 0.9915 - val_loss: 2.2211 - val_accuracy: 0.8892\n",
            "Epoch 147/200\n",
            "222/222 [==============================] - 1s 2ms/step - loss: 0.0299 - accuracy: 0.9920 - val_loss: 2.3717 - val_accuracy: 0.8941\n",
            "Epoch 148/200\n",
            "222/222 [==============================] - 1s 3ms/step - loss: 0.0276 - accuracy: 0.9917 - val_loss: 2.2663 - val_accuracy: 0.9021\n",
            "Epoch 149/200\n",
            "222/222 [==============================] - 1s 3ms/step - loss: 0.0281 - accuracy: 0.9913 - val_loss: 2.3082 - val_accuracy: 0.8997\n",
            "Epoch 150/200\n",
            "222/222 [==============================] - 1s 3ms/step - loss: 0.0281 - accuracy: 0.9910 - val_loss: 2.3996 - val_accuracy: 0.9053\n",
            "Epoch 151/200\n",
            "222/222 [==============================] - 1s 3ms/step - loss: 0.0283 - accuracy: 0.9910 - val_loss: 2.2375 - val_accuracy: 0.8965\n",
            "Epoch 152/200\n",
            "222/222 [==============================] - 1s 4ms/step - loss: 0.0286 - accuracy: 0.9913 - val_loss: 2.1804 - val_accuracy: 0.8909\n",
            "Epoch 153/200\n",
            "222/222 [==============================] - 1s 5ms/step - loss: 0.0315 - accuracy: 0.9894 - val_loss: 2.1001 - val_accuracy: 0.8716\n",
            "Epoch 154/200\n",
            "222/222 [==============================] - 1s 6ms/step - loss: 0.0288 - accuracy: 0.9904 - val_loss: 2.2450 - val_accuracy: 0.8836\n",
            "Epoch 155/200\n",
            "222/222 [==============================] - 1s 6ms/step - loss: 0.0294 - accuracy: 0.9910 - val_loss: 2.2491 - val_accuracy: 0.8876\n",
            "Epoch 156/200\n",
            "222/222 [==============================] - 1s 2ms/step - loss: 0.0241 - accuracy: 0.9920 - val_loss: 2.2959 - val_accuracy: 0.8796\n",
            "Epoch 157/200\n",
            "222/222 [==============================] - 1s 3ms/step - loss: 0.0296 - accuracy: 0.9917 - val_loss: 2.4128 - val_accuracy: 0.8949\n",
            "Epoch 158/200\n",
            "222/222 [==============================] - 1s 2ms/step - loss: 0.0242 - accuracy: 0.9927 - val_loss: 2.5368 - val_accuracy: 0.9021\n",
            "Epoch 159/200\n",
            "222/222 [==============================] - 1s 3ms/step - loss: 0.0292 - accuracy: 0.9917 - val_loss: 2.2794 - val_accuracy: 0.8852\n",
            "Epoch 160/200\n",
            "222/222 [==============================] - 1s 3ms/step - loss: 0.0281 - accuracy: 0.9914 - val_loss: 2.3164 - val_accuracy: 0.8724\n",
            "Epoch 161/200\n",
            "222/222 [==============================] - 1s 3ms/step - loss: 0.0287 - accuracy: 0.9911 - val_loss: 2.4606 - val_accuracy: 0.8860\n",
            "Epoch 162/200\n",
            "222/222 [==============================] - 1s 3ms/step - loss: 0.0253 - accuracy: 0.9925 - val_loss: 2.5329 - val_accuracy: 0.8900\n",
            "Epoch 163/200\n",
            "222/222 [==============================] - 1s 3ms/step - loss: 0.0241 - accuracy: 0.9918 - val_loss: 2.3653 - val_accuracy: 0.8917\n",
            "Epoch 164/200\n",
            "222/222 [==============================] - 1s 3ms/step - loss: 0.0250 - accuracy: 0.9915 - val_loss: 2.2294 - val_accuracy: 0.8652\n",
            "Epoch 165/200\n",
            "222/222 [==============================] - 1s 2ms/step - loss: 0.0248 - accuracy: 0.9925 - val_loss: 2.3789 - val_accuracy: 0.8876\n",
            "Epoch 166/200\n",
            "222/222 [==============================] - 1s 3ms/step - loss: 0.0214 - accuracy: 0.9934 - val_loss: 2.6714 - val_accuracy: 0.8949\n",
            "Epoch 167/200\n",
            "222/222 [==============================] - 1s 3ms/step - loss: 0.0257 - accuracy: 0.9927 - val_loss: 2.5391 - val_accuracy: 0.8973\n",
            "Epoch 168/200\n",
            "222/222 [==============================] - 1s 2ms/step - loss: 0.0224 - accuracy: 0.9934 - val_loss: 2.4707 - val_accuracy: 0.8820\n",
            "Epoch 169/200\n",
            "222/222 [==============================] - 1s 3ms/step - loss: 0.0232 - accuracy: 0.9925 - val_loss: 2.6354 - val_accuracy: 0.9029\n",
            "Epoch 170/200\n",
            "222/222 [==============================] - 1s 2ms/step - loss: 0.0224 - accuracy: 0.9930 - val_loss: 2.4790 - val_accuracy: 0.8876\n",
            "Epoch 171/200\n",
            "222/222 [==============================] - 1s 2ms/step - loss: 0.0283 - accuracy: 0.9913 - val_loss: 2.4994 - val_accuracy: 0.8973\n",
            "Epoch 172/200\n",
            "222/222 [==============================] - 1s 2ms/step - loss: 0.0246 - accuracy: 0.9927 - val_loss: 2.5506 - val_accuracy: 0.8973\n",
            "Epoch 173/200\n",
            "222/222 [==============================] - 1s 3ms/step - loss: 0.0245 - accuracy: 0.9927 - val_loss: 2.5049 - val_accuracy: 0.8965\n",
            "Epoch 174/200\n",
            "222/222 [==============================] - 1s 3ms/step - loss: 0.0283 - accuracy: 0.9913 - val_loss: 2.5619 - val_accuracy: 0.8868\n",
            "Epoch 175/200\n",
            "222/222 [==============================] - 1s 3ms/step - loss: 0.0250 - accuracy: 0.9920 - val_loss: 2.4689 - val_accuracy: 0.8941\n",
            "Epoch 176/200\n",
            "222/222 [==============================] - 1s 3ms/step - loss: 0.0252 - accuracy: 0.9924 - val_loss: 2.4884 - val_accuracy: 0.8836\n",
            "Epoch 177/200\n",
            "222/222 [==============================] - 1s 3ms/step - loss: 0.0251 - accuracy: 0.9927 - val_loss: 2.6420 - val_accuracy: 0.8933\n",
            "Epoch 178/200\n",
            "222/222 [==============================] - 1s 3ms/step - loss: 0.0301 - accuracy: 0.9923 - val_loss: 2.6939 - val_accuracy: 0.8917\n",
            "Epoch 179/200\n",
            "222/222 [==============================] - 1s 2ms/step - loss: 0.0245 - accuracy: 0.9927 - val_loss: 2.4559 - val_accuracy: 0.8852\n",
            "Epoch 180/200\n",
            "222/222 [==============================] - 1s 2ms/step - loss: 0.0276 - accuracy: 0.9915 - val_loss: 2.5695 - val_accuracy: 0.8796\n",
            "Epoch 181/200\n",
            "222/222 [==============================] - 1s 3ms/step - loss: 0.0250 - accuracy: 0.9924 - val_loss: 2.6594 - val_accuracy: 0.8700\n",
            "Epoch 182/200\n",
            "222/222 [==============================] - 1s 3ms/step - loss: 0.0228 - accuracy: 0.9924 - val_loss: 2.5110 - val_accuracy: 0.8868\n",
            "Epoch 183/200\n",
            "222/222 [==============================] - 1s 3ms/step - loss: 0.0243 - accuracy: 0.9928 - val_loss: 2.6696 - val_accuracy: 0.8933\n",
            "Epoch 184/200\n",
            "222/222 [==============================] - 1s 2ms/step - loss: 0.0237 - accuracy: 0.9928 - val_loss: 2.6797 - val_accuracy: 0.8828\n",
            "Epoch 185/200\n",
            "222/222 [==============================] - 1s 3ms/step - loss: 0.0235 - accuracy: 0.9931 - val_loss: 2.6191 - val_accuracy: 0.8860\n",
            "Epoch 186/200\n",
            "222/222 [==============================] - 1s 2ms/step - loss: 0.0218 - accuracy: 0.9938 - val_loss: 2.6820 - val_accuracy: 0.8981\n",
            "Epoch 187/200\n",
            "222/222 [==============================] - 1s 3ms/step - loss: 0.0223 - accuracy: 0.9939 - val_loss: 2.4879 - val_accuracy: 0.8836\n",
            "Epoch 188/200\n",
            "222/222 [==============================] - 1s 2ms/step - loss: 0.0267 - accuracy: 0.9928 - val_loss: 2.7769 - val_accuracy: 0.9013\n",
            "Epoch 189/200\n",
            "222/222 [==============================] - 1s 3ms/step - loss: 0.0242 - accuracy: 0.9930 - val_loss: 2.5225 - val_accuracy: 0.8852\n",
            "Epoch 190/200\n",
            "222/222 [==============================] - 1s 2ms/step - loss: 0.0284 - accuracy: 0.9910 - val_loss: 2.6444 - val_accuracy: 0.8820\n",
            "Epoch 191/200\n",
            "222/222 [==============================] - 1s 3ms/step - loss: 0.0235 - accuracy: 0.9939 - val_loss: 2.8430 - val_accuracy: 0.8892\n",
            "Epoch 192/200\n",
            "222/222 [==============================] - 1s 3ms/step - loss: 0.0261 - accuracy: 0.9931 - val_loss: 2.7392 - val_accuracy: 0.9037\n",
            "Epoch 193/200\n",
            "222/222 [==============================] - 1s 2ms/step - loss: 0.0276 - accuracy: 0.9924 - val_loss: 2.8886 - val_accuracy: 0.9077\n",
            "Epoch 194/200\n",
            "222/222 [==============================] - 1s 3ms/step - loss: 0.0254 - accuracy: 0.9918 - val_loss: 2.9055 - val_accuracy: 0.8989\n",
            "Epoch 195/200\n",
            "222/222 [==============================] - 1s 3ms/step - loss: 0.0286 - accuracy: 0.9930 - val_loss: 2.6869 - val_accuracy: 0.8884\n",
            "Epoch 196/200\n",
            "222/222 [==============================] - 1s 3ms/step - loss: 0.0261 - accuracy: 0.9917 - val_loss: 2.6764 - val_accuracy: 0.8933\n",
            "Epoch 197/200\n",
            "222/222 [==============================] - 1s 3ms/step - loss: 0.0219 - accuracy: 0.9927 - val_loss: 2.6688 - val_accuracy: 0.8724\n",
            "Epoch 198/200\n",
            "222/222 [==============================] - 1s 3ms/step - loss: 0.0257 - accuracy: 0.9924 - val_loss: 2.6762 - val_accuracy: 0.8852\n",
            "Epoch 199/200\n",
            "222/222 [==============================] - 1s 3ms/step - loss: 0.0228 - accuracy: 0.9924 - val_loss: 2.8780 - val_accuracy: 0.9013\n",
            "Epoch 200/200\n",
            "222/222 [==============================] - 1s 3ms/step - loss: 0.0270 - accuracy: 0.9924 - val_loss: 2.8718 - val_accuracy: 0.8933\n"
          ]
        }
      ]
    },
    {
      "cell_type": "code",
      "source": [
        "# Plotting the results \n",
        "\n",
        "plt.plot(history.history[\"accuracy\"],color=\"green\")\n",
        "plt.plot(history.history[\"val_accuracy\"])"
      ],
      "metadata": {
        "colab": {
          "base_uri": "https://localhost:8080/",
          "height": 282
        },
        "id": "h7NcvDvTNiLN",
        "outputId": "bc8969af-7a6d-4c2f-ac77-06f744cfb657"
      },
      "execution_count": 42,
      "outputs": [
        {
          "output_type": "execute_result",
          "data": {
            "text/plain": [
              "[<matplotlib.lines.Line2D at 0x7f03199b2450>]"
            ]
          },
          "metadata": {},
          "execution_count": 42
        },
        {
          "output_type": "display_data",
          "data": {
            "text/plain": [
              "<Figure size 432x288 with 1 Axes>"
            ],
            "image/png": "[encoded data removed]"
          },
          "metadata": {
            "needs_background": "light"
          }
        }
      ]
    },
    {
      "cell_type": "code",
      "source": [
        "# Plotting the results \n",
        "\n",
        "plt.plot(history.history[\"loss\"],color=\"green\")\n",
        "plt.plot(history.history[\"val_loss\"])"
      ],
      "metadata": {
        "colab": {
          "base_uri": "https://localhost:8080/",
          "height": 283
        },
        "id": "k9g_UaOUNiN1",
        "outputId": "29ae6682-08a0-4276-8ea1-e9a3c3d7c9ea"
      },
      "execution_count": 43,
      "outputs": [
        {
          "output_type": "execute_result",
          "data": {
            "text/plain": [
              "[<matplotlib.lines.Line2D at 0x7f0319923a10>]"
            ]
          },
          "metadata": {},
          "execution_count": 43
        },
        {
          "output_type": "display_data",
          "data": {
            "text/plain": [
              "<Figure size 432x288 with 1 Axes>"
            ],
            "image/png": "[encoded data removed]"
          },
          "metadata": {
            "needs_background": "light"
          }
        }
      ]
    },
    {
      "cell_type": "code",
      "source": [
        "model.save(\"model.h5\")"
      ],
      "metadata": {
        "id": "sW38noDLNiQM"
      },
      "execution_count": null,
      "outputs": []
    },
    {
      "cell_type": "markdown",
      "source": [
        "# HYPERPARAMETER TUNING\n"
      ],
      "metadata": {
        "id": "bwnxhKL1POGj"
      }
    },
    {
      "cell_type": "code",
      "source": [
        "def build_model(n_hidden = 1, n_neurons=30, learning_rate=0.2, input_shape=X.shape[1]):\n",
        "  model = keras.models.Sequential()\n",
        "\n",
        "  option = {\"input_shape\": input_shape}\n",
        "\n",
        "  for layer in range(n_hidden):\n",
        "    options = {}\n",
        "    model.add(keras.layers.Dense(n_neurons, activation=\"relu\", **options))\n",
        "    \n",
        "  model.add(keras.layers.Dense(1,**options))\n",
        "  optimizer = keras.optimizers.SGD(learning_rate)\n",
        "\n",
        "  model.compile(loss=\"binary_crossentropy\", metrics = [\"accuracy\"], optimizer = optimizer)\n",
        "  return model "
      ],
      "metadata": {
        "id": "T0RLLy9KlJyd"
      },
      "execution_count": 84,
      "outputs": []
    },
    {
      "cell_type": "code",
      "source": [
        "keras_reg = keras.wrappers.scikit_learn.KerasRegressor(build_model)"
      ],
      "metadata": {
        "colab": {
          "base_uri": "https://localhost:8080/"
        },
        "id": "cSueMrmSGITG",
        "outputId": "aa055773-31ce-49f6-a090-8ea218b7345f"
      },
      "execution_count": 85,
      "outputs": [
        {
          "output_type": "stream",
          "name": "stderr",
          "text": [
            "/usr/local/lib/python3.7/dist-packages/ipykernel_launcher.py:1: DeprecationWarning: KerasRegressor is deprecated, use Sci-Keras (https://github.com/adriangb/scikeras) instead. See https://www.adriangb.com/scikeras/stable/migration.html for help migrating.\n",
            "  \"\"\"Entry point for launching an IPython kernel.\n"
          ]
        }
      ]
    },
    {
      "cell_type": "code",
      "source": [
        "keras_reg.fit(train_X,train_y, epochs=100, validation_data=[(test_X,test_y)], callbacks=[keras.callbacks.EarlyStopping(patience=10)])"
      ],
      "metadata": {
        "colab": {
          "base_uri": "https://localhost:8080/"
        },
        "id": "lZSsDFuLGq_-",
        "outputId": "1a0aea31-b88e-460e-aa29-0a1464e9547d"
      },
      "execution_count": 86,
      "outputs": [
        {
          "output_type": "stream",
          "name": "stdout",
          "text": [
            "Epoch 1/100\n",
            "212/222 [===========================>..] - ETA: 0s - loss: 7.5878 - accuracy: 0.5031WARNING:tensorflow:Layers in a Sequential model should only have a single input tensor. Received: inputs=(<tf.Tensor 'IteratorGetNext:0' shape=(None, 10) dtype=float64>, <tf.Tensor 'IteratorGetNext:1' shape=(None, 1) dtype=int64>). Consider rewriting this model with the Functional API.\n"
          ]
        },
        {
          "output_type": "stream",
          "name": "stderr",
          "text": [
            "WARNING:tensorflow:Layers in a Sequential model should only have a single input tensor. Received: inputs=(<tf.Tensor 'IteratorGetNext:0' shape=(None, 10) dtype=float64>, <tf.Tensor 'IteratorGetNext:1' shape=(None, 1) dtype=int64>). Consider rewriting this model with the Functional API.\n"
          ]
        },
        {
          "output_type": "stream",
          "name": "stdout",
          "text": [
            "\b\b\b\b\b\b\b\b\b\b\b\b\b\b\b\b\b\b\b\b\b\b\b\b\b\b\b\b\b\b\b\b\b\b\b\b\b\b\b\b\b\b\b\b\b\b\b\b\b\b\b\b\b\b\b\b\b\b\b\b\b\b\b\b\b\b\b\b\b\b\b\b\b\b\b\b\b\b\b\b\b\b\b\b\r222/222 [==============================] - 1s 2ms/step - loss: 7.5955 - accuracy: 0.5028 - val_loss: 0.0000e+00 - val_accuracy: 0.0000e+00\n",
            "Epoch 2/100\n",
            "222/222 [==============================] - 0s 2ms/step - loss: 7.7125 - accuracy: 0.5000 - val_loss: 0.0000e+00 - val_accuracy: 0.0000e+00\n",
            "Epoch 3/100\n",
            "222/222 [==============================] - 0s 2ms/step - loss: 7.7125 - accuracy: 0.5000 - val_loss: 0.0000e+00 - val_accuracy: 0.0000e+00\n",
            "Epoch 4/100\n",
            "222/222 [==============================] - 0s 2ms/step - loss: 7.7125 - accuracy: 0.5000 - val_loss: 0.0000e+00 - val_accuracy: 0.0000e+00\n",
            "Epoch 5/100\n",
            "222/222 [==============================] - 0s 2ms/step - loss: 7.7125 - accuracy: 0.5000 - val_loss: 0.0000e+00 - val_accuracy: 0.0000e+00\n",
            "Epoch 6/100\n",
            "222/222 [==============================] - 0s 2ms/step - loss: 7.7125 - accuracy: 0.5000 - val_loss: 0.0000e+00 - val_accuracy: 0.0000e+00\n",
            "Epoch 7/100\n",
            "222/222 [==============================] - 0s 2ms/step - loss: 7.7125 - accuracy: 0.5000 - val_loss: 0.0000e+00 - val_accuracy: 0.0000e+00\n",
            "Epoch 8/100\n",
            "222/222 [==============================] - 0s 2ms/step - loss: 7.7125 - accuracy: 0.5000 - val_loss: 0.0000e+00 - val_accuracy: 0.0000e+00\n",
            "Epoch 9/100\n",
            "222/222 [==============================] - 0s 2ms/step - loss: 7.7125 - accuracy: 0.5000 - val_loss: 0.0000e+00 - val_accuracy: 0.0000e+00\n",
            "Epoch 10/100\n",
            "222/222 [==============================] - 0s 2ms/step - loss: 7.7125 - accuracy: 0.5000 - val_loss: 0.0000e+00 - val_accuracy: 0.0000e+00\n",
            "Epoch 11/100\n",
            "222/222 [==============================] - 0s 2ms/step - loss: 7.7125 - accuracy: 0.5000 - val_loss: 0.0000e+00 - val_accuracy: 0.0000e+00\n"
          ]
        },
        {
          "output_type": "execute_result",
          "data": {
            "text/plain": [
              "<keras.callbacks.History at 0x7f0316a99c90>"
            ]
          },
          "metadata": {},
          "execution_count": 86
        }
      ]
    },
    {
      "cell_type": "code",
      "source": [
        "from scipy.stats import reciprocal \n",
        "\n",
        "from sklearn.model_selection import RandomizedSearchCV"
      ],
      "metadata": {
        "id": "r-QQvbUpGx3I"
      },
      "execution_count": 87,
      "outputs": []
    },
    {
      "cell_type": "code",
      "source": [
        "params = {\n",
        "    \"epochs\":[10,20,30,40,50,60,70,80,90,100,110,120,130,140,150,160,170,180,190,200],\n",
        "    \"learning_rate\":[0.001,0.01,0.05,0.075,0.1,0.15,0.2,0.25,0.3,0.35,0.4,0.45,0.5],\n",
        "    \"n_hidden\":[0,1,2,3,4,5,6,7],\n",
        "    \"n_neurons\":np.arange(30)\n",
        "}"
      ],
      "metadata": {
        "id": "0pKp8JryJCv7"
      },
      "execution_count": 88,
      "outputs": []
    },
    {
      "cell_type": "code",
      "source": [
        ""
      ],
      "metadata": {
        "id": "-hPbXdZNO9Qc"
      },
      "execution_count": 88,
      "outputs": []
    },
    {
      "cell_type": "code",
      "source": [
        "random_searchCV = RandomizedSearchCV(keras_reg, param_distributions=params, n_iter=10,cv=3)"
      ],
      "metadata": {
        "id": "e4-fsVFiJDhY"
      },
      "execution_count": 89,
      "outputs": []
    },
    {
      "cell_type": "code",
      "source": [
        "random_searchCV.fit(train_X,train_y, epochs=100, validation_data=[(test_X,test_y)], callbacks=[keras.callbacks.EarlyStopping(patience=10)])"
      ],
      "metadata": {
        "colab": {
          "base_uri": "https://localhost:8080/"
        },
        "id": "YbSwLgHUJbHD",
        "outputId": "752d2a98-35b9-4d8b-9e68-cf5a25142cbe"
      },
      "execution_count": 90,
      "outputs": [
        {
          "output_type": "stream",
          "name": "stdout",
          "text": [
            "Epoch 1/100\n",
            "130/148 [=========================>....] - ETA: 0s - loss: 4.1687 - accuracy: 0.7243WARNING:tensorflow:Layers in a Sequential model should only have a single input tensor. Received: inputs=(<tf.Tensor 'IteratorGetNext:0' shape=(None, 10) dtype=float64>, <tf.Tensor 'IteratorGetNext:1' shape=(None, 1) dtype=int64>). Consider rewriting this model with the Functional API.\n"
          ]
        },
        {
          "output_type": "stream",
          "name": "stderr",
          "text": [
            "WARNING:tensorflow:Layers in a Sequential model should only have a single input tensor. Received: inputs=(<tf.Tensor 'IteratorGetNext:0' shape=(None, 10) dtype=float64>, <tf.Tensor 'IteratorGetNext:1' shape=(None, 1) dtype=int64>). Consider rewriting this model with the Functional API.\n"
          ]
        },
        {
          "output_type": "stream",
          "name": "stdout",
          "text": [
            "\b\b\b\b\b\b\b\b\b\b\b\b\b\b\b\b\b\b\b\b\b\b\b\b\b\b\b\b\b\b\b\b\b\b\b\b\b\b\b\b\b\b\b\b\b\b\b\b\b\b\b\b\b\b\b\b\b\b\b\b\b\b\b\b\b\b\b\b\b\b\b\b\b\b\b\b\b\b\b\b\b\b\b\b\r148/148 [==============================] - 1s 3ms/step - loss: 4.1924 - accuracy: 0.7230 - val_loss: 0.0000e+00 - val_accuracy: 0.0000e+00\n",
            "Epoch 2/100\n",
            "148/148 [==============================] - 0s 2ms/step - loss: 4.1595 - accuracy: 0.7272 - val_loss: 0.0000e+00 - val_accuracy: 0.0000e+00\n",
            "Epoch 3/100\n",
            "148/148 [==============================] - 0s 2ms/step - loss: 4.1595 - accuracy: 0.7272 - val_loss: 0.0000e+00 - val_accuracy: 0.0000e+00\n",
            "Epoch 4/100\n",
            "148/148 [==============================] - 0s 2ms/step - loss: 4.1595 - accuracy: 0.7272 - val_loss: 0.0000e+00 - val_accuracy: 0.0000e+00\n",
            "Epoch 5/100\n",
            "148/148 [==============================] - 0s 2ms/step - loss: 4.1595 - accuracy: 0.7272 - val_loss: 0.0000e+00 - val_accuracy: 0.0000e+00\n",
            "Epoch 6/100\n",
            "148/148 [==============================] - 0s 2ms/step - loss: 4.1595 - accuracy: 0.7272 - val_loss: 0.0000e+00 - val_accuracy: 0.0000e+00\n",
            "Epoch 7/100\n",
            "148/148 [==============================] - 0s 2ms/step - loss: 4.1595 - accuracy: 0.7272 - val_loss: 0.0000e+00 - val_accuracy: 0.0000e+00\n",
            "Epoch 8/100\n",
            "148/148 [==============================] - 0s 2ms/step - loss: 4.1595 - accuracy: 0.7272 - val_loss: 0.0000e+00 - val_accuracy: 0.0000e+00\n",
            "Epoch 9/100\n",
            "148/148 [==============================] - 0s 2ms/step - loss: 4.1595 - accuracy: 0.7272 - val_loss: 0.0000e+00 - val_accuracy: 0.0000e+00\n",
            "Epoch 10/100\n",
            "148/148 [==============================] - 0s 2ms/step - loss: 4.1595 - accuracy: 0.7272 - val_loss: 0.0000e+00 - val_accuracy: 0.0000e+00\n",
            "Epoch 11/100\n",
            "148/148 [==============================] - 0s 2ms/step - loss: 4.1595 - accuracy: 0.7272 - val_loss: 0.0000e+00 - val_accuracy: 0.0000e+00\n",
            "74/74 [==============================] - 0s 2ms/step - loss: 14.5535 - accuracy: 0.0456\n",
            "Epoch 1/100\n",
            "145/148 [============================>.] - ETA: 0s - loss: 8.0549 - accuracy: 0.4778WARNING:tensorflow:Layers in a Sequential model should only have a single input tensor. Received: inputs=(<tf.Tensor 'IteratorGetNext:0' shape=(None, 10) dtype=float64>, <tf.Tensor 'IteratorGetNext:1' shape=(None, 1) dtype=int64>). Consider rewriting this model with the Functional API.\n"
          ]
        },
        {
          "output_type": "stream",
          "name": "stderr",
          "text": [
            "WARNING:tensorflow:Layers in a Sequential model should only have a single input tensor. Received: inputs=(<tf.Tensor 'IteratorGetNext:0' shape=(None, 10) dtype=float64>, <tf.Tensor 'IteratorGetNext:1' shape=(None, 1) dtype=int64>). Consider rewriting this model with the Functional API.\n"
          ]
        },
        {
          "output_type": "stream",
          "name": "stdout",
          "text": [
            "\b\b\b\b\b\b\b\b\b\b\b\b\b\b\b\b\b\b\b\b\b\b\b\b\b\b\b\b\b\b\b\b\b\b\b\b\b\b\b\b\b\b\b\b\b\b\b\b\b\b\b\b\b\b\b\b\b\b\b\b\b\b\b\b\b\b\b\b\b\b\b\b\b\b\b\b\b\b\b\b\b\b\b\b\r148/148 [==============================] - 1s 3ms/step - loss: 8.0628 - accuracy: 0.4773 - val_loss: 0.0000e+00 - val_accuracy: 0.0000e+00\n",
            "Epoch 2/100\n",
            "148/148 [==============================] - 0s 2ms/step - loss: 8.0628 - accuracy: 0.4773 - val_loss: 0.0000e+00 - val_accuracy: 0.0000e+00\n",
            "Epoch 3/100\n",
            "148/148 [==============================] - 0s 2ms/step - loss: 8.0628 - accuracy: 0.4773 - val_loss: 0.0000e+00 - val_accuracy: 0.0000e+00\n",
            "Epoch 4/100\n",
            "148/148 [==============================] - 0s 2ms/step - loss: 8.0628 - accuracy: 0.4773 - val_loss: 0.0000e+00 - val_accuracy: 0.0000e+00\n",
            "Epoch 5/100\n",
            "148/148 [==============================] - 0s 2ms/step - loss: 8.0628 - accuracy: 0.4773 - val_loss: 0.0000e+00 - val_accuracy: 0.0000e+00\n",
            "Epoch 6/100\n",
            "148/148 [==============================] - 0s 2ms/step - loss: 8.0628 - accuracy: 0.4773 - val_loss: 0.0000e+00 - val_accuracy: 0.0000e+00\n",
            "Epoch 7/100\n",
            "148/148 [==============================] - 0s 2ms/step - loss: 8.0628 - accuracy: 0.4773 - val_loss: 0.0000e+00 - val_accuracy: 0.0000e+00\n",
            "Epoch 8/100\n",
            "148/148 [==============================] - 0s 2ms/step - loss: 8.0628 - accuracy: 0.4773 - val_loss: 0.0000e+00 - val_accuracy: 0.0000e+00\n",
            "Epoch 9/100\n",
            "148/148 [==============================] - 0s 2ms/step - loss: 8.0628 - accuracy: 0.4773 - val_loss: 0.0000e+00 - val_accuracy: 0.0000e+00\n",
            "Epoch 10/100\n",
            "148/148 [==============================] - 0s 2ms/step - loss: 8.0628 - accuracy: 0.4773 - val_loss: 0.0000e+00 - val_accuracy: 0.0000e+00\n",
            "Epoch 11/100\n",
            "148/148 [==============================] - 0s 2ms/step - loss: 8.0628 - accuracy: 0.4773 - val_loss: 0.0000e+00 - val_accuracy: 0.0000e+00\n",
            "74/74 [==============================] - 1s 8ms/step - loss: 7.0119 - accuracy: 0.5454\n",
            "Epoch 1/100\n",
            "143/148 [===========================>..] - ETA: 0s - loss: 11.3952 - accuracy: 0.2520WARNING:tensorflow:Layers in a Sequential model should only have a single input tensor. Received: inputs=(<tf.Tensor 'IteratorGetNext:0' shape=(None, 10) dtype=float64>, <tf.Tensor 'IteratorGetNext:1' shape=(None, 1) dtype=int64>). Consider rewriting this model with the Functional API.\n"
          ]
        },
        {
          "output_type": "stream",
          "name": "stderr",
          "text": [
            "WARNING:tensorflow:Layers in a Sequential model should only have a single input tensor. Received: inputs=(<tf.Tensor 'IteratorGetNext:0' shape=(None, 10) dtype=float64>, <tf.Tensor 'IteratorGetNext:1' shape=(None, 1) dtype=int64>). Consider rewriting this model with the Functional API.\n"
          ]
        },
        {
          "output_type": "stream",
          "name": "stdout",
          "text": [
            "\b\b\b\b\b\b\b\b\b\b\b\b\b\b\b\b\b\b\b\b\b\b\b\b\b\b\b\b\b\b\b\b\b\b\b\b\b\b\b\b\b\b\b\b\b\b\b\b\b\b\b\b\b\b\b\b\b\b\b\b\b\b\b\b\b\b\b\b\b\b\b\b\b\b\b\b\b\b\b\b\b\b\b\b\b\r148/148 [==============================] - 3s 9ms/step - loss: 11.3724 - accuracy: 0.2535 - val_loss: 0.0000e+00 - val_accuracy: 0.0000e+00\n",
            "Epoch 2/100\n",
            "148/148 [==============================] - 0s 2ms/step - loss: 11.4353 - accuracy: 0.2501 - val_loss: 0.0000e+00 - val_accuracy: 0.0000e+00\n",
            "Epoch 3/100\n",
            "148/148 [==============================] - 0s 2ms/step - loss: 11.4353 - accuracy: 0.2501 - val_loss: 0.0000e+00 - val_accuracy: 0.0000e+00\n",
            "Epoch 4/100\n",
            "148/148 [==============================] - 0s 2ms/step - loss: 11.4353 - accuracy: 0.2501 - val_loss: 0.0000e+00 - val_accuracy: 0.0000e+00\n",
            "Epoch 5/100\n",
            "148/148 [==============================] - 0s 2ms/step - loss: 11.4353 - accuracy: 0.2501 - val_loss: 0.0000e+00 - val_accuracy: 0.0000e+00\n",
            "Epoch 6/100\n",
            "148/148 [==============================] - 0s 2ms/step - loss: 11.4353 - accuracy: 0.2501 - val_loss: 0.0000e+00 - val_accuracy: 0.0000e+00\n",
            "Epoch 7/100\n",
            "148/148 [==============================] - 0s 2ms/step - loss: 11.4353 - accuracy: 0.2501 - val_loss: 0.0000e+00 - val_accuracy: 0.0000e+00\n",
            "Epoch 8/100\n",
            "148/148 [==============================] - 0s 2ms/step - loss: 11.4353 - accuracy: 0.2501 - val_loss: 0.0000e+00 - val_accuracy: 0.0000e+00\n",
            "Epoch 9/100\n",
            "148/148 [==============================] - 0s 2ms/step - loss: 11.4353 - accuracy: 0.2501 - val_loss: 0.0000e+00 - val_accuracy: 0.0000e+00\n",
            "Epoch 10/100\n",
            "148/148 [==============================] - 0s 2ms/step - loss: 11.4353 - accuracy: 0.2501 - val_loss: 0.0000e+00 - val_accuracy: 0.0000e+00\n",
            "Epoch 11/100\n",
            "148/148 [==============================] - 0s 2ms/step - loss: 11.4353 - accuracy: 0.2501 - val_loss: 0.0000e+00 - val_accuracy: 0.0000e+00\n",
            "74/74 [==============================] - 0s 2ms/step - loss: 0.0000e+00 - accuracy: 1.0000\n",
            "Epoch 1/100\n",
            "116/148 [======================>.......] - ETA: 0s - loss: 9.6558 - accuracy: 0.3642WARNING:tensorflow:Layers in a Sequential model should only have a single input tensor. Received: inputs=(<tf.Tensor 'IteratorGetNext:0' shape=(None, 10) dtype=float64>, <tf.Tensor 'IteratorGetNext:1' shape=(None, 1) dtype=int64>). Consider rewriting this model with the Functional API.\n"
          ]
        },
        {
          "output_type": "stream",
          "name": "stderr",
          "text": [
            "WARNING:tensorflow:Layers in a Sequential model should only have a single input tensor. Received: inputs=(<tf.Tensor 'IteratorGetNext:0' shape=(None, 10) dtype=float64>, <tf.Tensor 'IteratorGetNext:1' shape=(None, 1) dtype=int64>). Consider rewriting this model with the Functional API.\n"
          ]
        },
        {
          "output_type": "stream",
          "name": "stdout",
          "text": [
            "\b\b\b\b\b\b\b\b\b\b\b\b\b\b\b\b\b\b\b\b\b\b\b\b\b\b\b\b\b\b\b\b\b\b\b\b\b\b\b\b\b\b\b\b\b\b\b\b\b\b\b\b\b\b\b\b\b\b\b\b\b\b\b\b\b\b\b\b\b\b\b\b\b\b\b\b\b\b\b\b\b\b\b\b\r148/148 [==============================] - 1s 2ms/step - loss: 9.9585 - accuracy: 0.3467 - val_loss: 0.0000e+00 - val_accuracy: 0.0000e+00\n",
            "Epoch 2/100\n",
            "148/148 [==============================] - 0s 2ms/step - loss: 11.2176 - accuracy: 0.2728 - val_loss: 0.0000e+00 - val_accuracy: 0.0000e+00\n",
            "Epoch 3/100\n",
            "148/148 [==============================] - 0s 2ms/step - loss: 11.2176 - accuracy: 0.2728 - val_loss: 0.0000e+00 - val_accuracy: 0.0000e+00\n",
            "Epoch 4/100\n",
            "148/148 [==============================] - 0s 2ms/step - loss: 11.2176 - accuracy: 0.2728 - val_loss: 0.0000e+00 - val_accuracy: 0.0000e+00\n",
            "Epoch 5/100\n",
            "148/148 [==============================] - 0s 2ms/step - loss: 11.2176 - accuracy: 0.2728 - val_loss: 0.0000e+00 - val_accuracy: 0.0000e+00\n",
            "Epoch 6/100\n",
            "148/148 [==============================] - 0s 2ms/step - loss: 11.2176 - accuracy: 0.2728 - val_loss: 0.0000e+00 - val_accuracy: 0.0000e+00\n",
            "Epoch 7/100\n",
            "148/148 [==============================] - 0s 2ms/step - loss: 11.2176 - accuracy: 0.2728 - val_loss: 0.0000e+00 - val_accuracy: 0.0000e+00\n",
            "Epoch 8/100\n",
            "148/148 [==============================] - 0s 2ms/step - loss: 11.2176 - accuracy: 0.2728 - val_loss: 0.0000e+00 - val_accuracy: 0.0000e+00\n",
            "Epoch 9/100\n",
            "148/148 [==============================] - 0s 2ms/step - loss: 11.2176 - accuracy: 0.2728 - val_loss: 0.0000e+00 - val_accuracy: 0.0000e+00\n",
            "Epoch 10/100\n",
            "148/148 [==============================] - 0s 2ms/step - loss: 11.2176 - accuracy: 0.2728 - val_loss: 0.0000e+00 - val_accuracy: 0.0000e+00\n",
            "Epoch 11/100\n",
            "148/148 [==============================] - 0s 2ms/step - loss: 11.2176 - accuracy: 0.2728 - val_loss: 0.0000e+00 - val_accuracy: 0.0000e+00\n",
            "74/74 [==============================] - 0s 2ms/step - loss: 0.7038 - accuracy: 0.9544\n",
            "Epoch 1/100\n",
            "129/148 [=========================>....] - ETA: 0s - loss: 4.5638 - accuracy: 0.6848WARNING:tensorflow:Layers in a Sequential model should only have a single input tensor. Received: inputs=(<tf.Tensor 'IteratorGetNext:0' shape=(None, 10) dtype=float64>, <tf.Tensor 'IteratorGetNext:1' shape=(None, 1) dtype=int64>). Consider rewriting this model with the Functional API.\n"
          ]
        },
        {
          "output_type": "stream",
          "name": "stderr",
          "text": [
            "WARNING:tensorflow:Layers in a Sequential model should only have a single input tensor. Received: inputs=(<tf.Tensor 'IteratorGetNext:0' shape=(None, 10) dtype=float64>, <tf.Tensor 'IteratorGetNext:1' shape=(None, 1) dtype=int64>). Consider rewriting this model with the Functional API.\n"
          ]
        },
        {
          "output_type": "stream",
          "name": "stdout",
          "text": [
            "\b\b\b\b\b\b\b\b\b\b\b\b\b\b\b\b\b\b\b\b\b\b\b\b\b\b\b\b\b\b\b\b\b\b\b\b\b\b\b\b\b\b\b\b\b\b\b\b\b\b\b\b\b\b\b\b\b\b\b\b\b\b\b\b\b\b\b\b\b\b\b\b\b\b\b\b\b\b\b\b\b\b\b\b\r148/148 [==============================] - 1s 3ms/step - loss: 4.5453 - accuracy: 0.6869 - val_loss: 0.0000e+00 - val_accuracy: 0.0000e+00\n",
            "Epoch 2/100\n",
            "148/148 [==============================] - 0s 2ms/step - loss: 4.8260 - accuracy: 0.6797 - val_loss: 0.0000e+00 - val_accuracy: 0.0000e+00\n",
            "Epoch 3/100\n",
            "148/148 [==============================] - 0s 2ms/step - loss: 7.3491 - accuracy: 0.5219 - val_loss: 0.0000e+00 - val_accuracy: 0.0000e+00\n",
            "Epoch 4/100\n",
            "148/148 [==============================] - 0s 2ms/step - loss: 7.9027 - accuracy: 0.4876 - val_loss: 0.0000e+00 - val_accuracy: 0.0000e+00\n",
            "Epoch 5/100\n",
            "148/148 [==============================] - 0s 2ms/step - loss: 7.9027 - accuracy: 0.4876 - val_loss: 0.0000e+00 - val_accuracy: 0.0000e+00\n",
            "Epoch 6/100\n",
            "148/148 [==============================] - 0s 2ms/step - loss: 7.9027 - accuracy: 0.4876 - val_loss: 0.0000e+00 - val_accuracy: 0.0000e+00\n",
            "Epoch 7/100\n",
            "148/148 [==============================] - 0s 2ms/step - loss: 7.9027 - accuracy: 0.4876 - val_loss: 0.0000e+00 - val_accuracy: 0.0000e+00\n",
            "Epoch 8/100\n",
            "148/148 [==============================] - 0s 2ms/step - loss: 7.9027 - accuracy: 0.4876 - val_loss: 0.0000e+00 - val_accuracy: 0.0000e+00\n",
            "Epoch 9/100\n",
            "148/148 [==============================] - 0s 2ms/step - loss: 7.9027 - accuracy: 0.4876 - val_loss: 0.0000e+00 - val_accuracy: 0.0000e+00\n",
            "Epoch 10/100\n",
            "148/148 [==============================] - 0s 2ms/step - loss: 7.9027 - accuracy: 0.4876 - val_loss: 0.0000e+00 - val_accuracy: 0.0000e+00\n",
            "Epoch 11/100\n",
            "148/148 [==============================] - 0s 2ms/step - loss: 7.9027 - accuracy: 0.4876 - val_loss: 0.0000e+00 - val_accuracy: 0.0000e+00\n",
            "74/74 [==============================] - 0s 2ms/step - loss: 6.8422 - accuracy: 0.5564\n",
            "Epoch 1/100\n",
            "114/148 [======================>.......] - ETA: 0s - loss: 3.8401 - accuracy: 0.7492WARNING:tensorflow:Layers in a Sequential model should only have a single input tensor. Received: inputs=(<tf.Tensor 'IteratorGetNext:0' shape=(None, 10) dtype=float64>, <tf.Tensor 'IteratorGetNext:1' shape=(None, 1) dtype=int64>). Consider rewriting this model with the Functional API.\n"
          ]
        },
        {
          "output_type": "stream",
          "name": "stderr",
          "text": [
            "WARNING:tensorflow:Layers in a Sequential model should only have a single input tensor. Received: inputs=(<tf.Tensor 'IteratorGetNext:0' shape=(None, 10) dtype=float64>, <tf.Tensor 'IteratorGetNext:1' shape=(None, 1) dtype=int64>). Consider rewriting this model with the Functional API.\n"
          ]
        },
        {
          "output_type": "stream",
          "name": "stdout",
          "text": [
            "\b\b\b\b\b\b\b\b\b\b\b\b\b\b\b\b\b\b\b\b\b\b\b\b\b\b\b\b\b\b\b\b\b\b\b\b\b\b\b\b\b\b\b\b\b\b\b\b\b\b\b\b\b\b\b\b\b\b\b\b\b\b\b\b\b\b\b\b\b\b\b\b\b\b\b\b\b\b\b\b\b\b\b\b\r148/148 [==============================] - 1s 3ms/step - loss: 3.8682 - accuracy: 0.7478 - val_loss: 0.0000e+00 - val_accuracy: 0.0000e+00\n",
            "Epoch 2/100\n",
            "148/148 [==============================] - 0s 2ms/step - loss: 3.8579 - accuracy: 0.7499 - val_loss: 0.0000e+00 - val_accuracy: 0.0000e+00\n",
            "Epoch 3/100\n",
            "148/148 [==============================] - 0s 2ms/step - loss: 3.8579 - accuracy: 0.7499 - val_loss: 0.0000e+00 - val_accuracy: 0.0000e+00\n",
            "Epoch 4/100\n",
            "148/148 [==============================] - 0s 2ms/step - loss: 3.8579 - accuracy: 0.7499 - val_loss: 0.0000e+00 - val_accuracy: 0.0000e+00\n",
            "Epoch 5/100\n",
            "148/148 [==============================] - 0s 2ms/step - loss: 3.8579 - accuracy: 0.7499 - val_loss: 0.0000e+00 - val_accuracy: 0.0000e+00\n",
            "Epoch 6/100\n",
            "148/148 [==============================] - 0s 2ms/step - loss: 3.8579 - accuracy: 0.7499 - val_loss: 0.0000e+00 - val_accuracy: 0.0000e+00\n",
            "Epoch 7/100\n",
            "148/148 [==============================] - 0s 2ms/step - loss: 3.8579 - accuracy: 0.7499 - val_loss: 0.0000e+00 - val_accuracy: 0.0000e+00\n",
            "Epoch 8/100\n",
            "148/148 [==============================] - 0s 2ms/step - loss: 3.8579 - accuracy: 0.7499 - val_loss: 0.0000e+00 - val_accuracy: 0.0000e+00\n",
            "Epoch 9/100\n",
            "148/148 [==============================] - 0s 2ms/step - loss: 3.8579 - accuracy: 0.7499 - val_loss: 0.0000e+00 - val_accuracy: 0.0000e+00\n",
            "Epoch 10/100\n",
            "148/148 [==============================] - 0s 2ms/step - loss: 3.8579 - accuracy: 0.7499 - val_loss: 0.0000e+00 - val_accuracy: 0.0000e+00\n",
            "Epoch 11/100\n",
            "148/148 [==============================] - 0s 2ms/step - loss: 3.8579 - accuracy: 0.7499 - val_loss: 0.0000e+00 - val_accuracy: 0.0000e+00\n",
            "74/74 [==============================] - 0s 2ms/step - loss: 15.4249 - accuracy: 0.0000e+00\n",
            "Epoch 1/100\n",
            "144/148 [============================>.] - ETA: 0s - loss: 4.3334 - accuracy: 0.7144WARNING:tensorflow:Layers in a Sequential model should only have a single input tensor. Received: inputs=(<tf.Tensor 'IteratorGetNext:0' shape=(None, 10) dtype=float64>, <tf.Tensor 'IteratorGetNext:1' shape=(None, 1) dtype=int64>). Consider rewriting this model with the Functional API.\n"
          ]
        },
        {
          "output_type": "stream",
          "name": "stderr",
          "text": [
            "WARNING:tensorflow:Layers in a Sequential model should only have a single input tensor. Received: inputs=(<tf.Tensor 'IteratorGetNext:0' shape=(None, 10) dtype=float64>, <tf.Tensor 'IteratorGetNext:1' shape=(None, 1) dtype=int64>). Consider rewriting this model with the Functional API.\n"
          ]
        },
        {
          "output_type": "stream",
          "name": "stdout",
          "text": [
            "\b\b\b\b\b\b\b\b\b\b\b\b\b\b\b\b\b\b\b\b\b\b\b\b\b\b\b\b\b\b\b\b\b\b\b\b\b\b\b\b\b\b\b\b\b\b\b\b\b\b\b\b\b\b\b\b\b\b\b\b\b\b\b\b\b\b\b\b\b\b\b\b\b\b\b\b\b\b\b\b\b\b\b\b\r148/148 [==============================] - 1s 2ms/step - loss: 4.3285 - accuracy: 0.7148 - val_loss: 0.0000e+00 - val_accuracy: 0.0000e+00\n",
            "Epoch 2/100\n",
            "148/148 [==============================] - 0s 2ms/step - loss: 4.1595 - accuracy: 0.7272 - val_loss: 0.0000e+00 - val_accuracy: 0.0000e+00\n",
            "Epoch 3/100\n",
            "148/148 [==============================] - 0s 2ms/step - loss: 4.1595 - accuracy: 0.7272 - val_loss: 0.0000e+00 - val_accuracy: 0.0000e+00\n",
            "Epoch 4/100\n",
            "148/148 [==============================] - 0s 2ms/step - loss: 4.1595 - accuracy: 0.7272 - val_loss: 0.0000e+00 - val_accuracy: 0.0000e+00\n",
            "Epoch 5/100\n",
            "148/148 [==============================] - 0s 2ms/step - loss: 4.1595 - accuracy: 0.7272 - val_loss: 0.0000e+00 - val_accuracy: 0.0000e+00\n",
            "Epoch 6/100\n",
            "148/148 [==============================] - 0s 2ms/step - loss: 4.1595 - accuracy: 0.7272 - val_loss: 0.0000e+00 - val_accuracy: 0.0000e+00\n",
            "Epoch 7/100\n",
            "148/148 [==============================] - 0s 2ms/step - loss: 4.1595 - accuracy: 0.7272 - val_loss: 0.0000e+00 - val_accuracy: 0.0000e+00\n",
            "Epoch 8/100\n",
            "148/148 [==============================] - 0s 2ms/step - loss: 4.1595 - accuracy: 0.7272 - val_loss: 0.0000e+00 - val_accuracy: 0.0000e+00\n",
            "Epoch 9/100\n",
            "148/148 [==============================] - 0s 2ms/step - loss: 4.1595 - accuracy: 0.7272 - val_loss: 0.0000e+00 - val_accuracy: 0.0000e+00\n",
            "Epoch 10/100\n",
            "148/148 [==============================] - 0s 2ms/step - loss: 4.1595 - accuracy: 0.7272 - val_loss: 0.0000e+00 - val_accuracy: 0.0000e+00\n",
            "Epoch 11/100\n",
            "148/148 [==============================] - 0s 2ms/step - loss: 4.1595 - accuracy: 0.7272 - val_loss: 0.0000e+00 - val_accuracy: 0.0000e+00\n",
            "74/74 [==============================] - 0s 2ms/step - loss: 14.5535 - accuracy: 0.0456\n",
            "Epoch 1/100\n",
            "111/148 [=====================>........] - ETA: 0s - loss: 6.5180 - accuracy: 0.5605WARNING:tensorflow:Layers in a Sequential model should only have a single input tensor. Received: inputs=(<tf.Tensor 'IteratorGetNext:0' shape=(None, 10) dtype=float64>, <tf.Tensor 'IteratorGetNext:1' shape=(None, 1) dtype=int64>). Consider rewriting this model with the Functional API.\n"
          ]
        },
        {
          "output_type": "stream",
          "name": "stderr",
          "text": [
            "WARNING:tensorflow:Layers in a Sequential model should only have a single input tensor. Received: inputs=(<tf.Tensor 'IteratorGetNext:0' shape=(None, 10) dtype=float64>, <tf.Tensor 'IteratorGetNext:1' shape=(None, 1) dtype=int64>). Consider rewriting this model with the Functional API.\n"
          ]
        },
        {
          "output_type": "stream",
          "name": "stdout",
          "text": [
            "\b\b\b\b\b\b\b\b\b\b\b\b\b\b\b\b\b\b\b\b\b\b\b\b\b\b\b\b\b\b\b\b\b\b\b\b\b\b\b\b\b\b\b\b\b\b\b\b\b\b\b\b\b\b\b\b\b\b\b\b\b\b\b\b\b\b\b\b\b\b\b\b\b\b\b\b\b\b\b\b\b\b\b\b\r148/148 [==============================] - 1s 3ms/step - loss: 6.9611 - accuracy: 0.5360 - val_loss: 0.0000e+00 - val_accuracy: 0.0000e+00\n",
            "Epoch 2/100\n",
            "148/148 [==============================] - 0s 2ms/step - loss: 8.0628 - accuracy: 0.4773 - val_loss: 0.0000e+00 - val_accuracy: 0.0000e+00\n",
            "Epoch 3/100\n",
            "148/148 [==============================] - 0s 2ms/step - loss: 8.0628 - accuracy: 0.4773 - val_loss: 0.0000e+00 - val_accuracy: 0.0000e+00\n",
            "Epoch 4/100\n",
            "148/148 [==============================] - 0s 2ms/step - loss: 8.0628 - accuracy: 0.4773 - val_loss: 0.0000e+00 - val_accuracy: 0.0000e+00\n",
            "Epoch 5/100\n",
            "148/148 [==============================] - 0s 2ms/step - loss: 8.0628 - accuracy: 0.4773 - val_loss: 0.0000e+00 - val_accuracy: 0.0000e+00\n",
            "Epoch 6/100\n",
            "148/148 [==============================] - 0s 2ms/step - loss: 8.0628 - accuracy: 0.4773 - val_loss: 0.0000e+00 - val_accuracy: 0.0000e+00\n",
            "Epoch 7/100\n",
            "148/148 [==============================] - 0s 2ms/step - loss: 8.0628 - accuracy: 0.4773 - val_loss: 0.0000e+00 - val_accuracy: 0.0000e+00\n",
            "Epoch 8/100\n",
            "148/148 [==============================] - 0s 2ms/step - loss: 8.0628 - accuracy: 0.4773 - val_loss: 0.0000e+00 - val_accuracy: 0.0000e+00\n",
            "Epoch 9/100\n",
            "148/148 [==============================] - 0s 2ms/step - loss: 8.0628 - accuracy: 0.4773 - val_loss: 0.0000e+00 - val_accuracy: 0.0000e+00\n",
            "Epoch 10/100\n",
            "148/148 [==============================] - 0s 2ms/step - loss: 8.0628 - accuracy: 0.4773 - val_loss: 0.0000e+00 - val_accuracy: 0.0000e+00\n",
            "Epoch 11/100\n",
            "148/148 [==============================] - 0s 2ms/step - loss: 8.0628 - accuracy: 0.4773 - val_loss: 0.0000e+00 - val_accuracy: 0.0000e+00\n",
            "74/74 [==============================] - 0s 2ms/step - loss: 7.0119 - accuracy: 0.5454\n",
            "Epoch 1/100\n",
            "125/148 [========================>.....] - ETA: 0s - loss: 3.7999 - accuracy: 0.7527WARNING:tensorflow:Layers in a Sequential model should only have a single input tensor. Received: inputs=(<tf.Tensor 'IteratorGetNext:0' shape=(None, 10) dtype=float64>, <tf.Tensor 'IteratorGetNext:1' shape=(None, 1) dtype=int64>). Consider rewriting this model with the Functional API.\n"
          ]
        },
        {
          "output_type": "stream",
          "name": "stderr",
          "text": [
            "WARNING:tensorflow:Layers in a Sequential model should only have a single input tensor. Received: inputs=(<tf.Tensor 'IteratorGetNext:0' shape=(None, 10) dtype=float64>, <tf.Tensor 'IteratorGetNext:1' shape=(None, 1) dtype=int64>). Consider rewriting this model with the Functional API.\n"
          ]
        },
        {
          "output_type": "stream",
          "name": "stdout",
          "text": [
            "\b\b\b\b\b\b\b\b\b\b\b\b\b\b\b\b\b\b\b\b\b\b\b\b\b\b\b\b\b\b\b\b\b\b\b\b\b\b\b\b\b\b\b\b\b\b\b\b\b\b\b\b\b\b\b\b\b\b\b\b\b\b\b\b\b\b\b\b\b\b\b\b\b\b\b\b\b\b\b\b\b\b\b\b\r148/148 [==============================] - 1s 3ms/step - loss: 3.8331 - accuracy: 0.7507 - val_loss: 0.0000e+00 - val_accuracy: 0.0000e+00\n",
            "Epoch 2/100\n",
            "148/148 [==============================] - 0s 2ms/step - loss: 3.8579 - accuracy: 0.7499 - val_loss: 0.0000e+00 - val_accuracy: 0.0000e+00\n",
            "Epoch 3/100\n",
            "148/148 [==============================] - 0s 2ms/step - loss: 3.8579 - accuracy: 0.7499 - val_loss: 0.0000e+00 - val_accuracy: 0.0000e+00\n",
            "Epoch 4/100\n",
            "148/148 [==============================] - 0s 2ms/step - loss: 3.8579 - accuracy: 0.7499 - val_loss: 0.0000e+00 - val_accuracy: 0.0000e+00\n",
            "Epoch 5/100\n",
            "148/148 [==============================] - 0s 2ms/step - loss: 3.8579 - accuracy: 0.7499 - val_loss: 0.0000e+00 - val_accuracy: 0.0000e+00\n",
            "Epoch 6/100\n",
            "148/148 [==============================] - 0s 2ms/step - loss: 3.8579 - accuracy: 0.7499 - val_loss: 0.0000e+00 - val_accuracy: 0.0000e+00\n",
            "Epoch 7/100\n",
            "148/148 [==============================] - 0s 2ms/step - loss: 3.8579 - accuracy: 0.7499 - val_loss: 0.0000e+00 - val_accuracy: 0.0000e+00\n",
            "Epoch 8/100\n",
            "148/148 [==============================] - 0s 2ms/step - loss: 3.8579 - accuracy: 0.7499 - val_loss: 0.0000e+00 - val_accuracy: 0.0000e+00\n",
            "Epoch 9/100\n",
            "148/148 [==============================] - 0s 2ms/step - loss: 3.8579 - accuracy: 0.7499 - val_loss: 0.0000e+00 - val_accuracy: 0.0000e+00\n",
            "Epoch 10/100\n",
            "148/148 [==============================] - 0s 2ms/step - loss: 3.8579 - accuracy: 0.7499 - val_loss: 0.0000e+00 - val_accuracy: 0.0000e+00\n",
            "Epoch 11/100\n",
            "148/148 [==============================] - 0s 2ms/step - loss: 3.8579 - accuracy: 0.7499 - val_loss: 0.0000e+00 - val_accuracy: 0.0000e+00\n",
            "74/74 [==============================] - 0s 2ms/step - loss: 15.4249 - accuracy: 0.0000e+00\n",
            "Epoch 1/100\n",
            "131/148 [=========================>....] - ETA: 0s - loss: 4.2024 - accuracy: 0.7238WARNING:tensorflow:Layers in a Sequential model should only have a single input tensor. Received: inputs=(<tf.Tensor 'IteratorGetNext:0' shape=(None, 10) dtype=float64>, <tf.Tensor 'IteratorGetNext:1' shape=(None, 1) dtype=int64>). Consider rewriting this model with the Functional API.\n"
          ]
        },
        {
          "output_type": "stream",
          "name": "stderr",
          "text": [
            "WARNING:tensorflow:Layers in a Sequential model should only have a single input tensor. Received: inputs=(<tf.Tensor 'IteratorGetNext:0' shape=(None, 10) dtype=float64>, <tf.Tensor 'IteratorGetNext:1' shape=(None, 1) dtype=int64>). Consider rewriting this model with the Functional API.\n"
          ]
        },
        {
          "output_type": "stream",
          "name": "stdout",
          "text": [
            "\b\b\b\b\b\b\b\b\b\b\b\b\b\b\b\b\b\b\b\b\b\b\b\b\b\b\b\b\b\b\b\b\b\b\b\b\b\b\b\b\b\b\b\b\b\b\b\b\b\b\b\b\b\b\b\b\b\b\b\b\b\b\b\b\b\b\b\b\b\b\b\b\b\b\b\b\b\b\b\b\b\b\b\b\r148/148 [==============================] - 1s 3ms/step - loss: 4.1957 - accuracy: 0.7243 - val_loss: 0.0000e+00 - val_accuracy: 0.0000e+00\n",
            "Epoch 2/100\n",
            "148/148 [==============================] - 0s 2ms/step - loss: 4.1595 - accuracy: 0.7272 - val_loss: 0.0000e+00 - val_accuracy: 0.0000e+00\n",
            "Epoch 3/100\n",
            "148/148 [==============================] - 0s 2ms/step - loss: 4.1595 - accuracy: 0.7272 - val_loss: 0.0000e+00 - val_accuracy: 0.0000e+00\n",
            "Epoch 4/100\n",
            "148/148 [==============================] - 0s 2ms/step - loss: 4.1595 - accuracy: 0.7272 - val_loss: 0.0000e+00 - val_accuracy: 0.0000e+00\n",
            "Epoch 5/100\n",
            "148/148 [==============================] - 0s 2ms/step - loss: 4.1595 - accuracy: 0.7272 - val_loss: 0.0000e+00 - val_accuracy: 0.0000e+00\n",
            "Epoch 6/100\n",
            "148/148 [==============================] - 0s 2ms/step - loss: 4.1595 - accuracy: 0.7272 - val_loss: 0.0000e+00 - val_accuracy: 0.0000e+00\n",
            "Epoch 7/100\n",
            "148/148 [==============================] - 0s 2ms/step - loss: 4.1595 - accuracy: 0.7272 - val_loss: 0.0000e+00 - val_accuracy: 0.0000e+00\n",
            "Epoch 8/100\n",
            "148/148 [==============================] - 0s 2ms/step - loss: 4.1595 - accuracy: 0.7272 - val_loss: 0.0000e+00 - val_accuracy: 0.0000e+00\n",
            "Epoch 9/100\n",
            "148/148 [==============================] - 0s 2ms/step - loss: 4.1595 - accuracy: 0.7272 - val_loss: 0.0000e+00 - val_accuracy: 0.0000e+00\n",
            "Epoch 10/100\n",
            "148/148 [==============================] - 0s 2ms/step - loss: 4.1595 - accuracy: 0.7272 - val_loss: 0.0000e+00 - val_accuracy: 0.0000e+00\n",
            "Epoch 11/100\n",
            "148/148 [==============================] - 0s 2ms/step - loss: 4.1595 - accuracy: 0.7272 - val_loss: 0.0000e+00 - val_accuracy: 0.0000e+00\n",
            "74/74 [==============================] - 0s 2ms/step - loss: 14.5535 - accuracy: 0.0456\n",
            "Epoch 1/100\n",
            "121/148 [=======================>......] - ETA: 0s - loss: 7.1394 - accuracy: 0.5310WARNING:tensorflow:Layers in a Sequential model should only have a single input tensor. Received: inputs=(<tf.Tensor 'IteratorGetNext:0' shape=(None, 10) dtype=float64>, <tf.Tensor 'IteratorGetNext:1' shape=(None, 1) dtype=int64>). Consider rewriting this model with the Functional API.\n"
          ]
        },
        {
          "output_type": "stream",
          "name": "stderr",
          "text": [
            "WARNING:tensorflow:Layers in a Sequential model should only have a single input tensor. Received: inputs=(<tf.Tensor 'IteratorGetNext:0' shape=(None, 10) dtype=float64>, <tf.Tensor 'IteratorGetNext:1' shape=(None, 1) dtype=int64>). Consider rewriting this model with the Functional API.\n"
          ]
        },
        {
          "output_type": "stream",
          "name": "stdout",
          "text": [
            "\b\b\b\b\b\b\b\b\b\b\b\b\b\b\b\b\b\b\b\b\b\b\b\b\b\b\b\b\b\b\b\b\b\b\b\b\b\b\b\b\b\b\b\b\b\b\b\b\b\b\b\b\b\b\b\b\b\b\b\b\b\b\b\b\b\b\b\b\b\b\b\b\b\b\b\b\b\b\b\b\b\b\b\b\r148/148 [==============================] - 1s 3ms/step - loss: 7.2679 - accuracy: 0.5227 - val_loss: 0.0000e+00 - val_accuracy: 0.0000e+00\n",
            "Epoch 2/100\n",
            "148/148 [==============================] - 0s 2ms/step - loss: 7.2783 - accuracy: 0.5227 - val_loss: 0.0000e+00 - val_accuracy: 0.0000e+00\n",
            "Epoch 3/100\n",
            "148/148 [==============================] - 0s 2ms/step - loss: 7.2783 - accuracy: 0.5227 - val_loss: 0.0000e+00 - val_accuracy: 0.0000e+00\n",
            "Epoch 4/100\n",
            "148/148 [==============================] - 0s 2ms/step - loss: 7.2783 - accuracy: 0.5227 - val_loss: 0.0000e+00 - val_accuracy: 0.0000e+00\n",
            "Epoch 5/100\n",
            "148/148 [==============================] - 0s 2ms/step - loss: 7.2783 - accuracy: 0.5227 - val_loss: 0.0000e+00 - val_accuracy: 0.0000e+00\n",
            "Epoch 6/100\n",
            "148/148 [==============================] - 0s 2ms/step - loss: 7.2783 - accuracy: 0.5227 - val_loss: 0.0000e+00 - val_accuracy: 0.0000e+00\n",
            "Epoch 7/100\n",
            "148/148 [==============================] - 0s 2ms/step - loss: 7.2783 - accuracy: 0.5227 - val_loss: 0.0000e+00 - val_accuracy: 0.0000e+00\n",
            "Epoch 8/100\n",
            "148/148 [==============================] - 0s 2ms/step - loss: 7.2783 - accuracy: 0.5227 - val_loss: 0.0000e+00 - val_accuracy: 0.0000e+00\n",
            "Epoch 9/100\n",
            "148/148 [==============================] - 0s 2ms/step - loss: 7.2783 - accuracy: 0.5227 - val_loss: 0.0000e+00 - val_accuracy: 0.0000e+00\n",
            "Epoch 10/100\n",
            "148/148 [==============================] - 0s 2ms/step - loss: 7.2783 - accuracy: 0.5227 - val_loss: 0.0000e+00 - val_accuracy: 0.0000e+00\n",
            "Epoch 11/100\n",
            "148/148 [==============================] - 0s 2ms/step - loss: 7.2783 - accuracy: 0.5227 - val_loss: 0.0000e+00 - val_accuracy: 0.0000e+00\n",
            "74/74 [==============================] - 0s 2ms/step - loss: 8.3172 - accuracy: 0.4546\n",
            "Epoch 1/100\n",
            "136/148 [==========================>...] - ETA: 0s - loss: 11.3295 - accuracy: 0.2557WARNING:tensorflow:Layers in a Sequential model should only have a single input tensor. Received: inputs=(<tf.Tensor 'IteratorGetNext:0' shape=(None, 10) dtype=float64>, <tf.Tensor 'IteratorGetNext:1' shape=(None, 1) dtype=int64>). Consider rewriting this model with the Functional API.\n"
          ]
        },
        {
          "output_type": "stream",
          "name": "stderr",
          "text": [
            "WARNING:tensorflow:Layers in a Sequential model should only have a single input tensor. Received: inputs=(<tf.Tensor 'IteratorGetNext:0' shape=(None, 10) dtype=float64>, <tf.Tensor 'IteratorGetNext:1' shape=(None, 1) dtype=int64>). Consider rewriting this model with the Functional API.\n"
          ]
        },
        {
          "output_type": "stream",
          "name": "stdout",
          "text": [
            "\b\b\b\b\b\b\b\b\b\b\b\b\b\b\b\b\b\b\b\b\b\b\b\b\b\b\b\b\b\b\b\b\b\b\b\b\b\b\b\b\b\b\b\b\b\b\b\b\b\b\b\b\b\b\b\b\b\b\b\b\b\b\b\b\b\b\b\b\b\b\b\b\b\b\b\b\b\b\b\b\b\b\b\b\b\r148/148 [==============================] - 1s 3ms/step - loss: 11.3591 - accuracy: 0.2539 - val_loss: 0.0000e+00 - val_accuracy: 0.0000e+00\n",
            "Epoch 2/100\n",
            "148/148 [==============================] - 0s 2ms/step - loss: 11.4353 - accuracy: 0.2501 - val_loss: 0.0000e+00 - val_accuracy: 0.0000e+00\n",
            "Epoch 3/100\n",
            "148/148 [==============================] - 0s 2ms/step - loss: 11.4353 - accuracy: 0.2501 - val_loss: 0.0000e+00 - val_accuracy: 0.0000e+00\n",
            "Epoch 4/100\n",
            "148/148 [==============================] - 0s 2ms/step - loss: 11.4353 - accuracy: 0.2501 - val_loss: 0.0000e+00 - val_accuracy: 0.0000e+00\n",
            "Epoch 5/100\n",
            "148/148 [==============================] - 0s 2ms/step - loss: 11.4353 - accuracy: 0.2501 - val_loss: 0.0000e+00 - val_accuracy: 0.0000e+00\n",
            "Epoch 6/100\n",
            "148/148 [==============================] - 0s 2ms/step - loss: 11.4353 - accuracy: 0.2501 - val_loss: 0.0000e+00 - val_accuracy: 0.0000e+00\n",
            "Epoch 7/100\n",
            "148/148 [==============================] - 0s 2ms/step - loss: 11.4353 - accuracy: 0.2501 - val_loss: 0.0000e+00 - val_accuracy: 0.0000e+00\n",
            "Epoch 8/100\n",
            "148/148 [==============================] - 0s 2ms/step - loss: 11.4353 - accuracy: 0.2501 - val_loss: 0.0000e+00 - val_accuracy: 0.0000e+00\n",
            "Epoch 9/100\n",
            "148/148 [==============================] - 0s 2ms/step - loss: 11.4353 - accuracy: 0.2501 - val_loss: 0.0000e+00 - val_accuracy: 0.0000e+00\n",
            "Epoch 10/100\n",
            "148/148 [==============================] - 0s 2ms/step - loss: 11.4353 - accuracy: 0.2501 - val_loss: 0.0000e+00 - val_accuracy: 0.0000e+00\n",
            "Epoch 11/100\n",
            "148/148 [==============================] - 0s 2ms/step - loss: 11.4353 - accuracy: 0.2501 - val_loss: 0.0000e+00 - val_accuracy: 0.0000e+00\n",
            "74/74 [==============================] - 0s 2ms/step - loss: 0.0000e+00 - accuracy: 1.0000\n",
            "Epoch 1/100\n",
            "133/148 [=========================>....] - ETA: 0s - loss: 4.1621 - accuracy: 0.7225WARNING:tensorflow:Layers in a Sequential model should only have a single input tensor. Received: inputs=(<tf.Tensor 'IteratorGetNext:0' shape=(None, 10) dtype=float64>, <tf.Tensor 'IteratorGetNext:1' shape=(None, 1) dtype=int64>). Consider rewriting this model with the Functional API.\n"
          ]
        },
        {
          "output_type": "stream",
          "name": "stderr",
          "text": [
            "WARNING:tensorflow:Layers in a Sequential model should only have a single input tensor. Received: inputs=(<tf.Tensor 'IteratorGetNext:0' shape=(None, 10) dtype=float64>, <tf.Tensor 'IteratorGetNext:1' shape=(None, 1) dtype=int64>). Consider rewriting this model with the Functional API.\n"
          ]
        },
        {
          "output_type": "stream",
          "name": "stdout",
          "text": [
            "\b\b\b\b\b\b\b\b\b\b\b\b\b\b\b\b\b\b\b\b\b\b\b\b\b\b\b\b\b\b\b\b\b\b\b\b\b\b\b\b\b\b\b\b\b\b\b\b\b\b\b\b\b\b\b\b\b\b\b\b\b\b\b\b\b\b\b\b\b\b\b\b\b\b\b\b\b\b\b\b\b\b\b\b\r148/148 [==============================] - 1s 3ms/step - loss: 4.1421 - accuracy: 0.7243 - val_loss: 0.0000e+00 - val_accuracy: 0.0000e+00\n",
            "Epoch 2/100\n",
            "148/148 [==============================] - 0s 2ms/step - loss: 4.1595 - accuracy: 0.7272 - val_loss: 0.0000e+00 - val_accuracy: 0.0000e+00\n",
            "Epoch 3/100\n",
            "148/148 [==============================] - 0s 2ms/step - loss: 4.1595 - accuracy: 0.7272 - val_loss: 0.0000e+00 - val_accuracy: 0.0000e+00\n",
            "Epoch 4/100\n",
            "148/148 [==============================] - 0s 2ms/step - loss: 4.1595 - accuracy: 0.7272 - val_loss: 0.0000e+00 - val_accuracy: 0.0000e+00\n",
            "Epoch 5/100\n",
            "148/148 [==============================] - 0s 2ms/step - loss: 4.1595 - accuracy: 0.7272 - val_loss: 0.0000e+00 - val_accuracy: 0.0000e+00\n",
            "Epoch 6/100\n",
            "148/148 [==============================] - 0s 2ms/step - loss: 4.1595 - accuracy: 0.7272 - val_loss: 0.0000e+00 - val_accuracy: 0.0000e+00\n",
            "Epoch 7/100\n",
            "148/148 [==============================] - 0s 2ms/step - loss: 4.1595 - accuracy: 0.7272 - val_loss: 0.0000e+00 - val_accuracy: 0.0000e+00\n",
            "Epoch 8/100\n",
            "148/148 [==============================] - 0s 2ms/step - loss: 4.1595 - accuracy: 0.7272 - val_loss: 0.0000e+00 - val_accuracy: 0.0000e+00\n",
            "Epoch 9/100\n",
            "148/148 [==============================] - 0s 2ms/step - loss: 4.1595 - accuracy: 0.7272 - val_loss: 0.0000e+00 - val_accuracy: 0.0000e+00\n",
            "Epoch 10/100\n",
            "148/148 [==============================] - 0s 2ms/step - loss: 4.1595 - accuracy: 0.7272 - val_loss: 0.0000e+00 - val_accuracy: 0.0000e+00\n",
            "Epoch 11/100\n",
            "148/148 [==============================] - 0s 2ms/step - loss: 4.1595 - accuracy: 0.7272 - val_loss: 0.0000e+00 - val_accuracy: 0.0000e+00\n",
            "74/74 [==============================] - 0s 2ms/step - loss: 14.5535 - accuracy: 0.0456\n",
            "Epoch 1/100\n",
            "134/148 [==========================>...] - ETA: 0s - loss: 8.1190 - accuracy: 0.4736WARNING:tensorflow:Layers in a Sequential model should only have a single input tensor. Received: inputs=(<tf.Tensor 'IteratorGetNext:0' shape=(None, 10) dtype=float64>, <tf.Tensor 'IteratorGetNext:1' shape=(None, 1) dtype=int64>). Consider rewriting this model with the Functional API.\n"
          ]
        },
        {
          "output_type": "stream",
          "name": "stderr",
          "text": [
            "WARNING:tensorflow:Layers in a Sequential model should only have a single input tensor. Received: inputs=(<tf.Tensor 'IteratorGetNext:0' shape=(None, 10) dtype=float64>, <tf.Tensor 'IteratorGetNext:1' shape=(None, 1) dtype=int64>). Consider rewriting this model with the Functional API.\n"
          ]
        },
        {
          "output_type": "stream",
          "name": "stdout",
          "text": [
            "\b\b\b\b\b\b\b\b\b\b\b\b\b\b\b\b\b\b\b\b\b\b\b\b\b\b\b\b\b\b\b\b\b\b\b\b\b\b\b\b\b\b\b\b\b\b\b\b\b\b\b\b\b\b\b\b\b\b\b\b\b\b\b\b\b\b\b\b\b\b\b\b\b\b\b\b\b\b\b\b\b\b\b\b\r148/148 [==============================] - 1s 3ms/step - loss: 8.0628 - accuracy: 0.4773 - val_loss: 0.0000e+00 - val_accuracy: 0.0000e+00\n",
            "Epoch 2/100\n",
            "148/148 [==============================] - 0s 2ms/step - loss: 8.0628 - accuracy: 0.4773 - val_loss: 0.0000e+00 - val_accuracy: 0.0000e+00\n",
            "Epoch 3/100\n",
            "148/148 [==============================] - 0s 2ms/step - loss: 8.0628 - accuracy: 0.4773 - val_loss: 0.0000e+00 - val_accuracy: 0.0000e+00\n",
            "Epoch 4/100\n",
            "148/148 [==============================] - 0s 2ms/step - loss: 8.0628 - accuracy: 0.4773 - val_loss: 0.0000e+00 - val_accuracy: 0.0000e+00\n",
            "Epoch 5/100\n",
            "148/148 [==============================] - 0s 2ms/step - loss: 8.0628 - accuracy: 0.4773 - val_loss: 0.0000e+00 - val_accuracy: 0.0000e+00\n",
            "Epoch 6/100\n",
            "148/148 [==============================] - 0s 2ms/step - loss: 8.0628 - accuracy: 0.4773 - val_loss: 0.0000e+00 - val_accuracy: 0.0000e+00\n",
            "Epoch 7/100\n",
            "148/148 [==============================] - 0s 2ms/step - loss: 8.0628 - accuracy: 0.4773 - val_loss: 0.0000e+00 - val_accuracy: 0.0000e+00\n",
            "Epoch 8/100\n",
            "148/148 [==============================] - 0s 2ms/step - loss: 8.0628 - accuracy: 0.4773 - val_loss: 0.0000e+00 - val_accuracy: 0.0000e+00\n",
            "Epoch 9/100\n",
            "148/148 [==============================] - 0s 2ms/step - loss: 8.0628 - accuracy: 0.4773 - val_loss: 0.0000e+00 - val_accuracy: 0.0000e+00\n",
            "Epoch 10/100\n",
            "148/148 [==============================] - 0s 2ms/step - loss: 8.0628 - accuracy: 0.4773 - val_loss: 0.0000e+00 - val_accuracy: 0.0000e+00\n",
            "Epoch 11/100\n",
            "148/148 [==============================] - 0s 2ms/step - loss: 8.0628 - accuracy: 0.4773 - val_loss: 0.0000e+00 - val_accuracy: 0.0000e+00\n",
            "74/74 [==============================] - 0s 2ms/step - loss: 7.0119 - accuracy: 0.5454\n",
            "Epoch 1/100\n",
            "143/148 [===========================>..] - ETA: 0s - loss: 3.8173 - accuracy: 0.7487WARNING:tensorflow:Layers in a Sequential model should only have a single input tensor. Received: inputs=(<tf.Tensor 'IteratorGetNext:0' shape=(None, 10) dtype=float64>, <tf.Tensor 'IteratorGetNext:1' shape=(None, 1) dtype=int64>). Consider rewriting this model with the Functional API.\n"
          ]
        },
        {
          "output_type": "stream",
          "name": "stderr",
          "text": [
            "WARNING:tensorflow:Layers in a Sequential model should only have a single input tensor. Received: inputs=(<tf.Tensor 'IteratorGetNext:0' shape=(None, 10) dtype=float64>, <tf.Tensor 'IteratorGetNext:1' shape=(None, 1) dtype=int64>). Consider rewriting this model with the Functional API.\n"
          ]
        },
        {
          "output_type": "stream",
          "name": "stdout",
          "text": [
            "\b\b\b\b\b\b\b\b\b\b\b\b\b\b\b\b\b\b\b\b\b\b\b\b\b\b\b\b\b\b\b\b\b\b\b\b\b\b\b\b\b\b\b\b\b\b\b\b\b\b\b\b\b\b\b\b\b\b\b\b\b\b\b\b\b\b\b\b\b\b\b\b\b\b\b\b\b\b\b\b\b\b\b\b\r148/148 [==============================] - 1s 3ms/step - loss: 3.8169 - accuracy: 0.7488 - val_loss: 0.0000e+00 - val_accuracy: 0.0000e+00\n",
            "Epoch 2/100\n",
            "148/148 [==============================] - 0s 2ms/step - loss: 3.8579 - accuracy: 0.7499 - val_loss: 0.0000e+00 - val_accuracy: 0.0000e+00\n",
            "Epoch 3/100\n",
            "148/148 [==============================] - 0s 2ms/step - loss: 3.8579 - accuracy: 0.7499 - val_loss: 0.0000e+00 - val_accuracy: 0.0000e+00\n",
            "Epoch 4/100\n",
            "148/148 [==============================] - 0s 2ms/step - loss: 3.8579 - accuracy: 0.7499 - val_loss: 0.0000e+00 - val_accuracy: 0.0000e+00\n",
            "Epoch 5/100\n",
            "148/148 [==============================] - 0s 2ms/step - loss: 3.8579 - accuracy: 0.7499 - val_loss: 0.0000e+00 - val_accuracy: 0.0000e+00\n",
            "Epoch 6/100\n",
            "148/148 [==============================] - 0s 2ms/step - loss: 3.8579 - accuracy: 0.7499 - val_loss: 0.0000e+00 - val_accuracy: 0.0000e+00\n",
            "Epoch 7/100\n",
            "148/148 [==============================] - 0s 2ms/step - loss: 3.8579 - accuracy: 0.7499 - val_loss: 0.0000e+00 - val_accuracy: 0.0000e+00\n",
            "Epoch 8/100\n",
            "148/148 [==============================] - 0s 2ms/step - loss: 3.8579 - accuracy: 0.7499 - val_loss: 0.0000e+00 - val_accuracy: 0.0000e+00\n",
            "Epoch 9/100\n",
            "148/148 [==============================] - 0s 2ms/step - loss: 3.8579 - accuracy: 0.7499 - val_loss: 0.0000e+00 - val_accuracy: 0.0000e+00\n",
            "Epoch 10/100\n",
            "148/148 [==============================] - 0s 2ms/step - loss: 3.8579 - accuracy: 0.7499 - val_loss: 0.0000e+00 - val_accuracy: 0.0000e+00\n",
            "Epoch 11/100\n",
            "148/148 [==============================] - 0s 2ms/step - loss: 3.8579 - accuracy: 0.7499 - val_loss: 0.0000e+00 - val_accuracy: 0.0000e+00\n",
            "74/74 [==============================] - 0s 2ms/step - loss: 15.4249 - accuracy: 0.0000e+00\n",
            "Epoch 1/100\n",
            "126/148 [========================>.....] - ETA: 0s - loss: 11.2321 - accuracy: 0.2718WARNING:tensorflow:Layers in a Sequential model should only have a single input tensor. Received: inputs=(<tf.Tensor 'IteratorGetNext:0' shape=(None, 10) dtype=float64>, <tf.Tensor 'IteratorGetNext:1' shape=(None, 1) dtype=int64>). Consider rewriting this model with the Functional API.\n"
          ]
        },
        {
          "output_type": "stream",
          "name": "stderr",
          "text": [
            "WARNING:tensorflow:Layers in a Sequential model should only have a single input tensor. Received: inputs=(<tf.Tensor 'IteratorGetNext:0' shape=(None, 10) dtype=float64>, <tf.Tensor 'IteratorGetNext:1' shape=(None, 1) dtype=int64>). Consider rewriting this model with the Functional API.\n"
          ]
        },
        {
          "output_type": "stream",
          "name": "stdout",
          "text": [
            "\b\b\b\b\b\b\b\b\b\b\b\b\b\b\b\b\b\b\b\b\b\b\b\b\b\b\b\b\b\b\b\b\b\b\b\b\b\b\b\b\b\b\b\b\b\b\b\b\b\b\b\b\b\b\b\b\b\b\b\b\b\b\b\b\b\b\b\b\b\b\b\b\b\b\b\b\b\b\b\b\b\b\b\b\b\r148/148 [==============================] - 1s 3ms/step - loss: 11.2176 - accuracy: 0.2728 - val_loss: 0.0000e+00 - val_accuracy: 0.0000e+00\n",
            "Epoch 2/100\n",
            "148/148 [==============================] - 0s 2ms/step - loss: 11.2176 - accuracy: 0.2728 - val_loss: 0.0000e+00 - val_accuracy: 0.0000e+00\n",
            "Epoch 3/100\n",
            "148/148 [==============================] - 0s 2ms/step - loss: 11.2176 - accuracy: 0.2728 - val_loss: 0.0000e+00 - val_accuracy: 0.0000e+00\n",
            "Epoch 4/100\n",
            "148/148 [==============================] - 0s 2ms/step - loss: 11.2176 - accuracy: 0.2728 - val_loss: 0.0000e+00 - val_accuracy: 0.0000e+00\n",
            "Epoch 5/100\n",
            "148/148 [==============================] - 0s 2ms/step - loss: 11.2176 - accuracy: 0.2728 - val_loss: 0.0000e+00 - val_accuracy: 0.0000e+00\n",
            "Epoch 6/100\n",
            "148/148 [==============================] - 0s 2ms/step - loss: 11.2176 - accuracy: 0.2728 - val_loss: 0.0000e+00 - val_accuracy: 0.0000e+00\n",
            "Epoch 7/100\n",
            "148/148 [==============================] - 0s 2ms/step - loss: 11.2176 - accuracy: 0.2728 - val_loss: 0.0000e+00 - val_accuracy: 0.0000e+00\n",
            "Epoch 8/100\n",
            "148/148 [==============================] - 0s 2ms/step - loss: 11.2176 - accuracy: 0.2728 - val_loss: 0.0000e+00 - val_accuracy: 0.0000e+00\n",
            "Epoch 9/100\n",
            "148/148 [==============================] - 0s 2ms/step - loss: 11.2176 - accuracy: 0.2728 - val_loss: 0.0000e+00 - val_accuracy: 0.0000e+00\n",
            "Epoch 10/100\n",
            "148/148 [==============================] - 0s 2ms/step - loss: 11.2176 - accuracy: 0.2728 - val_loss: 0.0000e+00 - val_accuracy: 0.0000e+00\n",
            "Epoch 11/100\n",
            "148/148 [==============================] - 0s 2ms/step - loss: 11.2175 - accuracy: 0.2728 - val_loss: 0.0000e+00 - val_accuracy: 0.0000e+00\n",
            "74/74 [==============================] - 0s 2ms/step - loss: 0.7038 - accuracy: 0.9544\n",
            "Epoch 1/100\n",
            "131/148 [=========================>....] - ETA: 0s - loss: 7.2059 - accuracy: 0.5250WARNING:tensorflow:Layers in a Sequential model should only have a single input tensor. Received: inputs=(<tf.Tensor 'IteratorGetNext:0' shape=(None, 10) dtype=float64>, <tf.Tensor 'IteratorGetNext:1' shape=(None, 1) dtype=int64>). Consider rewriting this model with the Functional API.\n"
          ]
        },
        {
          "output_type": "stream",
          "name": "stderr",
          "text": [
            "WARNING:tensorflow:Layers in a Sequential model should only have a single input tensor. Received: inputs=(<tf.Tensor 'IteratorGetNext:0' shape=(None, 10) dtype=float64>, <tf.Tensor 'IteratorGetNext:1' shape=(None, 1) dtype=int64>). Consider rewriting this model with the Functional API.\n"
          ]
        },
        {
          "output_type": "stream",
          "name": "stdout",
          "text": [
            "\b\b\b\b\b\b\b\b\b\b\b\b\b\b\b\b\b\b\b\b\b\b\b\b\b\b\b\b\b\b\b\b\b\b\b\b\b\b\b\b\b\b\b\b\b\b\b\b\b\b\b\b\b\b\b\b\b\b\b\b\b\b\b\b\b\b\b\b\b\b\b\b\b\b\b\b\b\b\b\b\b\b\b\b\r148/148 [==============================] - 1s 3ms/step - loss: 7.2392 - accuracy: 0.5231 - val_loss: 0.0000e+00 - val_accuracy: 0.0000e+00\n",
            "Epoch 2/100\n",
            "148/148 [==============================] - 0s 2ms/step - loss: 7.2783 - accuracy: 0.5227 - val_loss: 0.0000e+00 - val_accuracy: 0.0000e+00\n",
            "Epoch 3/100\n",
            "148/148 [==============================] - 0s 2ms/step - loss: 7.2783 - accuracy: 0.5227 - val_loss: 0.0000e+00 - val_accuracy: 0.0000e+00\n",
            "Epoch 4/100\n",
            "148/148 [==============================] - 0s 2ms/step - loss: 7.2783 - accuracy: 0.5227 - val_loss: 0.0000e+00 - val_accuracy: 0.0000e+00\n",
            "Epoch 5/100\n",
            "148/148 [==============================] - 0s 2ms/step - loss: 7.2783 - accuracy: 0.5227 - val_loss: 0.0000e+00 - val_accuracy: 0.0000e+00\n",
            "Epoch 6/100\n",
            "148/148 [==============================] - 0s 2ms/step - loss: 7.2783 - accuracy: 0.5227 - val_loss: 0.0000e+00 - val_accuracy: 0.0000e+00\n",
            "Epoch 7/100\n",
            "148/148 [==============================] - 0s 2ms/step - loss: 7.2783 - accuracy: 0.5227 - val_loss: 0.0000e+00 - val_accuracy: 0.0000e+00\n",
            "Epoch 8/100\n",
            "148/148 [==============================] - 0s 2ms/step - loss: 7.2783 - accuracy: 0.5227 - val_loss: 0.0000e+00 - val_accuracy: 0.0000e+00\n",
            "Epoch 9/100\n",
            "148/148 [==============================] - 0s 2ms/step - loss: 7.2783 - accuracy: 0.5227 - val_loss: 0.0000e+00 - val_accuracy: 0.0000e+00\n",
            "Epoch 10/100\n",
            "148/148 [==============================] - 0s 2ms/step - loss: 7.2783 - accuracy: 0.5227 - val_loss: 0.0000e+00 - val_accuracy: 0.0000e+00\n",
            "Epoch 11/100\n",
            "148/148 [==============================] - 0s 2ms/step - loss: 7.2783 - accuracy: 0.5227 - val_loss: 0.0000e+00 - val_accuracy: 0.0000e+00\n",
            "74/74 [==============================] - 0s 2ms/step - loss: 8.3172 - accuracy: 0.4546\n",
            "Epoch 1/100\n",
            "132/148 [=========================>....] - ETA: 0s - loss: 10.3443 - accuracy: 0.3220WARNING:tensorflow:Layers in a Sequential model should only have a single input tensor. Received: inputs=(<tf.Tensor 'IteratorGetNext:0' shape=(None, 10) dtype=float64>, <tf.Tensor 'IteratorGetNext:1' shape=(None, 1) dtype=int64>). Consider rewriting this model with the Functional API.\n"
          ]
        },
        {
          "output_type": "stream",
          "name": "stderr",
          "text": [
            "WARNING:tensorflow:Layers in a Sequential model should only have a single input tensor. Received: inputs=(<tf.Tensor 'IteratorGetNext:0' shape=(None, 10) dtype=float64>, <tf.Tensor 'IteratorGetNext:1' shape=(None, 1) dtype=int64>). Consider rewriting this model with the Functional API.\n"
          ]
        },
        {
          "output_type": "stream",
          "name": "stdout",
          "text": [
            "\b\b\b\b\b\b\b\b\b\b\b\b\b\b\b\b\b\b\b\b\b\b\b\b\b\b\b\b\b\b\b\b\b\b\b\b\b\b\b\b\b\b\b\b\b\b\b\b\b\b\b\b\b\b\b\b\b\b\b\b\b\b\b\b\b\b\b\b\b\b\b\b\b\b\b\b\b\b\b\b\b\b\b\b\b\r148/148 [==============================] - 1s 3ms/step - loss: 10.4604 - accuracy: 0.3143 - val_loss: 0.0000e+00 - val_accuracy: 0.0000e+00\n",
            "Epoch 2/100\n",
            "148/148 [==============================] - 0s 2ms/step - loss: 11.4353 - accuracy: 0.2501 - val_loss: 0.0000e+00 - val_accuracy: 0.0000e+00\n",
            "Epoch 3/100\n",
            "148/148 [==============================] - 0s 2ms/step - loss: 11.4353 - accuracy: 0.2501 - val_loss: 0.0000e+00 - val_accuracy: 0.0000e+00\n",
            "Epoch 4/100\n",
            "148/148 [==============================] - 0s 2ms/step - loss: 11.4353 - accuracy: 0.2501 - val_loss: 0.0000e+00 - val_accuracy: 0.0000e+00\n",
            "Epoch 5/100\n",
            "148/148 [==============================] - 0s 2ms/step - loss: 11.4353 - accuracy: 0.2501 - val_loss: 0.0000e+00 - val_accuracy: 0.0000e+00\n",
            "Epoch 6/100\n",
            "148/148 [==============================] - 0s 2ms/step - loss: 11.4353 - accuracy: 0.2501 - val_loss: 0.0000e+00 - val_accuracy: 0.0000e+00\n",
            "Epoch 7/100\n",
            "148/148 [==============================] - 0s 2ms/step - loss: 11.4353 - accuracy: 0.2501 - val_loss: 0.0000e+00 - val_accuracy: 0.0000e+00\n",
            "Epoch 8/100\n",
            "148/148 [==============================] - 0s 2ms/step - loss: 11.4353 - accuracy: 0.2501 - val_loss: 0.0000e+00 - val_accuracy: 0.0000e+00\n",
            "Epoch 9/100\n",
            "148/148 [==============================] - 0s 2ms/step - loss: 11.4353 - accuracy: 0.2501 - val_loss: 0.0000e+00 - val_accuracy: 0.0000e+00\n",
            "Epoch 10/100\n",
            "148/148 [==============================] - 0s 2ms/step - loss: 11.4353 - accuracy: 0.2501 - val_loss: 0.0000e+00 - val_accuracy: 0.0000e+00\n",
            "Epoch 11/100\n",
            "148/148 [==============================] - 0s 2ms/step - loss: 11.4353 - accuracy: 0.2501 - val_loss: 0.0000e+00 - val_accuracy: 0.0000e+00\n",
            "74/74 [==============================] - 0s 2ms/step - loss: 0.0000e+00 - accuracy: 1.0000\n",
            "Epoch 1/100\n",
            "144/148 [============================>.] - ETA: 0s - loss: 9.5215 - accuracy: 0.3576WARNING:tensorflow:Layers in a Sequential model should only have a single input tensor. Received: inputs=(<tf.Tensor 'IteratorGetNext:0' shape=(None, 10) dtype=float64>, <tf.Tensor 'IteratorGetNext:1' shape=(None, 1) dtype=int64>). Consider rewriting this model with the Functional API.\n"
          ]
        },
        {
          "output_type": "stream",
          "name": "stderr",
          "text": [
            "WARNING:tensorflow:Layers in a Sequential model should only have a single input tensor. Received: inputs=(<tf.Tensor 'IteratorGetNext:0' shape=(None, 10) dtype=float64>, <tf.Tensor 'IteratorGetNext:1' shape=(None, 1) dtype=int64>). Consider rewriting this model with the Functional API.\n"
          ]
        },
        {
          "output_type": "stream",
          "name": "stdout",
          "text": [
            "\b\b\b\b\b\b\b\b\b\b\b\b\b\b\b\b\b\b\b\b\b\b\b\b\b\b\b\b\b\b\b\b\b\b\b\b\b\b\b\b\b\b\b\b\b\b\b\b\b\b\b\b\b\b\b\b\b\b\b\b\b\b\b\b\b\b\b\b\b\b\b\b\b\b\b\b\b\b\b\b\b\b\b\b\r148/148 [==============================] - 1s 3ms/step - loss: 9.5666 - accuracy: 0.3554 - val_loss: 0.0000e+00 - val_accuracy: 0.0000e+00\n",
            "Epoch 2/100\n",
            "148/148 [==============================] - 0s 2ms/step - loss: 11.2176 - accuracy: 0.2728 - val_loss: 0.0000e+00 - val_accuracy: 0.0000e+00\n",
            "Epoch 3/100\n",
            "148/148 [==============================] - 0s 2ms/step - loss: 11.2176 - accuracy: 0.2728 - val_loss: 0.0000e+00 - val_accuracy: 0.0000e+00\n",
            "Epoch 4/100\n",
            "148/148 [==============================] - 0s 2ms/step - loss: 11.2176 - accuracy: 0.2728 - val_loss: 0.0000e+00 - val_accuracy: 0.0000e+00\n",
            "Epoch 5/100\n",
            "148/148 [==============================] - 0s 2ms/step - loss: 11.2175 - accuracy: 0.2728 - val_loss: 0.0000e+00 - val_accuracy: 0.0000e+00\n",
            "Epoch 6/100\n",
            "148/148 [==============================] - 0s 2ms/step - loss: 11.2176 - accuracy: 0.2728 - val_loss: 0.0000e+00 - val_accuracy: 0.0000e+00\n",
            "Epoch 7/100\n",
            "148/148 [==============================] - 0s 2ms/step - loss: 11.2176 - accuracy: 0.2728 - val_loss: 0.0000e+00 - val_accuracy: 0.0000e+00\n",
            "Epoch 8/100\n",
            "148/148 [==============================] - 0s 2ms/step - loss: 11.2176 - accuracy: 0.2728 - val_loss: 0.0000e+00 - val_accuracy: 0.0000e+00\n",
            "Epoch 9/100\n",
            "148/148 [==============================] - 0s 2ms/step - loss: 11.2176 - accuracy: 0.2728 - val_loss: 0.0000e+00 - val_accuracy: 0.0000e+00\n",
            "Epoch 10/100\n",
            "148/148 [==============================] - 0s 2ms/step - loss: 11.2176 - accuracy: 0.2728 - val_loss: 0.0000e+00 - val_accuracy: 0.0000e+00\n",
            "Epoch 11/100\n",
            "148/148 [==============================] - 0s 2ms/step - loss: 11.2176 - accuracy: 0.2728 - val_loss: 0.0000e+00 - val_accuracy: 0.0000e+00\n",
            "74/74 [==============================] - 0s 2ms/step - loss: 0.7038 - accuracy: 0.9544\n",
            "Epoch 1/100\n",
            "144/148 [============================>.] - ETA: 0s - loss: 7.1505 - accuracy: 0.5171WARNING:tensorflow:Layers in a Sequential model should only have a single input tensor. Received: inputs=(<tf.Tensor 'IteratorGetNext:0' shape=(None, 10) dtype=float64>, <tf.Tensor 'IteratorGetNext:1' shape=(None, 1) dtype=int64>). Consider rewriting this model with the Functional API.\n"
          ]
        },
        {
          "output_type": "stream",
          "name": "stderr",
          "text": [
            "WARNING:tensorflow:Layers in a Sequential model should only have a single input tensor. Received: inputs=(<tf.Tensor 'IteratorGetNext:0' shape=(None, 10) dtype=float64>, <tf.Tensor 'IteratorGetNext:1' shape=(None, 1) dtype=int64>). Consider rewriting this model with the Functional API.\n"
          ]
        },
        {
          "output_type": "stream",
          "name": "stdout",
          "text": [
            "\b\b\b\b\b\b\b\b\b\b\b\b\b\b\b\b\b\b\b\b\b\b\b\b\b\b\b\b\b\b\b\b\b\b\b\b\b\b\b\b\b\b\b\b\b\b\b\b\b\b\b\b\b\b\b\b\b\b\b\b\b\b\b\b\b\b\b\b\b\b\b\b\b\b\b\b\b\b\b\b\b\b\b\b\r148/148 [==============================] - 1s 3ms/step - loss: 7.1670 - accuracy: 0.5166 - val_loss: 0.0000e+00 - val_accuracy: 0.0000e+00\n",
            "Epoch 2/100\n",
            "148/148 [==============================] - 0s 2ms/step - loss: 8.0628 - accuracy: 0.4773 - val_loss: 0.0000e+00 - val_accuracy: 0.0000e+00\n",
            "Epoch 3/100\n",
            "148/148 [==============================] - 0s 2ms/step - loss: 8.0628 - accuracy: 0.4773 - val_loss: 0.0000e+00 - val_accuracy: 0.0000e+00\n",
            "Epoch 4/100\n",
            "148/148 [==============================] - 0s 2ms/step - loss: 8.0628 - accuracy: 0.4773 - val_loss: 0.0000e+00 - val_accuracy: 0.0000e+00\n",
            "Epoch 5/100\n",
            "148/148 [==============================] - 0s 2ms/step - loss: 8.0628 - accuracy: 0.4773 - val_loss: 0.0000e+00 - val_accuracy: 0.0000e+00\n",
            "Epoch 6/100\n",
            "148/148 [==============================] - 0s 2ms/step - loss: 8.0628 - accuracy: 0.4773 - val_loss: 0.0000e+00 - val_accuracy: 0.0000e+00\n",
            "Epoch 7/100\n",
            "148/148 [==============================] - 0s 2ms/step - loss: 8.0628 - accuracy: 0.4773 - val_loss: 0.0000e+00 - val_accuracy: 0.0000e+00\n",
            "Epoch 8/100\n",
            "148/148 [==============================] - 0s 2ms/step - loss: 8.0628 - accuracy: 0.4773 - val_loss: 0.0000e+00 - val_accuracy: 0.0000e+00\n",
            "Epoch 9/100\n",
            "148/148 [==============================] - 0s 2ms/step - loss: 8.0628 - accuracy: 0.4773 - val_loss: 0.0000e+00 - val_accuracy: 0.0000e+00\n",
            "Epoch 10/100\n",
            "148/148 [==============================] - 0s 2ms/step - loss: 8.0628 - accuracy: 0.4773 - val_loss: 0.0000e+00 - val_accuracy: 0.0000e+00\n",
            "Epoch 11/100\n",
            "148/148 [==============================] - 0s 2ms/step - loss: 8.0628 - accuracy: 0.4773 - val_loss: 0.0000e+00 - val_accuracy: 0.0000e+00\n",
            "74/74 [==============================] - 0s 2ms/step - loss: 7.0119 - accuracy: 0.5454\n",
            "Epoch 1/100\n",
            "112/148 [=====================>........] - ETA: 0s - loss: 3.8833 - accuracy: 0.7414WARNING:tensorflow:Layers in a Sequential model should only have a single input tensor. Received: inputs=(<tf.Tensor 'IteratorGetNext:0' shape=(None, 10) dtype=float64>, <tf.Tensor 'IteratorGetNext:1' shape=(None, 1) dtype=int64>). Consider rewriting this model with the Functional API.\n"
          ]
        },
        {
          "output_type": "stream",
          "name": "stderr",
          "text": [
            "WARNING:tensorflow:Layers in a Sequential model should only have a single input tensor. Received: inputs=(<tf.Tensor 'IteratorGetNext:0' shape=(None, 10) dtype=float64>, <tf.Tensor 'IteratorGetNext:1' shape=(None, 1) dtype=int64>). Consider rewriting this model with the Functional API.\n"
          ]
        },
        {
          "output_type": "stream",
          "name": "stdout",
          "text": [
            "\b\b\b\b\b\b\b\b\b\b\b\b\b\b\b\b\b\b\b\b\b\b\b\b\b\b\b\b\b\b\b\b\b\b\b\b\b\b\b\b\b\b\b\b\b\b\b\b\b\b\b\b\b\b\b\b\b\b\b\b\b\b\b\b\b\b\b\b\b\b\b\b\b\b\b\b\b\b\b\b\b\b\b\b\r148/148 [==============================] - 1s 3ms/step - loss: 3.8392 - accuracy: 0.7459 - val_loss: 0.0000e+00 - val_accuracy: 0.0000e+00\n",
            "Epoch 2/100\n",
            "148/148 [==============================] - 0s 2ms/step - loss: 3.8579 - accuracy: 0.7499 - val_loss: 0.0000e+00 - val_accuracy: 0.0000e+00\n",
            "Epoch 3/100\n",
            "148/148 [==============================] - 0s 2ms/step - loss: 3.8579 - accuracy: 0.7499 - val_loss: 0.0000e+00 - val_accuracy: 0.0000e+00\n",
            "Epoch 4/100\n",
            "148/148 [==============================] - 0s 2ms/step - loss: 3.8579 - accuracy: 0.7499 - val_loss: 0.0000e+00 - val_accuracy: 0.0000e+00\n",
            "Epoch 5/100\n",
            "148/148 [==============================] - 0s 2ms/step - loss: 3.8579 - accuracy: 0.7499 - val_loss: 0.0000e+00 - val_accuracy: 0.0000e+00\n",
            "Epoch 6/100\n",
            "148/148 [==============================] - 0s 2ms/step - loss: 3.8579 - accuracy: 0.7499 - val_loss: 0.0000e+00 - val_accuracy: 0.0000e+00\n",
            "Epoch 7/100\n",
            "148/148 [==============================] - 0s 2ms/step - loss: 3.8579 - accuracy: 0.7499 - val_loss: 0.0000e+00 - val_accuracy: 0.0000e+00\n",
            "Epoch 8/100\n",
            "148/148 [==============================] - 0s 2ms/step - loss: 3.8579 - accuracy: 0.7499 - val_loss: 0.0000e+00 - val_accuracy: 0.0000e+00\n",
            "Epoch 9/100\n",
            "148/148 [==============================] - 0s 2ms/step - loss: 3.8579 - accuracy: 0.7499 - val_loss: 0.0000e+00 - val_accuracy: 0.0000e+00\n",
            "Epoch 10/100\n",
            "148/148 [==============================] - 0s 2ms/step - loss: 3.8579 - accuracy: 0.7499 - val_loss: 0.0000e+00 - val_accuracy: 0.0000e+00\n",
            "Epoch 11/100\n",
            "148/148 [==============================] - 0s 2ms/step - loss: 3.8579 - accuracy: 0.7499 - val_loss: 0.0000e+00 - val_accuracy: 0.0000e+00\n",
            "74/74 [==============================] - 0s 2ms/step - loss: 15.4249 - accuracy: 0.0000e+00\n",
            "Epoch 1/100\n",
            "133/148 [=========================>....] - ETA: 0s - loss: 4.1429 - accuracy: 0.7253WARNING:tensorflow:Layers in a Sequential model should only have a single input tensor. Received: inputs=(<tf.Tensor 'IteratorGetNext:0' shape=(None, 10) dtype=float64>, <tf.Tensor 'IteratorGetNext:1' shape=(None, 1) dtype=int64>). Consider rewriting this model with the Functional API.\n"
          ]
        },
        {
          "output_type": "stream",
          "name": "stderr",
          "text": [
            "WARNING:tensorflow:Layers in a Sequential model should only have a single input tensor. Received: inputs=(<tf.Tensor 'IteratorGetNext:0' shape=(None, 10) dtype=float64>, <tf.Tensor 'IteratorGetNext:1' shape=(None, 1) dtype=int64>). Consider rewriting this model with the Functional API.\n"
          ]
        },
        {
          "output_type": "stream",
          "name": "stdout",
          "text": [
            "\b\b\b\b\b\b\b\b\b\b\b\b\b\b\b\b\b\b\b\b\b\b\b\b\b\b\b\b\b\b\b\b\b\b\b\b\b\b\b\b\b\b\b\b\b\b\b\b\b\b\b\b\b\b\b\b\b\b\b\b\b\b\b\b\b\b\b\b\b\b\b\b\b\b\b\b\b\b\b\b\b\b\b\b\r148/148 [==============================] - 1s 3ms/step - loss: 4.1636 - accuracy: 0.7243 - val_loss: 0.0000e+00 - val_accuracy: 0.0000e+00\n",
            "Epoch 2/100\n",
            "148/148 [==============================] - 0s 2ms/step - loss: 4.1595 - accuracy: 0.7272 - val_loss: 0.0000e+00 - val_accuracy: 0.0000e+00\n",
            "Epoch 3/100\n",
            "148/148 [==============================] - 0s 2ms/step - loss: 4.1595 - accuracy: 0.7272 - val_loss: 0.0000e+00 - val_accuracy: 0.0000e+00\n",
            "Epoch 4/100\n",
            "148/148 [==============================] - 0s 2ms/step - loss: 4.1595 - accuracy: 0.7272 - val_loss: 0.0000e+00 - val_accuracy: 0.0000e+00\n",
            "Epoch 5/100\n",
            "148/148 [==============================] - 0s 2ms/step - loss: 4.1595 - accuracy: 0.7272 - val_loss: 0.0000e+00 - val_accuracy: 0.0000e+00\n",
            "Epoch 6/100\n",
            "148/148 [==============================] - 0s 2ms/step - loss: 4.1595 - accuracy: 0.7272 - val_loss: 0.0000e+00 - val_accuracy: 0.0000e+00\n",
            "Epoch 7/100\n",
            "148/148 [==============================] - 0s 2ms/step - loss: 4.1595 - accuracy: 0.7272 - val_loss: 0.0000e+00 - val_accuracy: 0.0000e+00\n",
            "Epoch 8/100\n",
            "148/148 [==============================] - 0s 2ms/step - loss: 4.1595 - accuracy: 0.7272 - val_loss: 0.0000e+00 - val_accuracy: 0.0000e+00\n",
            "Epoch 9/100\n",
            "148/148 [==============================] - 0s 2ms/step - loss: 4.1595 - accuracy: 0.7272 - val_loss: 0.0000e+00 - val_accuracy: 0.0000e+00\n",
            "Epoch 10/100\n",
            "148/148 [==============================] - 0s 2ms/step - loss: 4.1595 - accuracy: 0.7272 - val_loss: 0.0000e+00 - val_accuracy: 0.0000e+00\n",
            "Epoch 11/100\n",
            "148/148 [==============================] - 0s 2ms/step - loss: 4.1595 - accuracy: 0.7272 - val_loss: 0.0000e+00 - val_accuracy: 0.0000e+00\n",
            "74/74 [==============================] - 0s 2ms/step - loss: 14.5535 - accuracy: 0.0456\n",
            "Epoch 1/100\n",
            "124/148 [========================>.....] - ETA: 0s - loss: 7.3326 - accuracy: 0.5154WARNING:tensorflow:Layers in a Sequential model should only have a single input tensor. Received: inputs=(<tf.Tensor 'IteratorGetNext:0' shape=(None, 10) dtype=float64>, <tf.Tensor 'IteratorGetNext:1' shape=(None, 1) dtype=int64>). Consider rewriting this model with the Functional API.\n"
          ]
        },
        {
          "output_type": "stream",
          "name": "stderr",
          "text": [
            "WARNING:tensorflow:Layers in a Sequential model should only have a single input tensor. Received: inputs=(<tf.Tensor 'IteratorGetNext:0' shape=(None, 10) dtype=float64>, <tf.Tensor 'IteratorGetNext:1' shape=(None, 1) dtype=int64>). Consider rewriting this model with the Functional API.\n"
          ]
        },
        {
          "output_type": "stream",
          "name": "stdout",
          "text": [
            "\b\b\b\b\b\b\b\b\b\b\b\b\b\b\b\b\b\b\b\b\b\b\b\b\b\b\b\b\b\b\b\b\b\b\b\b\b\b\b\b\b\b\b\b\b\b\b\b\b\b\b\b\b\b\b\b\b\b\b\b\b\b\b\b\b\b\b\b\b\b\b\b\b\b\b\b\b\b\b\b\b\b\b\b\r148/148 [==============================] - 1s 3ms/step - loss: 7.2622 - accuracy: 0.5206 - val_loss: 0.0000e+00 - val_accuracy: 0.0000e+00\n",
            "Epoch 2/100\n",
            "148/148 [==============================] - 0s 2ms/step - loss: 7.2783 - accuracy: 0.5227 - val_loss: 0.0000e+00 - val_accuracy: 0.0000e+00\n",
            "Epoch 3/100\n",
            "148/148 [==============================] - 0s 2ms/step - loss: 7.2783 - accuracy: 0.5227 - val_loss: 0.0000e+00 - val_accuracy: 0.0000e+00\n",
            "Epoch 4/100\n",
            "148/148 [==============================] - 0s 2ms/step - loss: 7.2783 - accuracy: 0.5227 - val_loss: 0.0000e+00 - val_accuracy: 0.0000e+00\n",
            "Epoch 5/100\n",
            "148/148 [==============================] - 0s 2ms/step - loss: 7.2783 - accuracy: 0.5227 - val_loss: 0.0000e+00 - val_accuracy: 0.0000e+00\n",
            "Epoch 6/100\n",
            "148/148 [==============================] - 0s 2ms/step - loss: 7.2783 - accuracy: 0.5227 - val_loss: 0.0000e+00 - val_accuracy: 0.0000e+00\n",
            "Epoch 7/100\n",
            "148/148 [==============================] - 0s 3ms/step - loss: 7.2783 - accuracy: 0.5227 - val_loss: 0.0000e+00 - val_accuracy: 0.0000e+00\n",
            "Epoch 8/100\n",
            "148/148 [==============================] - 1s 4ms/step - loss: 7.2783 - accuracy: 0.5227 - val_loss: 0.0000e+00 - val_accuracy: 0.0000e+00\n",
            "Epoch 9/100\n",
            "148/148 [==============================] - 1s 5ms/step - loss: 7.2783 - accuracy: 0.5227 - val_loss: 0.0000e+00 - val_accuracy: 0.0000e+00\n",
            "Epoch 10/100\n",
            "148/148 [==============================] - 1s 4ms/step - loss: 7.2783 - accuracy: 0.5227 - val_loss: 0.0000e+00 - val_accuracy: 0.0000e+00\n",
            "Epoch 11/100\n",
            "148/148 [==============================] - 1s 4ms/step - loss: 7.2783 - accuracy: 0.5227 - val_loss: 0.0000e+00 - val_accuracy: 0.0000e+00\n",
            "74/74 [==============================] - 0s 2ms/step - loss: 8.3172 - accuracy: 0.4546\n",
            "Epoch 1/100\n",
            "129/148 [=========================>....] - ETA: 0s - loss: 11.3206 - accuracy: 0.2565WARNING:tensorflow:Layers in a Sequential model should only have a single input tensor. Received: inputs=(<tf.Tensor 'IteratorGetNext:0' shape=(None, 10) dtype=float64>, <tf.Tensor 'IteratorGetNext:1' shape=(None, 1) dtype=int64>). Consider rewriting this model with the Functional API.\n"
          ]
        },
        {
          "output_type": "stream",
          "name": "stderr",
          "text": [
            "WARNING:tensorflow:Layers in a Sequential model should only have a single input tensor. Received: inputs=(<tf.Tensor 'IteratorGetNext:0' shape=(None, 10) dtype=float64>, <tf.Tensor 'IteratorGetNext:1' shape=(None, 1) dtype=int64>). Consider rewriting this model with the Functional API.\n"
          ]
        },
        {
          "output_type": "stream",
          "name": "stdout",
          "text": [
            "\b\b\b\b\b\b\b\b\b\b\b\b\b\b\b\b\b\b\b\b\b\b\b\b\b\b\b\b\b\b\b\b\b\b\b\b\b\b\b\b\b\b\b\b\b\b\b\b\b\b\b\b\b\b\b\b\b\b\b\b\b\b\b\b\b\b\b\b\b\b\b\b\b\b\b\b\b\b\b\b\b\b\b\b\b\r148/148 [==============================] - 1s 3ms/step - loss: 11.3886 - accuracy: 0.2522 - val_loss: 0.0000e+00 - val_accuracy: 0.0000e+00\n",
            "Epoch 2/100\n",
            "148/148 [==============================] - 0s 2ms/step - loss: 11.4353 - accuracy: 0.2501 - val_loss: 0.0000e+00 - val_accuracy: 0.0000e+00\n",
            "Epoch 3/100\n",
            "148/148 [==============================] - 0s 2ms/step - loss: 11.4353 - accuracy: 0.2501 - val_loss: 0.0000e+00 - val_accuracy: 0.0000e+00\n",
            "Epoch 4/100\n",
            "148/148 [==============================] - 0s 2ms/step - loss: 11.4353 - accuracy: 0.2501 - val_loss: 0.0000e+00 - val_accuracy: 0.0000e+00\n",
            "Epoch 5/100\n",
            "148/148 [==============================] - 0s 2ms/step - loss: 11.4353 - accuracy: 0.2501 - val_loss: 0.0000e+00 - val_accuracy: 0.0000e+00\n",
            "Epoch 6/100\n",
            "148/148 [==============================] - 0s 2ms/step - loss: 11.4353 - accuracy: 0.2501 - val_loss: 0.0000e+00 - val_accuracy: 0.0000e+00\n",
            "Epoch 7/100\n",
            "148/148 [==============================] - 0s 2ms/step - loss: 11.4353 - accuracy: 0.2501 - val_loss: 0.0000e+00 - val_accuracy: 0.0000e+00\n",
            "Epoch 8/100\n",
            "148/148 [==============================] - 0s 2ms/step - loss: 11.4353 - accuracy: 0.2501 - val_loss: 0.0000e+00 - val_accuracy: 0.0000e+00\n",
            "Epoch 9/100\n",
            "148/148 [==============================] - 0s 2ms/step - loss: 11.4353 - accuracy: 0.2501 - val_loss: 0.0000e+00 - val_accuracy: 0.0000e+00\n",
            "Epoch 10/100\n",
            "148/148 [==============================] - 0s 2ms/step - loss: 11.4353 - accuracy: 0.2501 - val_loss: 0.0000e+00 - val_accuracy: 0.0000e+00\n",
            "Epoch 11/100\n",
            "148/148 [==============================] - 0s 2ms/step - loss: 11.4353 - accuracy: 0.2501 - val_loss: 0.0000e+00 - val_accuracy: 0.0000e+00\n",
            "74/74 [==============================] - 0s 2ms/step - loss: 0.0000e+00 - accuracy: 1.0000\n",
            "Epoch 1/100\n",
            "133/148 [=========================>....] - ETA: 0s - loss: 4.2437 - accuracy: 0.7206WARNING:tensorflow:Layers in a Sequential model should only have a single input tensor. Received: inputs=(<tf.Tensor 'IteratorGetNext:0' shape=(None, 10) dtype=float64>, <tf.Tensor 'IteratorGetNext:1' shape=(None, 1) dtype=int64>). Consider rewriting this model with the Functional API.\n"
          ]
        },
        {
          "output_type": "stream",
          "name": "stderr",
          "text": [
            "WARNING:tensorflow:Layers in a Sequential model should only have a single input tensor. Received: inputs=(<tf.Tensor 'IteratorGetNext:0' shape=(None, 10) dtype=float64>, <tf.Tensor 'IteratorGetNext:1' shape=(None, 1) dtype=int64>). Consider rewriting this model with the Functional API.\n"
          ]
        },
        {
          "output_type": "stream",
          "name": "stdout",
          "text": [
            "\b\b\b\b\b\b\b\b\b\b\b\b\b\b\b\b\b\b\b\b\b\b\b\b\b\b\b\b\b\b\b\b\b\b\b\b\b\b\b\b\b\b\b\b\b\b\b\b\b\b\b\b\b\b\b\b\b\b\b\b\b\b\b\b\b\b\b\b\b\b\b\b\b\b\b\b\b\b\b\b\b\b\b\b\r148/148 [==============================] - 1s 3ms/step - loss: 4.2026 - accuracy: 0.7234 - val_loss: 0.0000e+00 - val_accuracy: 0.0000e+00\n",
            "Epoch 2/100\n",
            "148/148 [==============================] - 0s 2ms/step - loss: 4.1595 - accuracy: 0.7272 - val_loss: 0.0000e+00 - val_accuracy: 0.0000e+00\n",
            "Epoch 3/100\n",
            "148/148 [==============================] - 0s 2ms/step - loss: 4.1595 - accuracy: 0.7272 - val_loss: 0.0000e+00 - val_accuracy: 0.0000e+00\n",
            "Epoch 4/100\n",
            "148/148 [==============================] - 0s 2ms/step - loss: 4.1595 - accuracy: 0.7272 - val_loss: 0.0000e+00 - val_accuracy: 0.0000e+00\n",
            "Epoch 5/100\n",
            "148/148 [==============================] - 0s 2ms/step - loss: 4.1595 - accuracy: 0.7272 - val_loss: 0.0000e+00 - val_accuracy: 0.0000e+00\n",
            "Epoch 6/100\n",
            "148/148 [==============================] - 0s 2ms/step - loss: 4.1595 - accuracy: 0.7272 - val_loss: 0.0000e+00 - val_accuracy: 0.0000e+00\n",
            "Epoch 7/100\n",
            "148/148 [==============================] - 0s 2ms/step - loss: 4.1595 - accuracy: 0.7272 - val_loss: 0.0000e+00 - val_accuracy: 0.0000e+00\n",
            "Epoch 8/100\n",
            "148/148 [==============================] - 0s 2ms/step - loss: 4.1595 - accuracy: 0.7272 - val_loss: 0.0000e+00 - val_accuracy: 0.0000e+00\n",
            "Epoch 9/100\n",
            "148/148 [==============================] - 0s 2ms/step - loss: 4.1595 - accuracy: 0.7272 - val_loss: 0.0000e+00 - val_accuracy: 0.0000e+00\n",
            "Epoch 10/100\n",
            "148/148 [==============================] - 0s 2ms/step - loss: 4.1595 - accuracy: 0.7272 - val_loss: 0.0000e+00 - val_accuracy: 0.0000e+00\n",
            "Epoch 11/100\n",
            "148/148 [==============================] - 0s 2ms/step - loss: 4.1595 - accuracy: 0.7272 - val_loss: 0.0000e+00 - val_accuracy: 0.0000e+00\n",
            "74/74 [==============================] - 0s 2ms/step - loss: 14.5535 - accuracy: 0.0456\n",
            "Epoch 1/100\n",
            "126/148 [========================>.....] - ETA: 0s - loss: 7.2608 - accuracy: 0.5228WARNING:tensorflow:Layers in a Sequential model should only have a single input tensor. Received: inputs=(<tf.Tensor 'IteratorGetNext:0' shape=(None, 10) dtype=float64>, <tf.Tensor 'IteratorGetNext:1' shape=(None, 1) dtype=int64>). Consider rewriting this model with the Functional API.\n"
          ]
        },
        {
          "output_type": "stream",
          "name": "stderr",
          "text": [
            "WARNING:tensorflow:Layers in a Sequential model should only have a single input tensor. Received: inputs=(<tf.Tensor 'IteratorGetNext:0' shape=(None, 10) dtype=float64>, <tf.Tensor 'IteratorGetNext:1' shape=(None, 1) dtype=int64>). Consider rewriting this model with the Functional API.\n"
          ]
        },
        {
          "output_type": "stream",
          "name": "stdout",
          "text": [
            "\b\b\b\b\b\b\b\b\b\b\b\b\b\b\b\b\b\b\b\b\b\b\b\b\b\b\b\b\b\b\b\b\b\b\b\b\b\b\b\b\b\b\b\b\b\b\b\b\b\b\b\b\b\b\b\b\b\b\b\b\b\b\b\b\b\b\b\b\b\b\b\b\b\b\b\b\b\b\b\b\b\b\b\b\r148/148 [==============================] - 1s 3ms/step - loss: 7.2905 - accuracy: 0.5210 - val_loss: 0.0000e+00 - val_accuracy: 0.0000e+00\n",
            "Epoch 2/100\n",
            "148/148 [==============================] - 0s 2ms/step - loss: 7.2783 - accuracy: 0.5227 - val_loss: 0.0000e+00 - val_accuracy: 0.0000e+00\n",
            "Epoch 3/100\n",
            "148/148 [==============================] - 0s 2ms/step - loss: 7.2783 - accuracy: 0.5227 - val_loss: 0.0000e+00 - val_accuracy: 0.0000e+00\n",
            "Epoch 4/100\n",
            "148/148 [==============================] - 0s 2ms/step - loss: 7.2783 - accuracy: 0.5227 - val_loss: 0.0000e+00 - val_accuracy: 0.0000e+00\n",
            "Epoch 5/100\n",
            "148/148 [==============================] - 0s 2ms/step - loss: 7.2783 - accuracy: 0.5227 - val_loss: 0.0000e+00 - val_accuracy: 0.0000e+00\n",
            "Epoch 6/100\n",
            "148/148 [==============================] - 0s 2ms/step - loss: 7.2783 - accuracy: 0.5227 - val_loss: 0.0000e+00 - val_accuracy: 0.0000e+00\n",
            "Epoch 7/100\n",
            "148/148 [==============================] - 0s 2ms/step - loss: 7.2783 - accuracy: 0.5227 - val_loss: 0.0000e+00 - val_accuracy: 0.0000e+00\n",
            "Epoch 8/100\n",
            "148/148 [==============================] - 0s 2ms/step - loss: 7.2783 - accuracy: 0.5227 - val_loss: 0.0000e+00 - val_accuracy: 0.0000e+00\n",
            "Epoch 9/100\n",
            "148/148 [==============================] - 0s 2ms/step - loss: 7.2783 - accuracy: 0.5227 - val_loss: 0.0000e+00 - val_accuracy: 0.0000e+00\n",
            "Epoch 10/100\n",
            "148/148 [==============================] - 0s 2ms/step - loss: 7.2783 - accuracy: 0.5227 - val_loss: 0.0000e+00 - val_accuracy: 0.0000e+00\n",
            "Epoch 11/100\n",
            "148/148 [==============================] - 0s 2ms/step - loss: 7.2783 - accuracy: 0.5227 - val_loss: 0.0000e+00 - val_accuracy: 0.0000e+00\n",
            "74/74 [==============================] - 1s 2ms/step - loss: 8.3172 - accuracy: 0.4546\n",
            "Epoch 1/100\n",
            "126/148 [========================>.....] - ETA: 0s - loss: 11.3248 - accuracy: 0.2550WARNING:tensorflow:Layers in a Sequential model should only have a single input tensor. Received: inputs=(<tf.Tensor 'IteratorGetNext:0' shape=(None, 10) dtype=float64>, <tf.Tensor 'IteratorGetNext:1' shape=(None, 1) dtype=int64>). Consider rewriting this model with the Functional API.\n"
          ]
        },
        {
          "output_type": "stream",
          "name": "stderr",
          "text": [
            "WARNING:tensorflow:Layers in a Sequential model should only have a single input tensor. Received: inputs=(<tf.Tensor 'IteratorGetNext:0' shape=(None, 10) dtype=float64>, <tf.Tensor 'IteratorGetNext:1' shape=(None, 1) dtype=int64>). Consider rewriting this model with the Functional API.\n"
          ]
        },
        {
          "output_type": "stream",
          "name": "stdout",
          "text": [
            "\b\b\b\b\b\b\b\b\b\b\b\b\b\b\b\b\b\b\b\b\b\b\b\b\b\b\b\b\b\b\b\b\b\b\b\b\b\b\b\b\b\b\b\b\b\b\b\b\b\b\b\b\b\b\b\b\b\b\b\b\b\b\b\b\b\b\b\b\b\b\b\b\b\b\b\b\b\b\b\b\b\b\b\b\b\r148/148 [==============================] - 1s 3ms/step - loss: 11.3785 - accuracy: 0.2518 - val_loss: 0.0000e+00 - val_accuracy: 0.0000e+00\n",
            "Epoch 2/100\n",
            "148/148 [==============================] - 0s 3ms/step - loss: 11.4353 - accuracy: 0.2501 - val_loss: 0.0000e+00 - val_accuracy: 0.0000e+00\n",
            "Epoch 3/100\n",
            "148/148 [==============================] - 0s 2ms/step - loss: 11.4353 - accuracy: 0.2501 - val_loss: 0.0000e+00 - val_accuracy: 0.0000e+00\n",
            "Epoch 4/100\n",
            "148/148 [==============================] - 0s 3ms/step - loss: 11.4353 - accuracy: 0.2501 - val_loss: 0.0000e+00 - val_accuracy: 0.0000e+00\n",
            "Epoch 5/100\n",
            "148/148 [==============================] - 0s 2ms/step - loss: 11.4353 - accuracy: 0.2501 - val_loss: 0.0000e+00 - val_accuracy: 0.0000e+00\n",
            "Epoch 6/100\n",
            "148/148 [==============================] - 0s 3ms/step - loss: 11.4353 - accuracy: 0.2501 - val_loss: 0.0000e+00 - val_accuracy: 0.0000e+00\n",
            "Epoch 7/100\n",
            "148/148 [==============================] - 0s 2ms/step - loss: 11.4353 - accuracy: 0.2501 - val_loss: 0.0000e+00 - val_accuracy: 0.0000e+00\n",
            "Epoch 8/100\n",
            "148/148 [==============================] - 0s 2ms/step - loss: 11.4353 - accuracy: 0.2501 - val_loss: 0.0000e+00 - val_accuracy: 0.0000e+00\n",
            "Epoch 9/100\n",
            "148/148 [==============================] - 0s 2ms/step - loss: 11.4353 - accuracy: 0.2501 - val_loss: 0.0000e+00 - val_accuracy: 0.0000e+00\n",
            "Epoch 10/100\n",
            "148/148 [==============================] - 0s 2ms/step - loss: 11.4353 - accuracy: 0.2501 - val_loss: 0.0000e+00 - val_accuracy: 0.0000e+00\n",
            "Epoch 11/100\n",
            "148/148 [==============================] - 0s 3ms/step - loss: 11.4353 - accuracy: 0.2501 - val_loss: 0.0000e+00 - val_accuracy: 0.0000e+00\n",
            "74/74 [==============================] - 1s 3ms/step - loss: 0.0000e+00 - accuracy: 1.0000\n",
            "Epoch 1/100\n",
            "128/148 [========================>.....] - ETA: 0s - loss: 4.1571 - accuracy: 0.7234WARNING:tensorflow:Layers in a Sequential model should only have a single input tensor. Received: inputs=(<tf.Tensor 'IteratorGetNext:0' shape=(None, 10) dtype=float64>, <tf.Tensor 'IteratorGetNext:1' shape=(None, 1) dtype=int64>). Consider rewriting this model with the Functional API.\n"
          ]
        },
        {
          "output_type": "stream",
          "name": "stderr",
          "text": [
            "WARNING:tensorflow:Layers in a Sequential model should only have a single input tensor. Received: inputs=(<tf.Tensor 'IteratorGetNext:0' shape=(None, 10) dtype=float64>, <tf.Tensor 'IteratorGetNext:1' shape=(None, 1) dtype=int64>). Consider rewriting this model with the Functional API.\n"
          ]
        },
        {
          "output_type": "stream",
          "name": "stdout",
          "text": [
            "\b\b\b\b\b\b\b\b\b\b\b\b\b\b\b\b\b\b\b\b\b\b\b\b\b\b\b\b\b\b\b\b\b\b\b\b\b\b\b\b\b\b\b\b\b\b\b\b\b\b\b\b\b\b\b\b\b\b\b\b\b\b\b\b\b\b\b\b\b\b\b\b\b\b\b\b\b\b\b\b\b\b\b\b\r148/148 [==============================] - 2s 5ms/step - loss: 4.1389 - accuracy: 0.7251 - val_loss: 0.0000e+00 - val_accuracy: 0.0000e+00\n",
            "Epoch 2/100\n",
            "148/148 [==============================] - 1s 7ms/step - loss: 4.1595 - accuracy: 0.7272 - val_loss: 0.0000e+00 - val_accuracy: 0.0000e+00\n",
            "Epoch 3/100\n",
            "148/148 [==============================] - 0s 3ms/step - loss: 4.1595 - accuracy: 0.7272 - val_loss: 0.0000e+00 - val_accuracy: 0.0000e+00\n",
            "Epoch 4/100\n",
            "148/148 [==============================] - 0s 2ms/step - loss: 4.1595 - accuracy: 0.7272 - val_loss: 0.0000e+00 - val_accuracy: 0.0000e+00\n",
            "Epoch 5/100\n",
            "148/148 [==============================] - 0s 2ms/step - loss: 4.1595 - accuracy: 0.7272 - val_loss: 0.0000e+00 - val_accuracy: 0.0000e+00\n",
            "Epoch 6/100\n",
            "148/148 [==============================] - 0s 2ms/step - loss: 4.1595 - accuracy: 0.7272 - val_loss: 0.0000e+00 - val_accuracy: 0.0000e+00\n",
            "Epoch 7/100\n",
            "148/148 [==============================] - 0s 2ms/step - loss: 4.1595 - accuracy: 0.7272 - val_loss: 0.0000e+00 - val_accuracy: 0.0000e+00\n",
            "Epoch 8/100\n",
            "148/148 [==============================] - 0s 2ms/step - loss: 4.1595 - accuracy: 0.7272 - val_loss: 0.0000e+00 - val_accuracy: 0.0000e+00\n",
            "Epoch 9/100\n",
            "148/148 [==============================] - 0s 2ms/step - loss: 4.1595 - accuracy: 0.7272 - val_loss: 0.0000e+00 - val_accuracy: 0.0000e+00\n",
            "Epoch 10/100\n",
            "148/148 [==============================] - 0s 2ms/step - loss: 4.1595 - accuracy: 0.7272 - val_loss: 0.0000e+00 - val_accuracy: 0.0000e+00\n",
            "Epoch 11/100\n",
            "148/148 [==============================] - 0s 2ms/step - loss: 4.1595 - accuracy: 0.7272 - val_loss: 0.0000e+00 - val_accuracy: 0.0000e+00\n",
            "74/74 [==============================] - 0s 2ms/step - loss: 14.5535 - accuracy: 0.0456\n",
            "Epoch 1/100\n",
            "117/148 [======================>.......] - ETA: 0s - loss: 4.4427 - accuracy: 0.5665WARNING:tensorflow:Layers in a Sequential model should only have a single input tensor. Received: inputs=(<tf.Tensor 'IteratorGetNext:0' shape=(None, 10) dtype=float64>, <tf.Tensor 'IteratorGetNext:1' shape=(None, 1) dtype=int64>). Consider rewriting this model with the Functional API.\n"
          ]
        },
        {
          "output_type": "stream",
          "name": "stderr",
          "text": [
            "WARNING:tensorflow:Layers in a Sequential model should only have a single input tensor. Received: inputs=(<tf.Tensor 'IteratorGetNext:0' shape=(None, 10) dtype=float64>, <tf.Tensor 'IteratorGetNext:1' shape=(None, 1) dtype=int64>). Consider rewriting this model with the Functional API.\n"
          ]
        },
        {
          "output_type": "stream",
          "name": "stdout",
          "text": [
            "\b\b\b\b\b\b\b\b\b\b\b\b\b\b\b\b\b\b\b\b\b\b\b\b\b\b\b\b\b\b\b\b\b\b\b\b\b\b\b\b\b\b\b\b\b\b\b\b\b\b\b\b\b\b\b\b\b\b\b\b\b\b\b\b\b\b\b\b\b\b\b\b\b\b\b\b\b\b\b\b\b\b\b\b\r148/148 [==============================] - 1s 3ms/step - loss: 4.9868 - accuracy: 0.5605 - val_loss: 0.0000e+00 - val_accuracy: 0.0000e+00\n",
            "Epoch 2/100\n",
            "148/148 [==============================] - 0s 2ms/step - loss: 7.2783 - accuracy: 0.5227 - val_loss: 0.0000e+00 - val_accuracy: 0.0000e+00\n",
            "Epoch 3/100\n",
            "148/148 [==============================] - 0s 2ms/step - loss: 7.2783 - accuracy: 0.5227 - val_loss: 0.0000e+00 - val_accuracy: 0.0000e+00\n",
            "Epoch 4/100\n",
            "148/148 [==============================] - 0s 2ms/step - loss: 7.2783 - accuracy: 0.5227 - val_loss: 0.0000e+00 - val_accuracy: 0.0000e+00\n",
            "Epoch 5/100\n",
            "148/148 [==============================] - 0s 2ms/step - loss: 7.2783 - accuracy: 0.5227 - val_loss: 0.0000e+00 - val_accuracy: 0.0000e+00\n",
            "Epoch 6/100\n",
            "148/148 [==============================] - 0s 2ms/step - loss: 7.2783 - accuracy: 0.5227 - val_loss: 0.0000e+00 - val_accuracy: 0.0000e+00\n",
            "Epoch 7/100\n",
            "148/148 [==============================] - 0s 2ms/step - loss: 7.2783 - accuracy: 0.5227 - val_loss: 0.0000e+00 - val_accuracy: 0.0000e+00\n",
            "Epoch 8/100\n",
            "148/148 [==============================] - 0s 2ms/step - loss: 7.2783 - accuracy: 0.5227 - val_loss: 0.0000e+00 - val_accuracy: 0.0000e+00\n",
            "Epoch 9/100\n",
            "148/148 [==============================] - 0s 2ms/step - loss: 7.2783 - accuracy: 0.5227 - val_loss: 0.0000e+00 - val_accuracy: 0.0000e+00\n",
            "Epoch 10/100\n",
            "148/148 [==============================] - 0s 2ms/step - loss: 7.2783 - accuracy: 0.5227 - val_loss: 0.0000e+00 - val_accuracy: 0.0000e+00\n",
            "Epoch 11/100\n",
            "148/148 [==============================] - 0s 2ms/step - loss: 7.2783 - accuracy: 0.5227 - val_loss: 0.0000e+00 - val_accuracy: 0.0000e+00\n",
            "74/74 [==============================] - 0s 2ms/step - loss: 8.3172 - accuracy: 0.4546\n",
            "Epoch 1/100\n",
            "134/148 [==========================>...] - ETA: 0s - loss: 0.5771 - accuracy: 0.7610WARNING:tensorflow:Layers in a Sequential model should only have a single input tensor. Received: inputs=(<tf.Tensor 'IteratorGetNext:0' shape=(None, 10) dtype=float64>, <tf.Tensor 'IteratorGetNext:1' shape=(None, 1) dtype=int64>). Consider rewriting this model with the Functional API.\n"
          ]
        },
        {
          "output_type": "stream",
          "name": "stderr",
          "text": [
            "WARNING:tensorflow:Layers in a Sequential model should only have a single input tensor. Received: inputs=(<tf.Tensor 'IteratorGetNext:0' shape=(None, 10) dtype=float64>, <tf.Tensor 'IteratorGetNext:1' shape=(None, 1) dtype=int64>). Consider rewriting this model with the Functional API.\n"
          ]
        },
        {
          "output_type": "stream",
          "name": "stdout",
          "text": [
            "\b\b\b\b\b\b\b\b\b\b\b\b\b\b\b\b\b\b\b\b\b\b\b\b\b\b\b\b\b\b\b\b\b\b\b\b\b\b\b\b\b\b\b\b\b\b\b\b\b\b\b\b\b\b\b\b\b\b\b\b\b\b\b\b\b\b\b\b\b\b\b\b\b\b\b\b\b\b\b\b\b\b\b\b\r148/148 [==============================] - 1s 3ms/step - loss: 0.5672 - accuracy: 0.7621 - val_loss: 0.0000e+00 - val_accuracy: 0.0000e+00\n",
            "Epoch 2/100\n",
            "148/148 [==============================] - 0s 2ms/step - loss: 3.0769 - accuracy: 0.7581 - val_loss: 0.0000e+00 - val_accuracy: 0.0000e+00\n",
            "Epoch 3/100\n",
            "148/148 [==============================] - 0s 2ms/step - loss: 3.8579 - accuracy: 0.7499 - val_loss: 0.0000e+00 - val_accuracy: 0.0000e+00\n",
            "Epoch 4/100\n",
            "148/148 [==============================] - 0s 2ms/step - loss: 3.8579 - accuracy: 0.7499 - val_loss: 0.0000e+00 - val_accuracy: 0.0000e+00\n",
            "Epoch 5/100\n",
            "148/148 [==============================] - 0s 2ms/step - loss: 3.8579 - accuracy: 0.7499 - val_loss: 0.0000e+00 - val_accuracy: 0.0000e+00\n",
            "Epoch 6/100\n",
            "148/148 [==============================] - 0s 2ms/step - loss: 3.8579 - accuracy: 0.7499 - val_loss: 0.0000e+00 - val_accuracy: 0.0000e+00\n",
            "Epoch 7/100\n",
            "148/148 [==============================] - 0s 2ms/step - loss: 3.8579 - accuracy: 0.7499 - val_loss: 0.0000e+00 - val_accuracy: 0.0000e+00\n",
            "Epoch 8/100\n",
            "148/148 [==============================] - 0s 2ms/step - loss: 3.8579 - accuracy: 0.7499 - val_loss: 0.0000e+00 - val_accuracy: 0.0000e+00\n",
            "Epoch 9/100\n",
            "148/148 [==============================] - 0s 2ms/step - loss: 3.8579 - accuracy: 0.7499 - val_loss: 0.0000e+00 - val_accuracy: 0.0000e+00\n",
            "Epoch 10/100\n",
            "148/148 [==============================] - 0s 2ms/step - loss: 3.8579 - accuracy: 0.7499 - val_loss: 0.0000e+00 - val_accuracy: 0.0000e+00\n",
            "Epoch 11/100\n",
            "148/148 [==============================] - 0s 2ms/step - loss: 3.8579 - accuracy: 0.7499 - val_loss: 0.0000e+00 - val_accuracy: 0.0000e+00\n",
            "74/74 [==============================] - 0s 2ms/step - loss: 15.4249 - accuracy: 0.0000e+00\n",
            "Epoch 1/100\n",
            "196/222 [=========================>....] - ETA: 0s - loss: 7.6026 - accuracy: 0.4997WARNING:tensorflow:Layers in a Sequential model should only have a single input tensor. Received: inputs=(<tf.Tensor 'IteratorGetNext:0' shape=(None, 10) dtype=float64>, <tf.Tensor 'IteratorGetNext:1' shape=(None, 1) dtype=int64>). Consider rewriting this model with the Functional API.\n"
          ]
        },
        {
          "output_type": "stream",
          "name": "stderr",
          "text": [
            "WARNING:tensorflow:Layers in a Sequential model should only have a single input tensor. Received: inputs=(<tf.Tensor 'IteratorGetNext:0' shape=(None, 10) dtype=float64>, <tf.Tensor 'IteratorGetNext:1' shape=(None, 1) dtype=int64>). Consider rewriting this model with the Functional API.\n"
          ]
        },
        {
          "output_type": "stream",
          "name": "stdout",
          "text": [
            "\b\b\b\b\b\b\b\b\b\b\b\b\b\b\b\b\b\b\b\b\b\b\b\b\b\b\b\b\b\b\b\b\b\b\b\b\b\b\b\b\b\b\b\b\b\b\b\b\b\b\b\b\b\b\b\b\b\b\b\b\b\b\b\b\b\b\b\b\b\b\b\b\b\b\b\b\b\b\b\b\b\b\b\b\r222/222 [==============================] - 1s 2ms/step - loss: 7.6267 - accuracy: 0.4983 - val_loss: 0.0000e+00 - val_accuracy: 0.0000e+00\n",
            "Epoch 2/100\n",
            "222/222 [==============================] - 0s 2ms/step - loss: 7.6246 - accuracy: 0.5000 - val_loss: 0.0000e+00 - val_accuracy: 0.0000e+00\n",
            "Epoch 3/100\n",
            "222/222 [==============================] - 0s 2ms/step - loss: 7.6246 - accuracy: 0.5000 - val_loss: 0.0000e+00 - val_accuracy: 0.0000e+00\n",
            "Epoch 4/100\n",
            "222/222 [==============================] - 0s 2ms/step - loss: 7.6246 - accuracy: 0.5000 - val_loss: 0.0000e+00 - val_accuracy: 0.0000e+00\n",
            "Epoch 5/100\n",
            "222/222 [==============================] - 0s 2ms/step - loss: 7.6246 - accuracy: 0.5000 - val_loss: 0.0000e+00 - val_accuracy: 0.0000e+00\n",
            "Epoch 6/100\n",
            "222/222 [==============================] - 0s 2ms/step - loss: 7.6246 - accuracy: 0.5000 - val_loss: 0.0000e+00 - val_accuracy: 0.0000e+00\n",
            "Epoch 7/100\n",
            "222/222 [==============================] - 0s 2ms/step - loss: 7.6246 - accuracy: 0.5000 - val_loss: 0.0000e+00 - val_accuracy: 0.0000e+00\n",
            "Epoch 8/100\n",
            "222/222 [==============================] - 0s 2ms/step - loss: 7.6246 - accuracy: 0.5000 - val_loss: 0.0000e+00 - val_accuracy: 0.0000e+00\n",
            "Epoch 9/100\n",
            "222/222 [==============================] - 0s 2ms/step - loss: 7.6246 - accuracy: 0.5000 - val_loss: 0.0000e+00 - val_accuracy: 0.0000e+00\n",
            "Epoch 10/100\n",
            "222/222 [==============================] - 0s 2ms/step - loss: 7.6246 - accuracy: 0.5000 - val_loss: 0.0000e+00 - val_accuracy: 0.0000e+00\n",
            "Epoch 11/100\n",
            "222/222 [==============================] - 0s 2ms/step - loss: 7.6246 - accuracy: 0.5000 - val_loss: 0.0000e+00 - val_accuracy: 0.0000e+00\n"
          ]
        },
        {
          "output_type": "execute_result",
          "data": {
            "text/plain": [
              "RandomizedSearchCV(cv=3,\n",
              "                   estimator=<keras.wrappers.scikit_learn.KerasRegressor object at 0x7f0316aff7d0>,\n",
              "                   param_distributions={'epochs': [10, 20, 30, 40, 50, 60, 70,\n",
              "                                                   80, 90, 100, 110, 120, 130,\n",
              "                                                   140, 150, 160, 170, 180, 190,\n",
              "                                                   200],\n",
              "                                        'learning_rate': [0.001, 0.01, 0.05,\n",
              "                                                          0.075, 0.1, 0.15, 0.2,\n",
              "                                                          0.25, 0.3, 0.35, 0.4,\n",
              "                                                          0.45, 0.5],\n",
              "                                        'n_hidden': [0, 1, 2, 3, 4, 5, 6, 7],\n",
              "                                        'n_neurons': array([ 0,  1,  2,  3,  4,  5,  6,  7,  8,  9, 10, 11, 12, 13, 14, 15, 16,\n",
              "       17, 18, 19, 20, 21, 22, 23, 24, 25, 26, 27, 28, 29])})"
            ]
          },
          "metadata": {},
          "execution_count": 90
        }
      ]
    },
    {
      "cell_type": "code",
      "source": [
        "random_searchCV.best_params_"
      ],
      "metadata": {
        "colab": {
          "base_uri": "https://localhost:8080/"
        },
        "id": "F48VMaBNKJUm",
        "outputId": "bb09ec91-3bf4-4152-aaec-dc90419d4b90"
      },
      "execution_count": 91,
      "outputs": [
        {
          "output_type": "execute_result",
          "data": {
            "text/plain": [
              "{'epochs': 100, 'learning_rate': 0.075, 'n_hidden': 7, 'n_neurons': 7}"
            ]
          },
          "metadata": {},
          "execution_count": 91
        }
      ]
    },
    {
      "cell_type": "code",
      "source": [
        "best_model = build_model(7,7,0.075,X.shape[1])"
      ],
      "metadata": {
        "id": "wgbnbHZhNZaI"
      },
      "execution_count": 93,
      "outputs": []
    },
    {
      "cell_type": "code",
      "source": [
        "keras_reg = keras.wrappers.scikit_learn.KerasRegressor(best_model)"
      ],
      "metadata": {
        "colab": {
          "base_uri": "https://localhost:8080/"
        },
        "id": "YqBjkOjfOXy9",
        "outputId": "0df5721c-38f3-492b-858f-b4d0e31e38ad"
      },
      "execution_count": 95,
      "outputs": [
        {
          "output_type": "stream",
          "name": "stderr",
          "text": [
            "/usr/local/lib/python3.7/dist-packages/ipykernel_launcher.py:1: DeprecationWarning: KerasRegressor is deprecated, use Sci-Keras (https://github.com/adriangb/scikeras) instead. See https://www.adriangb.com/scikeras/stable/migration.html for help migrating.\n",
            "  \"\"\"Entry point for launching an IPython kernel.\n"
          ]
        }
      ]
    },
    {
      "cell_type": "code",
      "source": [
        ""
      ],
      "metadata": {
        "id": "i6MRl6eORjmZ"
      },
      "execution_count": null,
      "outputs": []
    }
  ]
}